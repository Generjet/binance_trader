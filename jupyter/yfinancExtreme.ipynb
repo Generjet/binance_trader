{
 "cells": [
  {
   "cell_type": "code",
   "execution_count": 739,
   "metadata": {},
   "outputs": [
    {
     "name": "stdout",
     "output_type": "stream",
     "text": [
      "[*********************100%***********************]  1 of 1 completed\n"
     ]
    },
    {
     "data": {
      "text/html": [
       "<div>\n",
       "<style scoped>\n",
       "    .dataframe tbody tr th:only-of-type {\n",
       "        vertical-align: middle;\n",
       "    }\n",
       "\n",
       "    .dataframe tbody tr th {\n",
       "        vertical-align: top;\n",
       "    }\n",
       "\n",
       "    .dataframe thead th {\n",
       "        text-align: right;\n",
       "    }\n",
       "</style>\n",
       "<table border=\"1\" class=\"dataframe\">\n",
       "  <thead>\n",
       "    <tr style=\"text-align: right;\">\n",
       "      <th></th>\n",
       "      <th>Open</th>\n",
       "      <th>High</th>\n",
       "      <th>Low</th>\n",
       "      <th>Close</th>\n",
       "      <th>Adj Close</th>\n",
       "      <th>Volume</th>\n",
       "    </tr>\n",
       "    <tr>\n",
       "      <th>Date</th>\n",
       "      <th></th>\n",
       "      <th></th>\n",
       "      <th></th>\n",
       "      <th></th>\n",
       "      <th></th>\n",
       "      <th></th>\n",
       "    </tr>\n",
       "  </thead>\n",
       "  <tbody>\n",
       "    <tr>\n",
       "      <th>2014-09-17</th>\n",
       "      <td>465.864014</td>\n",
       "      <td>468.174011</td>\n",
       "      <td>452.421997</td>\n",
       "      <td>457.334015</td>\n",
       "      <td>457.334015</td>\n",
       "      <td>21056800</td>\n",
       "    </tr>\n",
       "    <tr>\n",
       "      <th>2014-09-18</th>\n",
       "      <td>456.859985</td>\n",
       "      <td>456.859985</td>\n",
       "      <td>413.104004</td>\n",
       "      <td>424.440002</td>\n",
       "      <td>424.440002</td>\n",
       "      <td>34483200</td>\n",
       "    </tr>\n",
       "    <tr>\n",
       "      <th>2014-09-19</th>\n",
       "      <td>424.102997</td>\n",
       "      <td>427.834991</td>\n",
       "      <td>384.532013</td>\n",
       "      <td>394.795990</td>\n",
       "      <td>394.795990</td>\n",
       "      <td>37919700</td>\n",
       "    </tr>\n",
       "    <tr>\n",
       "      <th>2014-09-20</th>\n",
       "      <td>394.673004</td>\n",
       "      <td>423.295990</td>\n",
       "      <td>389.882996</td>\n",
       "      <td>408.903992</td>\n",
       "      <td>408.903992</td>\n",
       "      <td>36863600</td>\n",
       "    </tr>\n",
       "    <tr>\n",
       "      <th>2014-09-21</th>\n",
       "      <td>408.084991</td>\n",
       "      <td>412.425995</td>\n",
       "      <td>393.181000</td>\n",
       "      <td>398.821014</td>\n",
       "      <td>398.821014</td>\n",
       "      <td>26580100</td>\n",
       "    </tr>\n",
       "    <tr>\n",
       "      <th>...</th>\n",
       "      <td>...</td>\n",
       "      <td>...</td>\n",
       "      <td>...</td>\n",
       "      <td>...</td>\n",
       "      <td>...</td>\n",
       "      <td>...</td>\n",
       "    </tr>\n",
       "    <tr>\n",
       "      <th>2023-06-30</th>\n",
       "      <td>30441.353516</td>\n",
       "      <td>31256.863281</td>\n",
       "      <td>29600.275391</td>\n",
       "      <td>30477.251953</td>\n",
       "      <td>30477.251953</td>\n",
       "      <td>26387306197</td>\n",
       "    </tr>\n",
       "    <tr>\n",
       "      <th>2023-07-01</th>\n",
       "      <td>30471.847656</td>\n",
       "      <td>30641.289062</td>\n",
       "      <td>30328.865234</td>\n",
       "      <td>30590.078125</td>\n",
       "      <td>30590.078125</td>\n",
       "      <td>9086606733</td>\n",
       "    </tr>\n",
       "    <tr>\n",
       "      <th>2023-07-02</th>\n",
       "      <td>30587.269531</td>\n",
       "      <td>30766.140625</td>\n",
       "      <td>30264.019531</td>\n",
       "      <td>30620.769531</td>\n",
       "      <td>30620.769531</td>\n",
       "      <td>10533418042</td>\n",
       "    </tr>\n",
       "    <tr>\n",
       "      <th>2023-07-03</th>\n",
       "      <td>30624.515625</td>\n",
       "      <td>31375.613281</td>\n",
       "      <td>30586.513672</td>\n",
       "      <td>31156.439453</td>\n",
       "      <td>31156.439453</td>\n",
       "      <td>15271884873</td>\n",
       "    </tr>\n",
       "    <tr>\n",
       "      <th>2023-07-04</th>\n",
       "      <td>31140.369141</td>\n",
       "      <td>31325.197266</td>\n",
       "      <td>30911.646484</td>\n",
       "      <td>31024.062500</td>\n",
       "      <td>31024.062500</td>\n",
       "      <td>16097127424</td>\n",
       "    </tr>\n",
       "  </tbody>\n",
       "</table>\n",
       "<p>3213 rows × 6 columns</p>\n",
       "</div>"
      ],
      "text/plain": [
       "                    Open          High           Low         Close   \n",
       "Date                                                                 \n",
       "2014-09-17    465.864014    468.174011    452.421997    457.334015  \\\n",
       "2014-09-18    456.859985    456.859985    413.104004    424.440002   \n",
       "2014-09-19    424.102997    427.834991    384.532013    394.795990   \n",
       "2014-09-20    394.673004    423.295990    389.882996    408.903992   \n",
       "2014-09-21    408.084991    412.425995    393.181000    398.821014   \n",
       "...                  ...           ...           ...           ...   \n",
       "2023-06-30  30441.353516  31256.863281  29600.275391  30477.251953   \n",
       "2023-07-01  30471.847656  30641.289062  30328.865234  30590.078125   \n",
       "2023-07-02  30587.269531  30766.140625  30264.019531  30620.769531   \n",
       "2023-07-03  30624.515625  31375.613281  30586.513672  31156.439453   \n",
       "2023-07-04  31140.369141  31325.197266  30911.646484  31024.062500   \n",
       "\n",
       "               Adj Close       Volume  \n",
       "Date                                   \n",
       "2014-09-17    457.334015     21056800  \n",
       "2014-09-18    424.440002     34483200  \n",
       "2014-09-19    394.795990     37919700  \n",
       "2014-09-20    408.903992     36863600  \n",
       "2014-09-21    398.821014     26580100  \n",
       "...                  ...          ...  \n",
       "2023-06-30  30477.251953  26387306197  \n",
       "2023-07-01  30590.078125   9086606733  \n",
       "2023-07-02  30620.769531  10533418042  \n",
       "2023-07-03  31156.439453  15271884873  \n",
       "2023-07-04  31024.062500  16097127424  \n",
       "\n",
       "[3213 rows x 6 columns]"
      ]
     },
     "execution_count": 739,
     "metadata": {},
     "output_type": "execute_result"
    }
   ],
   "source": [
    "import yfinance as yf\n",
    "import mplfinance as mpf\n",
    "from binance.client import Client\n",
    "import os\n",
    "import ta\n",
    "import time\n",
    "import pandas as pd\n",
    "import numpy as np\n",
    "import matplotlib.pyplot as plt\n",
    "import plotly.graph_objects as go\n",
    "import polars as pl\n",
    "import datetime\n",
    "\n",
    "data = yf.download(tickers='BTC-USD', period='max', interval='1d')\n",
    "data"
   ]
  },
  {
   "attachments": {},
   "cell_type": "markdown",
   "metadata": {},
   "source": [
    "SLOPE, INTERCEPTS and difference STEPS"
   ]
  },
  {
   "cell_type": "code",
   "execution_count": 858,
   "metadata": {},
   "outputs": [],
   "source": [
    "# 2 argument l avna\n",
    "def direction_and_steps(datapoints):\n",
    "    if datapoints.index[0] > datapoints.index[1]:\n",
    "        startIndex = datapoints.index[0]\n",
    "        endIndex = datapoints.index[1]\n",
    "    else:\n",
    "        startIndex = datapoints.index[1]\n",
    "        endIndex = datapoints.index[0]\n",
    "    a = datapoints.head(1)\n",
    "    b = datapoints.tail(1)\n",
    "    a_value = a[0]\n",
    "    b_value = b[0]\n",
    "    ascending = False\n",
    "\n",
    "# ========================\n",
    "    if b.index < a.index:\n",
    "        oldIndex = b.index\n",
    "        newIndex = a.index\n",
    "        if b_value > a_value:\n",
    "            max = b_value\n",
    "            min = a_value\n",
    "            ascending = False\n",
    "            print(\"descending\")\n",
    "        else:\n",
    "            max = a_value\n",
    "            min = b_value\n",
    "            ascending = True\n",
    "            print('ascending')\n",
    "    elif b.index > a.index:\n",
    "        oldIndex = a.index\n",
    "        newIndex = b.index\n",
    "        if b_value > a_value:\n",
    "            max = b_value\n",
    "            min = a_value\n",
    "            ascending = True\n",
    "            print('ascending')\n",
    "        else:\n",
    "            max = a_value\n",
    "            min = b_value\n",
    "            ascending = False\n",
    "            print('descending')\n",
    "\n",
    "    top_diff = max - min\n",
    "    print('difference = ', top_diff)\n",
    "    filtered = df[(df.index <= startIndex) & (df.index >= endIndex)]\n",
    "    numrange = len(filtered)\n",
    "    print('range =', numrange)\n",
    "    diff_step = top_diff/numrange\n",
    "    return diff_step, ascending\n",
    "\n",
    "resistance_points = resistances.sort_values(ascending=False).tail(2)\n",
    "\n",
    "diff_step, lineAscending = direction_and_steps(resistance_points)\n",
    "print('diff = ', diff_step)\n",
    "lineAscending"
   ]
  },
  {
   "attachments": {},
   "cell_type": "markdown",
   "metadata": {},
   "source": [
    "RETURN min & max from 2 POINTS"
   ]
  },
  {
   "cell_type": "code",
   "execution_count": 700,
   "metadata": {},
   "outputs": [],
   "source": [
    "def min_max(datapoints):\n",
    "    a = datapoints.head(1)\n",
    "    b = datapoints.tail(1)\n",
    "    a_value = a[0]\n",
    "    b_value = b[0]\n",
    "    if b_value > a_value:\n",
    "        max = b_value\n",
    "        min = a_value\n",
    "        print(\"max= \", max, \"min= \", min)\n",
    "    else:\n",
    "        max = a_value\n",
    "        min = b_value\n",
    "        print(\"max= \", max, \"min= \", min)\n",
    "    return min, max"
   ]
  },
  {
   "cell_type": "code",
   "execution_count": 701,
   "metadata": {},
   "outputs": [
    {
     "name": "stdout",
     "output_type": "stream",
     "text": [
      "max=  241.97799682617188 min=  237.90899658203125\n"
     ]
    },
    {
     "data": {
      "text/plain": [
       "(237.90899658203125, 241.97799682617188)"
      ]
     },
     "execution_count": 701,
     "metadata": {},
     "output_type": "execute_result"
    }
   ],
   "source": [
    "min_max(resistance_points)"
   ]
  },
  {
   "attachments": {},
   "cell_type": "markdown",
   "metadata": {},
   "source": [
    "EXTREMUM hoorondiin data range easify"
   ]
  },
  {
   "cell_type": "code",
   "execution_count": 702,
   "metadata": {},
   "outputs": [
    {
     "name": "stdout",
     "output_type": "stream",
     "text": [
      "started=  2015-04-22 00:00:00\n",
      "ended = 2015-05-24 00:00:00\n"
     ]
    }
   ],
   "source": [
    "def start_end_ragne(datapoints):\n",
    "    if datapoints.index[1] > datapoints.index[0]:\n",
    "        startIndex = datapoints.index[0]\n",
    "        endIndex = datapoints.index[1]\n",
    "    else:\n",
    "        startIndex = datapoints.index[1]\n",
    "        endIndex = datapoints.index[0]\n",
    "    return startIndex, endIndex\n",
    "\n",
    "start, end = start_end_ragne(resistance_points)\n",
    "print(\"started= \", start)\n",
    "print('ended =', end)"
   ]
  },
  {
   "attachments": {},
   "cell_type": "markdown",
   "metadata": {},
   "source": [
    "LEVELS"
   ]
  },
  {
   "cell_type": "code",
   "execution_count": 704,
   "metadata": {},
   "outputs": [
    {
     "data": {
      "text/plain": [
       "Date\n",
       "2015-04-22    237.908997\n",
       "2015-05-03    243.240005\n",
       "2015-05-09    247.804001\n",
       "2015-05-24    241.977997\n",
       "2015-06-17    256.852997\n",
       "2015-06-30    267.867004\n",
       "Name: High, dtype: float64"
      ]
     },
     "execution_count": 704,
     "metadata": {},
     "output_type": "execute_result"
    }
   ],
   "source": [
    "resistances"
   ]
  },
  {
   "attachments": {},
   "cell_type": "markdown",
   "metadata": {},
   "source": [
    "RESISTANCE until NOW"
   ]
  },
  {
   "cell_type": "code",
   "execution_count": 852,
   "metadata": {},
   "outputs": [],
   "source": [
    "def resistance(df):\n",
    "    # print(\"Calculating resistance\")\n",
    "    resistances = df[df.High == df.High.rolling(10, center=True).max()].High\n",
    "    resistance_points = resistances.sort_values(ascending=True).tail(2)\n",
    "\n",
    "    # resistance coefficients\n",
    "    diff_step, lineAscending = direction_and_steps(resistance_points)\n",
    "    start, end = start_end_ragne(resistance_points)\n",
    "    # today = df[(df.index > resistance_points.index[0])]\n",
    "    today = df[(df.index > start)]\n",
    "\n",
    "    x_values = []\n",
    "    y_values = []\n",
    "\n",
    "    min, max = min_max(resistance_points)\n",
    "    y = resistance_points[0]\n",
    "    # today['resistance'] = np.nan\n",
    "\n",
    "    if lineAscending == True:\n",
    "        y = min\n",
    "        for i in today.index:\n",
    "            y = y + diff_step\n",
    "            y_values.append(y)\n",
    "            x_values.append(i)\n",
    "            # today.loc[today.index==i, 'resistance'] = y\n",
    "            df.loc[df.index==i, 'resistance'] = y\n",
    "    elif lineAscending == False:\n",
    "        y = max\n",
    "        for i in today.index:\n",
    "            y = y - diff_step\n",
    "            y_values.append(y)\n",
    "            x_values.append(i)\n",
    "            # today.loc[today.index==i, 'resistance'] = y\n",
    "            df.loc[df.index==i, 'resistance'] = y\n",
    "\n",
    "    print(\"Resistance ascending\", lineAscending)\n",
    "    print(\"Diff points\", diff_step)\n",
    "    # y_values\n",
    "# ==== run test ====\n",
    "resistance(df)"
   ]
  },
  {
   "attachments": {},
   "cell_type": "markdown",
   "metadata": {},
   "source": [
    "SUPPORT"
   ]
  },
  {
   "cell_type": "code",
   "execution_count": 853,
   "metadata": {},
   "outputs": [],
   "source": [
    "def support(df):\n",
    "    supports = df[df.Low == df.Low.rolling(10, center=True).min()].Low\n",
    "    support_points = supports.sort_values(ascending=True).head(2)\n",
    "    \n",
    "    # start_point\n",
    "    start, end = start_end_ragne(support_points)\n",
    "    support_today = df[(df.index > start)]\n",
    "    # support coefficients\n",
    "    diff_step, lineAscending = direction_and_steps(support_points)\n",
    "\n",
    "    numrange = len(support_today)\n",
    "    x_values = []\n",
    "    y_values = []\n",
    "\n",
    "    min, max = min_max(support_points)\n",
    "    y = support_points[0]\n",
    "\n",
    "    if lineAscending == True:\n",
    "        y = min\n",
    "        for i in support_today.index:\n",
    "            y = y + diff_step\n",
    "            y_values.append(y)\n",
    "            x_values.append(i)\n",
    "            df.loc[df.index==i, 'support'] = y\n",
    "    elif lineAscending == False:\n",
    "        y = max\n",
    "        for i in support_today.index:\n",
    "            y = y - diff_step\n",
    "            y_values.append(y)\n",
    "            x_values.append(i)\n",
    "            df.loc[df.index==i, 'support'] = y\n",
    "\n",
    "# run test\n",
    "# support(df)"
   ]
  },
  {
   "attachments": {},
   "cell_type": "markdown",
   "metadata": {},
   "source": [
    "MACD & RSI & STOCHASTIC OSCILLATOR"
   ]
  },
  {
   "cell_type": "code",
   "execution_count": 868,
   "metadata": {},
   "outputs": [],
   "source": [
    "data['macd'] = np.nan\n",
    "data['rsi'] = np.nan\n",
    "data['%D'] = np.nan\n",
    "data['%K'] = np.nan\n",
    "df = data[0:100]\n",
    "\n",
    "def applytechnicals(df):\n",
    "    # window for 14 days and smooth window for 3days\n",
    "    df['%K'] = ta.momentum.stoch(df.High, df.Low, df.Close, window=14, smooth_window=3)\n",
    "    df['%D'] = df['%K'].rolling(3).mean()\n",
    "    df['rsi'] = ta.momentum.rsi(df.Close, window=14)\n",
    "    df['macd'] = ta.trend.macd_diff(df.Close)\n",
    "    df.dropna(inplace=True)\n",
    "    return df"
   ]
  },
  {
   "attachments": {},
   "cell_type": "markdown",
   "metadata": {},
   "source": [
    "BUY SIGNALS"
   ]
  },
  {
   "cell_type": "code",
   "execution_count": 869,
   "metadata": {},
   "outputs": [],
   "source": [
    "def decide():\n",
    "    # df['Buy'] = np.where( (df['%K'].between(20,80)) & (df['%D'].between(20,80)) & (df.rsi > 50) & (df.macd > 0), 1, -1)\n",
    "    # df['Buy'] = np.where( (df.rsi > 50) & (df.macd > 0), df[\"Close\"], np.nan)\n",
    "    # df['Buy'] = np.where( (df['%K'].between(2,80)) & (df['%D'].between(2,80)) & (df['%K'] < df['%D'] ) & (df.rsi < 55) , df[\"Close\"], np.nan)\n",
    "    df['Buy'] = np.where( (df['%K'] < df['%D'] ) & (df.rsi < 55) , df[\"Close\"], np.nan)"
   ]
  },
  {
   "cell_type": "code",
   "execution_count": 877,
   "metadata": {},
   "outputs": [
    {
     "data": {
      "text/html": [
       "<div>\n",
       "<style scoped>\n",
       "    .dataframe tbody tr th:only-of-type {\n",
       "        vertical-align: middle;\n",
       "    }\n",
       "\n",
       "    .dataframe tbody tr th {\n",
       "        vertical-align: top;\n",
       "    }\n",
       "\n",
       "    .dataframe thead th {\n",
       "        text-align: right;\n",
       "    }\n",
       "</style>\n",
       "<table border=\"1\" class=\"dataframe\">\n",
       "  <thead>\n",
       "    <tr style=\"text-align: right;\">\n",
       "      <th></th>\n",
       "      <th>Open</th>\n",
       "      <th>High</th>\n",
       "      <th>Low</th>\n",
       "      <th>Close</th>\n",
       "      <th>Adj Close</th>\n",
       "      <th>Volume</th>\n",
       "      <th>macd</th>\n",
       "      <th>rsi</th>\n",
       "      <th>%D</th>\n",
       "      <th>%K</th>\n",
       "      <th>resistance</th>\n",
       "      <th>support</th>\n",
       "      <th>Buy</th>\n",
       "    </tr>\n",
       "    <tr>\n",
       "      <th>Date</th>\n",
       "      <th></th>\n",
       "      <th></th>\n",
       "      <th></th>\n",
       "      <th></th>\n",
       "      <th></th>\n",
       "      <th></th>\n",
       "      <th></th>\n",
       "      <th></th>\n",
       "      <th></th>\n",
       "      <th></th>\n",
       "      <th></th>\n",
       "      <th></th>\n",
       "      <th></th>\n",
       "    </tr>\n",
       "  </thead>\n",
       "  <tbody>\n",
       "    <tr>\n",
       "      <th>2014-09-17</th>\n",
       "      <td>465.864014</td>\n",
       "      <td>468.174011</td>\n",
       "      <td>452.421997</td>\n",
       "      <td>457.334015</td>\n",
       "      <td>457.334015</td>\n",
       "      <td>21056800</td>\n",
       "      <td>NaN</td>\n",
       "      <td>NaN</td>\n",
       "      <td>NaN</td>\n",
       "      <td>NaN</td>\n",
       "      <td>NaN</td>\n",
       "      <td>NaN</td>\n",
       "      <td>NaN</td>\n",
       "    </tr>\n",
       "    <tr>\n",
       "      <th>2014-09-18</th>\n",
       "      <td>456.859985</td>\n",
       "      <td>456.859985</td>\n",
       "      <td>413.104004</td>\n",
       "      <td>424.440002</td>\n",
       "      <td>424.440002</td>\n",
       "      <td>34483200</td>\n",
       "      <td>NaN</td>\n",
       "      <td>NaN</td>\n",
       "      <td>NaN</td>\n",
       "      <td>NaN</td>\n",
       "      <td>NaN</td>\n",
       "      <td>NaN</td>\n",
       "      <td>NaN</td>\n",
       "    </tr>\n",
       "    <tr>\n",
       "      <th>2014-09-19</th>\n",
       "      <td>424.102997</td>\n",
       "      <td>427.834991</td>\n",
       "      <td>384.532013</td>\n",
       "      <td>394.795990</td>\n",
       "      <td>394.795990</td>\n",
       "      <td>37919700</td>\n",
       "      <td>NaN</td>\n",
       "      <td>NaN</td>\n",
       "      <td>NaN</td>\n",
       "      <td>NaN</td>\n",
       "      <td>NaN</td>\n",
       "      <td>NaN</td>\n",
       "      <td>NaN</td>\n",
       "    </tr>\n",
       "    <tr>\n",
       "      <th>2014-09-20</th>\n",
       "      <td>394.673004</td>\n",
       "      <td>423.295990</td>\n",
       "      <td>389.882996</td>\n",
       "      <td>408.903992</td>\n",
       "      <td>408.903992</td>\n",
       "      <td>36863600</td>\n",
       "      <td>NaN</td>\n",
       "      <td>NaN</td>\n",
       "      <td>NaN</td>\n",
       "      <td>NaN</td>\n",
       "      <td>NaN</td>\n",
       "      <td>NaN</td>\n",
       "      <td>NaN</td>\n",
       "    </tr>\n",
       "    <tr>\n",
       "      <th>2014-09-21</th>\n",
       "      <td>408.084991</td>\n",
       "      <td>412.425995</td>\n",
       "      <td>393.181000</td>\n",
       "      <td>398.821014</td>\n",
       "      <td>398.821014</td>\n",
       "      <td>26580100</td>\n",
       "      <td>NaN</td>\n",
       "      <td>NaN</td>\n",
       "      <td>NaN</td>\n",
       "      <td>NaN</td>\n",
       "      <td>NaN</td>\n",
       "      <td>NaN</td>\n",
       "      <td>NaN</td>\n",
       "    </tr>\n",
       "    <tr>\n",
       "      <th>...</th>\n",
       "      <td>...</td>\n",
       "      <td>...</td>\n",
       "      <td>...</td>\n",
       "      <td>...</td>\n",
       "      <td>...</td>\n",
       "      <td>...</td>\n",
       "      <td>...</td>\n",
       "      <td>...</td>\n",
       "      <td>...</td>\n",
       "      <td>...</td>\n",
       "      <td>...</td>\n",
       "      <td>...</td>\n",
       "      <td>...</td>\n",
       "    </tr>\n",
       "    <tr>\n",
       "      <th>2014-12-21</th>\n",
       "      <td>329.542999</td>\n",
       "      <td>329.628998</td>\n",
       "      <td>318.903015</td>\n",
       "      <td>320.842987</td>\n",
       "      <td>320.842987</td>\n",
       "      <td>15207600</td>\n",
       "      <td>NaN</td>\n",
       "      <td>NaN</td>\n",
       "      <td>NaN</td>\n",
       "      <td>NaN</td>\n",
       "      <td>511.274103</td>\n",
       "      <td>304.630288</td>\n",
       "      <td>NaN</td>\n",
       "    </tr>\n",
       "    <tr>\n",
       "      <th>2014-12-22</th>\n",
       "      <td>321.067993</td>\n",
       "      <td>334.117004</td>\n",
       "      <td>320.424988</td>\n",
       "      <td>331.885986</td>\n",
       "      <td>331.885986</td>\n",
       "      <td>22315100</td>\n",
       "      <td>NaN</td>\n",
       "      <td>NaN</td>\n",
       "      <td>NaN</td>\n",
       "      <td>NaN</td>\n",
       "      <td>512.738457</td>\n",
       "      <td>304.829435</td>\n",
       "      <td>NaN</td>\n",
       "    </tr>\n",
       "    <tr>\n",
       "      <th>2014-12-23</th>\n",
       "      <td>332.016998</td>\n",
       "      <td>336.286987</td>\n",
       "      <td>329.601990</td>\n",
       "      <td>334.571991</td>\n",
       "      <td>334.571991</td>\n",
       "      <td>16574200</td>\n",
       "      <td>NaN</td>\n",
       "      <td>NaN</td>\n",
       "      <td>NaN</td>\n",
       "      <td>NaN</td>\n",
       "      <td>514.202812</td>\n",
       "      <td>305.028582</td>\n",
       "      <td>NaN</td>\n",
       "    </tr>\n",
       "    <tr>\n",
       "      <th>2014-12-24</th>\n",
       "      <td>334.385010</td>\n",
       "      <td>334.740997</td>\n",
       "      <td>321.356995</td>\n",
       "      <td>322.533997</td>\n",
       "      <td>322.533997</td>\n",
       "      <td>15092300</td>\n",
       "      <td>NaN</td>\n",
       "      <td>NaN</td>\n",
       "      <td>NaN</td>\n",
       "      <td>NaN</td>\n",
       "      <td>515.667166</td>\n",
       "      <td>305.227728</td>\n",
       "      <td>NaN</td>\n",
       "    </tr>\n",
       "    <tr>\n",
       "      <th>2014-12-25</th>\n",
       "      <td>322.286011</td>\n",
       "      <td>322.670013</td>\n",
       "      <td>316.958008</td>\n",
       "      <td>319.007996</td>\n",
       "      <td>319.007996</td>\n",
       "      <td>9883640</td>\n",
       "      <td>NaN</td>\n",
       "      <td>NaN</td>\n",
       "      <td>NaN</td>\n",
       "      <td>NaN</td>\n",
       "      <td>517.131521</td>\n",
       "      <td>305.426875</td>\n",
       "      <td>NaN</td>\n",
       "    </tr>\n",
       "  </tbody>\n",
       "</table>\n",
       "<p>100 rows × 13 columns</p>\n",
       "</div>"
      ],
      "text/plain": [
       "                  Open        High         Low       Close   Adj Close   \n",
       "Date                                                                     \n",
       "2014-09-17  465.864014  468.174011  452.421997  457.334015  457.334015  \\\n",
       "2014-09-18  456.859985  456.859985  413.104004  424.440002  424.440002   \n",
       "2014-09-19  424.102997  427.834991  384.532013  394.795990  394.795990   \n",
       "2014-09-20  394.673004  423.295990  389.882996  408.903992  408.903992   \n",
       "2014-09-21  408.084991  412.425995  393.181000  398.821014  398.821014   \n",
       "...                ...         ...         ...         ...         ...   \n",
       "2014-12-21  329.542999  329.628998  318.903015  320.842987  320.842987   \n",
       "2014-12-22  321.067993  334.117004  320.424988  331.885986  331.885986   \n",
       "2014-12-23  332.016998  336.286987  329.601990  334.571991  334.571991   \n",
       "2014-12-24  334.385010  334.740997  321.356995  322.533997  322.533997   \n",
       "2014-12-25  322.286011  322.670013  316.958008  319.007996  319.007996   \n",
       "\n",
       "              Volume  macd  rsi  %D  %K  resistance     support  Buy  \n",
       "Date                                                                  \n",
       "2014-09-17  21056800   NaN  NaN NaN NaN         NaN         NaN  NaN  \n",
       "2014-09-18  34483200   NaN  NaN NaN NaN         NaN         NaN  NaN  \n",
       "2014-09-19  37919700   NaN  NaN NaN NaN         NaN         NaN  NaN  \n",
       "2014-09-20  36863600   NaN  NaN NaN NaN         NaN         NaN  NaN  \n",
       "2014-09-21  26580100   NaN  NaN NaN NaN         NaN         NaN  NaN  \n",
       "...              ...   ...  ...  ..  ..         ...         ...  ...  \n",
       "2014-12-21  15207600   NaN  NaN NaN NaN  511.274103  304.630288  NaN  \n",
       "2014-12-22  22315100   NaN  NaN NaN NaN  512.738457  304.829435  NaN  \n",
       "2014-12-23  16574200   NaN  NaN NaN NaN  514.202812  305.028582  NaN  \n",
       "2014-12-24  15092300   NaN  NaN NaN NaN  515.667166  305.227728  NaN  \n",
       "2014-12-25   9883640   NaN  NaN NaN NaN  517.131521  305.426875  NaN  \n",
       "\n",
       "[100 rows x 13 columns]"
      ]
     },
     "execution_count": 877,
     "metadata": {},
     "output_type": "execute_result"
    }
   ],
   "source": [
    "df"
   ]
  },
  {
   "attachments": {},
   "cell_type": "markdown",
   "metadata": {},
   "source": [
    "PLOTTING"
   ]
  },
  {
   "cell_type": "code",
   "execution_count": 880,
   "metadata": {},
   "outputs": [
    {
     "name": "stderr",
     "output_type": "stream",
     "text": [
      "/tmp/ipykernel_3191/657613115.py:13: SettingWithCopyWarning:\n",
      "\n",
      "\n",
      "A value is trying to be set on a copy of a slice from a DataFrame\n",
      "\n",
      "See the caveats in the documentation: https://pandas.pydata.org/pandas-docs/stable/user_guide/indexing.html#returning-a-view-versus-a-copy\n",
      "\n"
     ]
    },
    {
     "ename": "IndexError",
     "evalue": "index 0 is out of bounds for axis 0 with size 0",
     "output_type": "error",
     "traceback": [
      "\u001b[0;31m---------------------------------------------------------------------------\u001b[0m",
      "\u001b[0;31mIndexError\u001b[0m                                Traceback (most recent call last)",
      "Cell \u001b[0;32mIn[880], line 3\u001b[0m\n\u001b[1;32m      1\u001b[0m \u001b[39m# ===== RUN FUNCTION ======\u001b[39;00m\n\u001b[1;32m      2\u001b[0m applytechnicals(df)\n\u001b[0;32m----> 3\u001b[0m resistance(df)\n\u001b[1;32m      4\u001b[0m support(df)\n\u001b[1;32m      5\u001b[0m decide()\n",
      "Cell \u001b[0;32mIn[852], line 7\u001b[0m, in \u001b[0;36mresistance\u001b[0;34m(df)\u001b[0m\n\u001b[1;32m      4\u001b[0m resistance_points \u001b[39m=\u001b[39m resistances\u001b[39m.\u001b[39msort_values(ascending\u001b[39m=\u001b[39m\u001b[39mTrue\u001b[39;00m)\u001b[39m.\u001b[39mtail(\u001b[39m2\u001b[39m)\n\u001b[1;32m      6\u001b[0m \u001b[39m# resistance coefficients\u001b[39;00m\n\u001b[0;32m----> 7\u001b[0m diff_step, lineAscending \u001b[39m=\u001b[39m direction_and_steps(resistance_points)\n\u001b[1;32m      8\u001b[0m start, end \u001b[39m=\u001b[39m start_end_ragne(resistance_points)\n\u001b[1;32m      9\u001b[0m today \u001b[39m=\u001b[39m df[(df\u001b[39m.\u001b[39mindex \u001b[39m>\u001b[39m start)]\n",
      "Cell \u001b[0;32mIn[858], line 3\u001b[0m, in \u001b[0;36mdirection_and_steps\u001b[0;34m(datapoints)\u001b[0m\n\u001b[1;32m      2\u001b[0m \u001b[39mdef\u001b[39;00m \u001b[39mdirection_and_steps\u001b[39m(datapoints):\n\u001b[0;32m----> 3\u001b[0m     \u001b[39mif\u001b[39;00m datapoints\u001b[39m.\u001b[39;49mindex[\u001b[39m0\u001b[39;49m] \u001b[39m>\u001b[39m datapoints\u001b[39m.\u001b[39mindex[\u001b[39m1\u001b[39m]:\n\u001b[1;32m      4\u001b[0m         startIndex \u001b[39m=\u001b[39m datapoints\u001b[39m.\u001b[39mindex[\u001b[39m0\u001b[39m]\n\u001b[1;32m      5\u001b[0m         endIndex \u001b[39m=\u001b[39m datapoints\u001b[39m.\u001b[39mindex[\u001b[39m1\u001b[39m]\n",
      "File \u001b[0;32m~/miniconda3/lib/python3.9/site-packages/pandas/core/indexes/base.py:5174\u001b[0m, in \u001b[0;36mIndex.__getitem__\u001b[0;34m(self, key)\u001b[0m\n\u001b[1;32m   5171\u001b[0m \u001b[39mif\u001b[39;00m is_integer(key) \u001b[39mor\u001b[39;00m is_float(key):\n\u001b[1;32m   5172\u001b[0m     \u001b[39m# GH#44051 exclude bool, which would return a 2d ndarray\u001b[39;00m\n\u001b[1;32m   5173\u001b[0m     key \u001b[39m=\u001b[39m com\u001b[39m.\u001b[39mcast_scalar_indexer(key)\n\u001b[0;32m-> 5174\u001b[0m     \u001b[39mreturn\u001b[39;00m getitem(key)\n\u001b[1;32m   5176\u001b[0m \u001b[39mif\u001b[39;00m \u001b[39misinstance\u001b[39m(key, \u001b[39mslice\u001b[39m):\n\u001b[1;32m   5177\u001b[0m     \u001b[39m# This case is separated from the conditional above to avoid\u001b[39;00m\n\u001b[1;32m   5178\u001b[0m     \u001b[39m# pessimization com.is_bool_indexer and ndim checks.\u001b[39;00m\n\u001b[1;32m   5179\u001b[0m     result \u001b[39m=\u001b[39m getitem(key)\n",
      "File \u001b[0;32m~/miniconda3/lib/python3.9/site-packages/pandas/core/arrays/datetimelike.py:370\u001b[0m, in \u001b[0;36mDatetimeLikeArrayMixin.__getitem__\u001b[0;34m(self, key)\u001b[0m\n\u001b[1;32m    362\u001b[0m \u001b[39m\u001b[39m\u001b[39m\"\"\"\u001b[39;00m\n\u001b[1;32m    363\u001b[0m \u001b[39mThis getitem defers to the underlying array, which by-definition can\u001b[39;00m\n\u001b[1;32m    364\u001b[0m \u001b[39monly handle list-likes, slices, and integer scalars\u001b[39;00m\n\u001b[1;32m    365\u001b[0m \u001b[39m\"\"\"\u001b[39;00m\n\u001b[1;32m    366\u001b[0m \u001b[39m# Use cast as we know we will get back a DatetimeLikeArray or DTScalar,\u001b[39;00m\n\u001b[1;32m    367\u001b[0m \u001b[39m# but skip evaluating the Union at runtime for performance\u001b[39;00m\n\u001b[1;32m    368\u001b[0m \u001b[39m# (see https://github.com/pandas-dev/pandas/pull/44624)\u001b[39;00m\n\u001b[1;32m    369\u001b[0m result \u001b[39m=\u001b[39m cast(\n\u001b[0;32m--> 370\u001b[0m     \u001b[39m\"\u001b[39m\u001b[39mUnion[DatetimeLikeArrayT, DTScalarOrNaT]\u001b[39m\u001b[39m\"\u001b[39m, \u001b[39msuper\u001b[39;49m()\u001b[39m.\u001b[39;49m\u001b[39m__getitem__\u001b[39;49m(key)\n\u001b[1;32m    371\u001b[0m )\n\u001b[1;32m    372\u001b[0m \u001b[39mif\u001b[39;00m lib\u001b[39m.\u001b[39mis_scalar(result):\n\u001b[1;32m    373\u001b[0m     \u001b[39mreturn\u001b[39;00m result\n",
      "File \u001b[0;32m~/miniconda3/lib/python3.9/site-packages/pandas/core/arrays/_mixins.py:272\u001b[0m, in \u001b[0;36mNDArrayBackedExtensionArray.__getitem__\u001b[0;34m(self, key)\u001b[0m\n\u001b[1;32m    266\u001b[0m \u001b[39mdef\u001b[39;00m \u001b[39m__getitem__\u001b[39m(\n\u001b[1;32m    267\u001b[0m     \u001b[39mself\u001b[39m: NDArrayBackedExtensionArrayT,\n\u001b[1;32m    268\u001b[0m     key: PositionalIndexer2D,\n\u001b[1;32m    269\u001b[0m ) \u001b[39m-\u001b[39m\u001b[39m>\u001b[39m NDArrayBackedExtensionArrayT \u001b[39m|\u001b[39m Any:\n\u001b[1;32m    270\u001b[0m     \u001b[39mif\u001b[39;00m lib\u001b[39m.\u001b[39mis_integer(key):\n\u001b[1;32m    271\u001b[0m         \u001b[39m# fast-path\u001b[39;00m\n\u001b[0;32m--> 272\u001b[0m         result \u001b[39m=\u001b[39m \u001b[39mself\u001b[39;49m\u001b[39m.\u001b[39;49m_ndarray[key]\n\u001b[1;32m    273\u001b[0m         \u001b[39mif\u001b[39;00m \u001b[39mself\u001b[39m\u001b[39m.\u001b[39mndim \u001b[39m==\u001b[39m \u001b[39m1\u001b[39m:\n\u001b[1;32m    274\u001b[0m             \u001b[39mreturn\u001b[39;00m \u001b[39mself\u001b[39m\u001b[39m.\u001b[39m_box_func(result)\n",
      "\u001b[0;31mIndexError\u001b[0m: index 0 is out of bounds for axis 0 with size 0"
     ]
    }
   ],
   "source": [
    "# ===== RUN FUNCTION ======\n",
    "applytechnicals(df)\n",
    "resistance(df)\n",
    "support(df)\n",
    "decide()\n",
    "\n",
    "# ===== PLOT =====\n",
    "clean_levels = levels[abs(levels.diff() > 0)]\n",
    "df.High.plot()\n",
    "df.Low.plot()\n",
    "df.Close.plot()\n",
    "\n",
    "plt.hlines(clean_levels, xmin=clean_levels.index, xmax=clean_levels.index[-1], colors='red')\n",
    "plt.scatter(resistances.index, resistances, color='b')\n",
    "# plt.scatter(support_points.index, support_points, color=\"g\")\n",
    "plt.plot(df.index, df['resistance'], color=\"r\")\n",
    "plt.plot(df.index, df['support'], color=\"g\")\n",
    "plt.plot(df.index, df['macd'], color=\"blue\")\n",
    "plt.plot(df.index, df[\"rsi\"], color='r')\n",
    "plt.plot(df.index, df[\"%D\"], color=\"orange\")\n",
    "plt.plot(df.index, df[\"%K\"], color=\"cyan\")\n",
    "plt.scatter(df.index, df['Buy'], color=\"g\")"
   ]
  },
  {
   "attachments": {},
   "cell_type": "markdown",
   "metadata": {},
   "source": [
    "PLOTTING and SAVE"
   ]
  },
  {
   "cell_type": "code",
   "execution_count": null,
   "metadata": {},
   "outputs": [],
   "source": [
    "# ====== PLOTTING and SAVING =========\n",
    "# MATPLOTLIB\n",
    "# clean_levels = levels[abs(levels.diff() > 0)]\n",
    "def plot_df(df):\n",
    "    df.High.plot()\n",
    "    df.Low.plot()\n",
    "    df.Close.plot()\n",
    "    # plt.hlines(clean_levels, xmin=clean_levels.index, xmax=clean_levels.index[-1], colors='red')\n",
    "    plt.scatter(resistances.index, resistances, color='b')\n",
    "    # plt.scatter(support_points.index, support_points, color=\"g\")\n",
    "    plt.plot(df.index, df['resistance'], color=\"r\")\n",
    "    plt.plot(df.index, df['support'], color=\"g\")\n",
    "    # plt.plot(today.index, y_values, color=\"y\")\n",
    "    now = datetime.datetime.now().strftime(\"%Y-%m-%d_%H:%M:%S\")\n",
    "    startDate = df.index[0].strftime(\"%Y-%m-%d\")\n",
    "    endDate = df.index[-1].strftime(\"%Y-%m-%d\")\n",
    "    save_name = startDate + '_to_' + endDate\n",
    "    save_name\n",
    "    plt.savefig('testImages/'+save_name+'_signals.jpg')"
   ]
  },
  {
   "attachments": {},
   "cell_type": "markdown",
   "metadata": {},
   "source": [
    "Test with Iteration"
   ]
  },
  {
   "cell_type": "code",
   "execution_count": null,
   "metadata": {},
   "outputs": [],
   "source": [
    "dataStart = 0\n",
    "for i in range(100, len(data),100):\n",
    "    print('dataStart= ', dataStart, ' i= ', i)\n",
    "    # ==== setting range of df ====\n",
    "    df = data[dataStart:i]\n",
    "    df['resistance'] = np.nan\n",
    "    df['support'] = np.nan\n",
    "    # plt.plot(df.index, df.Close)\n",
    "    # plt.show()\n",
    "    # ===== Calculate Channel ====\n",
    "    resistance(df)\n",
    "    support(df)\n",
    "    plot_df(df)\n",
    "    dataStart = i\n"
   ]
  },
  {
   "attachments": {},
   "cell_type": "markdown",
   "metadata": {},
   "source": [
    "TEST by ONE"
   ]
  },
  {
   "cell_type": "code",
   "execution_count": null,
   "metadata": {},
   "outputs": [],
   "source": [
    "df = data[0:100]\n",
    "df['resistance'] = np.nan\n",
    "df['support'] = np.nan\n",
    "# plt.plot(df.index, df.Close)\n",
    "# plt.show()\n",
    "# ===== Calculate Channel ====\n",
    "resistance(df)\n",
    "support(df)\n",
    "applytechnicals(df)\n",
    "decide()\n",
    "plot_df(df)"
   ]
  },
  {
   "attachments": {},
   "cell_type": "markdown",
   "metadata": {},
   "source": [
    "УРТ ХУГАЦААГААР ХАРАХ ХЭСЭГ"
   ]
  },
  {
   "cell_type": "code",
   "execution_count": 857,
   "metadata": {},
   "outputs": [
    {
     "name": "stdout",
     "output_type": "stream",
     "text": [
      "ascending\n",
      "difference =  45.394989013671875\n",
      "range = 31\n",
      "max=  457.0929870605469 min=  411.697998046875\n",
      "ascending\n",
      "difference =  14.936004638671875\n",
      "range = 75\n",
      "max=  304.23199462890625 min=  289.2959899902344\n"
     ]
    },
    {
     "name": "stderr",
     "output_type": "stream",
     "text": [
      "/tmp/ipykernel_3191/738999639.py:4: SettingWithCopyWarning:\n",
      "\n",
      "\n",
      "A value is trying to be set on a copy of a slice from a DataFrame.\n",
      "Try using .loc[row_indexer,col_indexer] = value instead\n",
      "\n",
      "See the caveats in the documentation: https://pandas.pydata.org/pandas-docs/stable/user_guide/indexing.html#returning-a-view-versus-a-copy\n",
      "\n"
     ]
    },
    {
     "data": {
      "application/vnd.plotly.v1+json": {
       "config": {
        "plotlyServerURL": "https://plot.ly"
       },
       "data": [
        {
         "close": [
          457.3340148925781,
          424.44000244140625,
          394.7959899902344,
          408.90399169921875,
          398.8210144042969,
          402.1520080566406,
          435.7909851074219,
          423.2049865722656,
          411.5740051269531,
          404.42498779296875,
          399.5199890136719,
          377.1809997558594,
          375.4670104980469,
          386.9440002441406,
          383.614990234375,
          375.0719909667969,
          359.5119934082031,
          328.8659973144531,
          320.510009765625,
          330.0790100097656,
          336.18701171875,
          352.94000244140625,
          365.0260009765625,
          361.56201171875,
          362.29901123046875,
          378.54901123046875,
          390.41400146484375,
          400.8699951171875,
          394.77301025390625,
          382.5559997558594,
          383.75799560546875,
          391.4419860839844,
          389.5459899902344,
          382.8450012207031,
          386.4750061035156,
          383.1579895019531,
          358.4169921875,
          358.3450012207031,
          347.27099609375,
          354.7040100097656,
          352.989013671875,
          357.6180114746094,
          335.59100341796875,
          345.30499267578125,
          338.3210144042969,
          325.7489929199219,
          325.8919982910156,
          327.5539855957031,
          330.49200439453125,
          339.4859924316406,
          349.2900085449219,
          342.4150085449219,
          345.4880065917969,
          363.2640075683594,
          366.92401123046875,
          367.69500732421875,
          423.5610046386719,
          420.7349853515625,
          397.8179931640625,
          376.13299560546875,
          387.8819885253906,
          387.4079895019531,
          375.197998046875,
          380.55499267578125,
          357.8399963378906,
          350.8479919433594,
          352.9200134277344,
          367.572998046875,
          376.9010009765625,
          375.3479919433594,
          368.3699951171875,
          369.6700134277344,
          376.4469909667969,
          375.4909973144531,
          378.0469970703125,
          379.2449951171875,
          381.31500244140625,
          375.010009765625,
          369.60400390625,
          376.85400390625,
          374.7850036621094,
          375.0950012207031,
          361.90899658203125,
          352.218994140625,
          346.364990234375,
          350.5060119628906,
          352.5419921875,
          347.3760070800781,
          351.6319885253906,
          345.3450012207031,
          327.06201171875,
          319.7760009765625,
          311.39599609375,
          317.8429870605469,
          329.95599365234375,
          320.8429870605469,
          331.885986328125,
          334.5719909667969,
          322.53399658203125,
          319.00799560546875
         ],
         "decreasing": {
          "line": {
           "color": "red"
          }
         },
         "high": [
          468.17401123046875,
          456.8599853515625,
          427.8349914550781,
          423.2959899902344,
          412.4259948730469,
          406.9159851074219,
          441.5570068359375,
          436.11199951171875,
          423.5199890136719,
          414.93798828125,
          406.62298583984375,
          401.0169982910156,
          385.21099853515625,
          390.97698974609375,
          391.3789978027344,
          385.49700927734375,
          377.69500732421875,
          364.48699951171875,
          341.8009948730469,
          345.1340026855469,
          339.24700927734375,
          354.364013671875,
          382.72601318359375,
          375.0669860839844,
          367.1910095214844,
          379.4330139160156,
          397.22601318359375,
          411.697998046875,
          402.22698974609375,
          398.8070068359375,
          385.4779968261719,
          395.1579895019531,
          393.9389953613281,
          390.0840148925781,
          392.64599609375,
          388.57598876953125,
          385.0480041503906,
          364.3450012207031,
          359.8609924316406,
          359.22100830078125,
          358.6319885253906,
          359.9840087890625,
          357.8330078125,
          350.9129943847656,
          348.0450134277344,
          340.52899169921875,
          329.04998779296875,
          334.00201416015625,
          331.7669982910156,
          343.3689880371094,
          352.96600341796875,
          352.73199462890625,
          347.0320129394531,
          363.6260070800781,
          374.8160095214844,
          371.30999755859375,
          429.7179870605469,
          457.0929870605469,
          419.25201416015625,
          405.52801513671875,
          390.79901123046875,
          410.1990051269531,
          392.4020080566406,
          386.4809875488281,
          382.0249938964844,
          357.8789978027344,
          364.84100341796875,
          370.8450012207031,
          387.2090148925781,
          394.70098876953125,
          377.697998046875,
          373.99200439453125,
          382.8380126953125,
          387.60101318359375,
          382.5270080566406,
          383.6619873046875,
          384.0379943847656,
          383.0260009765625,
          378.6549987792969,
          379.1919860839844,
          378.447998046875,
          376.2919921875,
          376.02899169921875,
          363.0669860839844,
          352.3840026855469,
          361.35699462890625,
          352.9830017089844,
          352.3810119628906,
          353.3160095214844,
          351.81500244140625,
          345.8590087890625,
          333.9540100097656,
          323.7090148925781,
          318.5329895019531,
          330.32501220703125,
          329.6289978027344,
          334.11700439453125,
          336.2869873046875,
          334.7409973144531,
          322.6700134277344
         ],
         "increasing": {
          "line": {
           "color": "green"
          }
         },
         "low": [
          452.4219970703125,
          413.10400390625,
          384.5320129394531,
          389.88299560546875,
          393.1809997558594,
          397.1300048828125,
          396.1969909667969,
          421.1319885253906,
          409.4679870605469,
          400.0090026855469,
          397.37200927734375,
          374.3320007324219,
          372.239990234375,
          373.4429931640625,
          380.7799987792969,
          372.9460144042969,
          357.8590087890625,
          325.885986328125,
          289.2959899902344,
          302.55999755859375,
          320.48199462890625,
          327.18798828125,
          347.68701171875,
          352.9630126953125,
          355.95098876953125,
          356.1440124511719,
          368.8970031738281,
          391.3240051269531,
          388.7659912109375,
          373.07000732421875,
          375.3890075683594,
          378.97100830078125,
          386.4570007324219,
          378.25201416015625,
          380.8340148925781,
          382.2489929199219,
          356.4469909667969,
          353.30499267578125,
          342.87701416015625,
          343.9309997558594,
          349.8089904785156,
          352.6789855957031,
          335.3429870605469,
          335.0719909667969,
          337.1419982910156,
          321.05499267578125,
          320.6260070800781,
          325.4809875488281,
          325.0769958496094,
          330.6830139160156,
          338.42401123046875,
          341.7760009765625,
          342.15399169921875,
          344.2550048828125,
          357.5610046386719,
          363.7349853515625,
          367.9849853515625,
          401.12298583984375,
          384.78900146484375,
          371.00799560546875,
          374.60198974609375,
          377.50201416015625,
          371.11700439453125,
          373.89599609375,
          356.781005859375,
          344.11199951171875,
          350.87799072265625,
          353.17498779296875,
          366.66900634765625,
          374.78399658203125,
          365.8160095214844,
          368.2820129394531,
          358.4549865722656,
          372.1449890136719,
          373.3089904785156,
          376.66900634765625,
          377.8630065917969,
          374.34600830078125,
          367.7590026855469,
          365.7560119628906,
          370.94500732421875,
          373.2749938964844,
          361.885986328125,
          344.95098876953125,
          346.364990234375,
          338.76300048828125,
          349.2909851074219,
          346.5880126953125,
          345.4179992675781,
          344.9339904785156,
          327.06201171875,
          315.1520080566406,
          304.23199462890625,
          306.7690124511719,
          316.04400634765625,
          318.90301513671875,
          320.42498779296875,
          329.60198974609375,
          321.35699462890625,
          316.9580078125
         ],
         "open": [
          465.864013671875,
          456.8599853515625,
          424.1029968261719,
          394.6730041503906,
          408.0849914550781,
          399.1000061035156,
          402.0920104980469,
          435.7510070800781,
          423.156005859375,
          411.4289855957031,
          403.5559997558594,
          399.47100830078125,
          376.9280090332031,
          376.0880126953125,
          387.427001953125,
          383.9880065917969,
          375.1809997558594,
          359.8919982910156,
          328.9159851074219,
          320.3890075683594,
          330.5840148925781,
          336.1159973144531,
          352.74798583984375,
          364.68701171875,
          361.36199951171875,
          362.6059875488281,
          377.9209899902344,
          391.6919860839844,
          400.9549865722656,
          394.51800537109375,
          382.7560119628906,
          383.97601318359375,
          391.2539978027344,
          389.2309875488281,
          382.4209899902344,
          386.1180114746094,
          382.9620056152344,
          358.59100341796875,
          358.6109924316406,
          347.48699951171875,
          354.7770080566406,
          353.2149963378906,
          357.0889892578125,
          335.7090148925781,
          345.0090026855469,
          338.6499938964844,
          326.07501220703125,
          325.5690002441406,
          327.1610107421875,
          330.6830139160156,
          339.4580078125,
          349.8179931640625,
          342.15399169921875,
          345.3760070800781,
          362.2650146484375,
          365.85699462890625,
          367.9849853515625,
          427.27301025390625,
          418.4169921875,
          399.6499938964844,
          374.7300109863281,
          388.3489990234375,
          387.7850036621094,
          373.89599609375,
          380.3070068359375,
          357.8789978027344,
          351.60400390625,
          353.17498779296875,
          366.947998046875,
          376.885986328125,
          376.0190124511719,
          370.50201416015625,
          369.3739929199219,
          376.1520080566406,
          375.510009765625,
          378.2489929199219,
          379.25,
          381.72198486328125,
          375.7179870605469,
          369.4419860839844,
          376.7569885253906,
          374.83599853515625,
          374.9649963378906,
          361.8949890136719,
          352.2049865722656,
          344.3399963378906,
          350.8330078125,
          352.3810119628906,
          346.72698974609375,
          351.3609924316406,
          345.6730041503906,
          326.8550109863281,
          319.7850036621094,
          311.1789855957031,
          317.6189880371094,
          329.5429992675781,
          321.0679931640625,
          332.0169982910156,
          334.385009765625,
          322.2860107421875
         ],
         "type": "candlestick",
         "x": [
          "2014-09-17T00:00:00",
          "2014-09-18T00:00:00",
          "2014-09-19T00:00:00",
          "2014-09-20T00:00:00",
          "2014-09-21T00:00:00",
          "2014-09-22T00:00:00",
          "2014-09-23T00:00:00",
          "2014-09-24T00:00:00",
          "2014-09-25T00:00:00",
          "2014-09-26T00:00:00",
          "2014-09-27T00:00:00",
          "2014-09-28T00:00:00",
          "2014-09-29T00:00:00",
          "2014-09-30T00:00:00",
          "2014-10-01T00:00:00",
          "2014-10-02T00:00:00",
          "2014-10-03T00:00:00",
          "2014-10-04T00:00:00",
          "2014-10-05T00:00:00",
          "2014-10-06T00:00:00",
          "2014-10-07T00:00:00",
          "2014-10-08T00:00:00",
          "2014-10-09T00:00:00",
          "2014-10-10T00:00:00",
          "2014-10-11T00:00:00",
          "2014-10-12T00:00:00",
          "2014-10-13T00:00:00",
          "2014-10-14T00:00:00",
          "2014-10-15T00:00:00",
          "2014-10-16T00:00:00",
          "2014-10-17T00:00:00",
          "2014-10-18T00:00:00",
          "2014-10-19T00:00:00",
          "2014-10-20T00:00:00",
          "2014-10-21T00:00:00",
          "2014-10-22T00:00:00",
          "2014-10-23T00:00:00",
          "2014-10-24T00:00:00",
          "2014-10-25T00:00:00",
          "2014-10-26T00:00:00",
          "2014-10-27T00:00:00",
          "2014-10-28T00:00:00",
          "2014-10-29T00:00:00",
          "2014-10-30T00:00:00",
          "2014-10-31T00:00:00",
          "2014-11-01T00:00:00",
          "2014-11-02T00:00:00",
          "2014-11-03T00:00:00",
          "2014-11-04T00:00:00",
          "2014-11-05T00:00:00",
          "2014-11-06T00:00:00",
          "2014-11-07T00:00:00",
          "2014-11-08T00:00:00",
          "2014-11-09T00:00:00",
          "2014-11-10T00:00:00",
          "2014-11-11T00:00:00",
          "2014-11-12T00:00:00",
          "2014-11-13T00:00:00",
          "2014-11-14T00:00:00",
          "2014-11-15T00:00:00",
          "2014-11-16T00:00:00",
          "2014-11-17T00:00:00",
          "2014-11-18T00:00:00",
          "2014-11-19T00:00:00",
          "2014-11-20T00:00:00",
          "2014-11-21T00:00:00",
          "2014-11-22T00:00:00",
          "2014-11-23T00:00:00",
          "2014-11-24T00:00:00",
          "2014-11-25T00:00:00",
          "2014-11-26T00:00:00",
          "2014-11-27T00:00:00",
          "2014-11-28T00:00:00",
          "2014-11-29T00:00:00",
          "2014-11-30T00:00:00",
          "2014-12-01T00:00:00",
          "2014-12-02T00:00:00",
          "2014-12-03T00:00:00",
          "2014-12-04T00:00:00",
          "2014-12-05T00:00:00",
          "2014-12-06T00:00:00",
          "2014-12-07T00:00:00",
          "2014-12-08T00:00:00",
          "2014-12-09T00:00:00",
          "2014-12-10T00:00:00",
          "2014-12-11T00:00:00",
          "2014-12-12T00:00:00",
          "2014-12-13T00:00:00",
          "2014-12-14T00:00:00",
          "2014-12-15T00:00:00",
          "2014-12-16T00:00:00",
          "2014-12-17T00:00:00",
          "2014-12-18T00:00:00",
          "2014-12-19T00:00:00",
          "2014-12-20T00:00:00",
          "2014-12-21T00:00:00",
          "2014-12-22T00:00:00",
          "2014-12-23T00:00:00",
          "2014-12-24T00:00:00",
          "2014-12-25T00:00:00"
         ]
        },
        {
         "line": {
          "color": "green",
          "width": 3
         },
         "name": "SUPPORT",
         "type": "scatter",
         "x": [
          "2014-09-17T00:00:00",
          "2014-09-18T00:00:00",
          "2014-09-19T00:00:00",
          "2014-09-20T00:00:00",
          "2014-09-21T00:00:00",
          "2014-09-22T00:00:00",
          "2014-09-23T00:00:00",
          "2014-09-24T00:00:00",
          "2014-09-25T00:00:00",
          "2014-09-26T00:00:00",
          "2014-09-27T00:00:00",
          "2014-09-28T00:00:00",
          "2014-09-29T00:00:00",
          "2014-09-30T00:00:00",
          "2014-10-01T00:00:00",
          "2014-10-02T00:00:00",
          "2014-10-03T00:00:00",
          "2014-10-04T00:00:00",
          "2014-10-05T00:00:00",
          "2014-10-06T00:00:00",
          "2014-10-07T00:00:00",
          "2014-10-08T00:00:00",
          "2014-10-09T00:00:00",
          "2014-10-10T00:00:00",
          "2014-10-11T00:00:00",
          "2014-10-12T00:00:00",
          "2014-10-13T00:00:00",
          "2014-10-14T00:00:00",
          "2014-10-15T00:00:00",
          "2014-10-16T00:00:00",
          "2014-10-17T00:00:00",
          "2014-10-18T00:00:00",
          "2014-10-19T00:00:00",
          "2014-10-20T00:00:00",
          "2014-10-21T00:00:00",
          "2014-10-22T00:00:00",
          "2014-10-23T00:00:00",
          "2014-10-24T00:00:00",
          "2014-10-25T00:00:00",
          "2014-10-26T00:00:00",
          "2014-10-27T00:00:00",
          "2014-10-28T00:00:00",
          "2014-10-29T00:00:00",
          "2014-10-30T00:00:00",
          "2014-10-31T00:00:00",
          "2014-11-01T00:00:00",
          "2014-11-02T00:00:00",
          "2014-11-03T00:00:00",
          "2014-11-04T00:00:00",
          "2014-11-05T00:00:00",
          "2014-11-06T00:00:00",
          "2014-11-07T00:00:00",
          "2014-11-08T00:00:00",
          "2014-11-09T00:00:00",
          "2014-11-10T00:00:00",
          "2014-11-11T00:00:00",
          "2014-11-12T00:00:00",
          "2014-11-13T00:00:00",
          "2014-11-14T00:00:00",
          "2014-11-15T00:00:00",
          "2014-11-16T00:00:00",
          "2014-11-17T00:00:00",
          "2014-11-18T00:00:00",
          "2014-11-19T00:00:00",
          "2014-11-20T00:00:00",
          "2014-11-21T00:00:00",
          "2014-11-22T00:00:00",
          "2014-11-23T00:00:00",
          "2014-11-24T00:00:00",
          "2014-11-25T00:00:00",
          "2014-11-26T00:00:00",
          "2014-11-27T00:00:00",
          "2014-11-28T00:00:00",
          "2014-11-29T00:00:00",
          "2014-11-30T00:00:00",
          "2014-12-01T00:00:00",
          "2014-12-02T00:00:00",
          "2014-12-03T00:00:00",
          "2014-12-04T00:00:00",
          "2014-12-05T00:00:00",
          "2014-12-06T00:00:00",
          "2014-12-07T00:00:00",
          "2014-12-08T00:00:00",
          "2014-12-09T00:00:00",
          "2014-12-10T00:00:00",
          "2014-12-11T00:00:00",
          "2014-12-12T00:00:00",
          "2014-12-13T00:00:00",
          "2014-12-14T00:00:00",
          "2014-12-15T00:00:00",
          "2014-12-16T00:00:00",
          "2014-12-17T00:00:00",
          "2014-12-18T00:00:00",
          "2014-12-19T00:00:00",
          "2014-12-20T00:00:00",
          "2014-12-21T00:00:00",
          "2014-12-22T00:00:00",
          "2014-12-23T00:00:00",
          "2014-12-24T00:00:00",
          "2014-12-25T00:00:00"
         ],
         "y": [
          null,
          null,
          null,
          null,
          null,
          null,
          null,
          null,
          null,
          null,
          null,
          null,
          null,
          null,
          null,
          null,
          null,
          null,
          null,
          289.49513671875,
          289.69428344726566,
          289.8934301757813,
          290.09257690429695,
          290.2917236328126,
          290.49087036132823,
          290.6900170898439,
          290.8891638183595,
          291.08831054687516,
          291.2874572753908,
          291.48660400390645,
          291.6857507324221,
          291.88489746093774,
          292.0840441894534,
          292.283190917969,
          292.48233764648467,
          292.6814843750003,
          292.88063110351595,
          293.0797778320316,
          293.27892456054724,
          293.4780712890629,
          293.6772180175785,
          293.87636474609417,
          294.0755114746098,
          294.27465820312545,
          294.4738049316411,
          294.67295166015674,
          294.8720983886724,
          295.071245117188,
          295.27039184570367,
          295.4695385742193,
          295.66868530273496,
          295.8678320312506,
          296.06697875976624,
          296.2661254882819,
          296.46527221679753,
          296.6644189453132,
          296.8635656738288,
          297.06271240234446,
          297.2618591308601,
          297.46100585937575,
          297.6601525878914,
          297.85929931640703,
          298.0584460449227,
          298.2575927734383,
          298.45673950195396,
          298.6558862304696,
          298.85503295898525,
          299.0541796875009,
          299.25332641601653,
          299.4524731445322,
          299.6516198730478,
          299.85076660156346,
          300.0499133300791,
          300.24906005859475,
          300.4482067871104,
          300.64735351562604,
          300.8465002441417,
          301.0456469726573,
          301.24479370117297,
          301.4439404296886,
          301.64308715820425,
          301.8422338867199,
          302.04138061523554,
          302.2405273437512,
          302.4396740722668,
          302.63882080078247,
          302.8379675292981,
          303.03711425781376,
          303.2362609863294,
          303.43540771484504,
          303.6345544433607,
          303.8337011718763,
          304.03284790039197,
          304.2319946289076,
          304.43114135742326,
          304.6302880859389,
          304.82943481445454,
          305.0285815429702,
          305.22772827148583,
          305.4268750000015
         ]
        },
        {
         "line": {
          "color": "red",
          "width": 3
         },
         "name": "RESISTANCE",
         "type": "scatter",
         "x": [
          "2014-09-17T00:00:00",
          "2014-09-18T00:00:00",
          "2014-09-19T00:00:00",
          "2014-09-20T00:00:00",
          "2014-09-21T00:00:00",
          "2014-09-22T00:00:00",
          "2014-09-23T00:00:00",
          "2014-09-24T00:00:00",
          "2014-09-25T00:00:00",
          "2014-09-26T00:00:00",
          "2014-09-27T00:00:00",
          "2014-09-28T00:00:00",
          "2014-09-29T00:00:00",
          "2014-09-30T00:00:00",
          "2014-10-01T00:00:00",
          "2014-10-02T00:00:00",
          "2014-10-03T00:00:00",
          "2014-10-04T00:00:00",
          "2014-10-05T00:00:00",
          "2014-10-06T00:00:00",
          "2014-10-07T00:00:00",
          "2014-10-08T00:00:00",
          "2014-10-09T00:00:00",
          "2014-10-10T00:00:00",
          "2014-10-11T00:00:00",
          "2014-10-12T00:00:00",
          "2014-10-13T00:00:00",
          "2014-10-14T00:00:00",
          "2014-10-15T00:00:00",
          "2014-10-16T00:00:00",
          "2014-10-17T00:00:00",
          "2014-10-18T00:00:00",
          "2014-10-19T00:00:00",
          "2014-10-20T00:00:00",
          "2014-10-21T00:00:00",
          "2014-10-22T00:00:00",
          "2014-10-23T00:00:00",
          "2014-10-24T00:00:00",
          "2014-10-25T00:00:00",
          "2014-10-26T00:00:00",
          "2014-10-27T00:00:00",
          "2014-10-28T00:00:00",
          "2014-10-29T00:00:00",
          "2014-10-30T00:00:00",
          "2014-10-31T00:00:00",
          "2014-11-01T00:00:00",
          "2014-11-02T00:00:00",
          "2014-11-03T00:00:00",
          "2014-11-04T00:00:00",
          "2014-11-05T00:00:00",
          "2014-11-06T00:00:00",
          "2014-11-07T00:00:00",
          "2014-11-08T00:00:00",
          "2014-11-09T00:00:00",
          "2014-11-10T00:00:00",
          "2014-11-11T00:00:00",
          "2014-11-12T00:00:00",
          "2014-11-13T00:00:00",
          "2014-11-14T00:00:00",
          "2014-11-15T00:00:00",
          "2014-11-16T00:00:00",
          "2014-11-17T00:00:00",
          "2014-11-18T00:00:00",
          "2014-11-19T00:00:00",
          "2014-11-20T00:00:00",
          "2014-11-21T00:00:00",
          "2014-11-22T00:00:00",
          "2014-11-23T00:00:00",
          "2014-11-24T00:00:00",
          "2014-11-25T00:00:00",
          "2014-11-26T00:00:00",
          "2014-11-27T00:00:00",
          "2014-11-28T00:00:00",
          "2014-11-29T00:00:00",
          "2014-11-30T00:00:00",
          "2014-12-01T00:00:00",
          "2014-12-02T00:00:00",
          "2014-12-03T00:00:00",
          "2014-12-04T00:00:00",
          "2014-12-05T00:00:00",
          "2014-12-06T00:00:00",
          "2014-12-07T00:00:00",
          "2014-12-08T00:00:00",
          "2014-12-09T00:00:00",
          "2014-12-10T00:00:00",
          "2014-12-11T00:00:00",
          "2014-12-12T00:00:00",
          "2014-12-13T00:00:00",
          "2014-12-14T00:00:00",
          "2014-12-15T00:00:00",
          "2014-12-16T00:00:00",
          "2014-12-17T00:00:00",
          "2014-12-18T00:00:00",
          "2014-12-19T00:00:00",
          "2014-12-20T00:00:00",
          "2014-12-21T00:00:00",
          "2014-12-22T00:00:00",
          "2014-12-23T00:00:00",
          "2014-12-24T00:00:00",
          "2014-12-25T00:00:00"
         ],
         "y": [
          null,
          null,
          null,
          null,
          null,
          null,
          null,
          null,
          null,
          null,
          null,
          null,
          null,
          null,
          null,
          null,
          null,
          null,
          null,
          null,
          null,
          null,
          null,
          null,
          null,
          null,
          null,
          null,
          413.16235253118697,
          414.62670701549894,
          416.0910614998109,
          417.5554159841229,
          419.01977046843484,
          420.4841249527468,
          421.9484794370588,
          423.41283392137075,
          424.8771884056827,
          426.3415428899947,
          427.80589737430665,
          429.2702518586186,
          430.7346063429306,
          432.19896082724256,
          433.6633153115545,
          435.1276697958665,
          436.59202428017846,
          438.05637876449043,
          439.5207332488024,
          440.98508773311437,
          442.44944221742634,
          443.9137967017383,
          445.3781511860503,
          446.84250567036224,
          448.3068601546742,
          449.7712146389862,
          451.23556912329815,
          452.6999236076101,
          454.1642780919221,
          455.62863257623405,
          457.092987060546,
          458.557341544858,
          460.02169602916996,
          461.4860505134819,
          462.9504049977939,
          464.41475948210586,
          465.87911396641783,
          467.3434684507298,
          468.80782293504177,
          470.27217741935374,
          471.7365319036657,
          473.2008863879777,
          474.66524087228964,
          476.1295953566016,
          477.5939498409136,
          479.05830432522555,
          480.5226588095375,
          481.9870132938495,
          483.45136777816145,
          484.9157222624734,
          486.3800767467854,
          487.84443123109736,
          489.30878571540933,
          490.7731401997213,
          492.23749468403327,
          493.70184916834523,
          495.1662036526572,
          496.63055813696917,
          498.09491262128114,
          499.5592671055931,
          501.0236215899051,
          502.48797607421704,
          503.952330558529,
          505.416685042841,
          506.88103952715295,
          508.3453940114649,
          509.8097484957769,
          511.27410298008886,
          512.7384574644009,
          514.2028119487129,
          515.6671664330249,
          517.131520917337
         ]
        },
        {
         "marker": {
          "color": "Orange",
          "size": 5
         },
         "mode": "markers",
         "name": "Buy",
         "type": "scatter",
         "x": [
          "2014-09-17T00:00:00",
          "2014-09-18T00:00:00",
          "2014-09-19T00:00:00",
          "2014-09-20T00:00:00",
          "2014-09-21T00:00:00",
          "2014-09-22T00:00:00",
          "2014-09-23T00:00:00",
          "2014-09-24T00:00:00",
          "2014-09-25T00:00:00",
          "2014-09-26T00:00:00",
          "2014-09-27T00:00:00",
          "2014-09-28T00:00:00",
          "2014-09-29T00:00:00",
          "2014-09-30T00:00:00",
          "2014-10-01T00:00:00",
          "2014-10-02T00:00:00",
          "2014-10-03T00:00:00",
          "2014-10-04T00:00:00",
          "2014-10-05T00:00:00",
          "2014-10-06T00:00:00",
          "2014-10-07T00:00:00",
          "2014-10-08T00:00:00",
          "2014-10-09T00:00:00",
          "2014-10-10T00:00:00",
          "2014-10-11T00:00:00",
          "2014-10-12T00:00:00",
          "2014-10-13T00:00:00",
          "2014-10-14T00:00:00",
          "2014-10-15T00:00:00",
          "2014-10-16T00:00:00",
          "2014-10-17T00:00:00",
          "2014-10-18T00:00:00",
          "2014-10-19T00:00:00",
          "2014-10-20T00:00:00",
          "2014-10-21T00:00:00",
          "2014-10-22T00:00:00",
          "2014-10-23T00:00:00",
          "2014-10-24T00:00:00",
          "2014-10-25T00:00:00",
          "2014-10-26T00:00:00",
          "2014-10-27T00:00:00",
          "2014-10-28T00:00:00",
          "2014-10-29T00:00:00",
          "2014-10-30T00:00:00",
          "2014-10-31T00:00:00",
          "2014-11-01T00:00:00",
          "2014-11-02T00:00:00",
          "2014-11-03T00:00:00",
          "2014-11-04T00:00:00",
          "2014-11-05T00:00:00",
          "2014-11-06T00:00:00",
          "2014-11-07T00:00:00",
          "2014-11-08T00:00:00",
          "2014-11-09T00:00:00",
          "2014-11-10T00:00:00",
          "2014-11-11T00:00:00",
          "2014-11-12T00:00:00",
          "2014-11-13T00:00:00",
          "2014-11-14T00:00:00",
          "2014-11-15T00:00:00",
          "2014-11-16T00:00:00",
          "2014-11-17T00:00:00",
          "2014-11-18T00:00:00",
          "2014-11-19T00:00:00",
          "2014-11-20T00:00:00",
          "2014-11-21T00:00:00",
          "2014-11-22T00:00:00",
          "2014-11-23T00:00:00",
          "2014-11-24T00:00:00",
          "2014-11-25T00:00:00",
          "2014-11-26T00:00:00",
          "2014-11-27T00:00:00",
          "2014-11-28T00:00:00",
          "2014-11-29T00:00:00",
          "2014-11-30T00:00:00",
          "2014-12-01T00:00:00",
          "2014-12-02T00:00:00",
          "2014-12-03T00:00:00",
          "2014-12-04T00:00:00",
          "2014-12-05T00:00:00",
          "2014-12-06T00:00:00",
          "2014-12-07T00:00:00",
          "2014-12-08T00:00:00",
          "2014-12-09T00:00:00",
          "2014-12-10T00:00:00",
          "2014-12-11T00:00:00",
          "2014-12-12T00:00:00",
          "2014-12-13T00:00:00",
          "2014-12-14T00:00:00",
          "2014-12-15T00:00:00",
          "2014-12-16T00:00:00",
          "2014-12-17T00:00:00",
          "2014-12-18T00:00:00",
          "2014-12-19T00:00:00",
          "2014-12-20T00:00:00",
          "2014-12-21T00:00:00",
          "2014-12-22T00:00:00",
          "2014-12-23T00:00:00",
          "2014-12-24T00:00:00",
          "2014-12-25T00:00:00"
         ],
         "y": [
          null,
          null,
          null,
          null,
          null,
          null,
          null,
          null,
          null,
          null,
          null,
          null,
          null,
          null,
          null,
          null,
          null,
          null,
          null,
          null,
          null,
          null,
          null,
          null,
          null,
          null,
          null,
          null,
          null,
          null,
          null,
          null,
          null,
          null,
          null,
          null,
          null,
          null,
          null,
          null,
          null,
          null,
          null,
          null,
          null,
          null,
          null,
          null,
          null,
          null,
          null,
          null,
          null,
          null,
          null,
          null,
          null,
          null,
          null,
          null,
          null,
          null,
          null,
          null,
          null,
          null,
          null,
          null,
          null,
          null,
          null,
          null,
          null,
          null,
          null,
          null,
          null,
          null,
          null,
          null,
          null,
          null,
          null,
          null,
          null,
          null,
          null,
          null,
          null,
          null,
          null,
          null,
          null,
          null,
          null,
          null,
          null,
          null,
          null,
          null
         ]
        }
       ],
       "layout": {
        "margin": {
         "b": 0,
         "l": 0,
         "r": 0,
         "t": 0
        },
        "paper_bgcolor": "black",
        "plot_bgcolor": "black",
        "template": {
         "data": {
          "bar": [
           {
            "error_x": {
             "color": "#2a3f5f"
            },
            "error_y": {
             "color": "#2a3f5f"
            },
            "marker": {
             "line": {
              "color": "#E5ECF6",
              "width": 0.5
             },
             "pattern": {
              "fillmode": "overlay",
              "size": 10,
              "solidity": 0.2
             }
            },
            "type": "bar"
           }
          ],
          "barpolar": [
           {
            "marker": {
             "line": {
              "color": "#E5ECF6",
              "width": 0.5
             },
             "pattern": {
              "fillmode": "overlay",
              "size": 10,
              "solidity": 0.2
             }
            },
            "type": "barpolar"
           }
          ],
          "carpet": [
           {
            "aaxis": {
             "endlinecolor": "#2a3f5f",
             "gridcolor": "white",
             "linecolor": "white",
             "minorgridcolor": "white",
             "startlinecolor": "#2a3f5f"
            },
            "baxis": {
             "endlinecolor": "#2a3f5f",
             "gridcolor": "white",
             "linecolor": "white",
             "minorgridcolor": "white",
             "startlinecolor": "#2a3f5f"
            },
            "type": "carpet"
           }
          ],
          "choropleth": [
           {
            "colorbar": {
             "outlinewidth": 0,
             "ticks": ""
            },
            "type": "choropleth"
           }
          ],
          "contour": [
           {
            "colorbar": {
             "outlinewidth": 0,
             "ticks": ""
            },
            "colorscale": [
             [
              0,
              "#0d0887"
             ],
             [
              0.1111111111111111,
              "#46039f"
             ],
             [
              0.2222222222222222,
              "#7201a8"
             ],
             [
              0.3333333333333333,
              "#9c179e"
             ],
             [
              0.4444444444444444,
              "#bd3786"
             ],
             [
              0.5555555555555556,
              "#d8576b"
             ],
             [
              0.6666666666666666,
              "#ed7953"
             ],
             [
              0.7777777777777778,
              "#fb9f3a"
             ],
             [
              0.8888888888888888,
              "#fdca26"
             ],
             [
              1,
              "#f0f921"
             ]
            ],
            "type": "contour"
           }
          ],
          "contourcarpet": [
           {
            "colorbar": {
             "outlinewidth": 0,
             "ticks": ""
            },
            "type": "contourcarpet"
           }
          ],
          "heatmap": [
           {
            "colorbar": {
             "outlinewidth": 0,
             "ticks": ""
            },
            "colorscale": [
             [
              0,
              "#0d0887"
             ],
             [
              0.1111111111111111,
              "#46039f"
             ],
             [
              0.2222222222222222,
              "#7201a8"
             ],
             [
              0.3333333333333333,
              "#9c179e"
             ],
             [
              0.4444444444444444,
              "#bd3786"
             ],
             [
              0.5555555555555556,
              "#d8576b"
             ],
             [
              0.6666666666666666,
              "#ed7953"
             ],
             [
              0.7777777777777778,
              "#fb9f3a"
             ],
             [
              0.8888888888888888,
              "#fdca26"
             ],
             [
              1,
              "#f0f921"
             ]
            ],
            "type": "heatmap"
           }
          ],
          "heatmapgl": [
           {
            "colorbar": {
             "outlinewidth": 0,
             "ticks": ""
            },
            "colorscale": [
             [
              0,
              "#0d0887"
             ],
             [
              0.1111111111111111,
              "#46039f"
             ],
             [
              0.2222222222222222,
              "#7201a8"
             ],
             [
              0.3333333333333333,
              "#9c179e"
             ],
             [
              0.4444444444444444,
              "#bd3786"
             ],
             [
              0.5555555555555556,
              "#d8576b"
             ],
             [
              0.6666666666666666,
              "#ed7953"
             ],
             [
              0.7777777777777778,
              "#fb9f3a"
             ],
             [
              0.8888888888888888,
              "#fdca26"
             ],
             [
              1,
              "#f0f921"
             ]
            ],
            "type": "heatmapgl"
           }
          ],
          "histogram": [
           {
            "marker": {
             "pattern": {
              "fillmode": "overlay",
              "size": 10,
              "solidity": 0.2
             }
            },
            "type": "histogram"
           }
          ],
          "histogram2d": [
           {
            "colorbar": {
             "outlinewidth": 0,
             "ticks": ""
            },
            "colorscale": [
             [
              0,
              "#0d0887"
             ],
             [
              0.1111111111111111,
              "#46039f"
             ],
             [
              0.2222222222222222,
              "#7201a8"
             ],
             [
              0.3333333333333333,
              "#9c179e"
             ],
             [
              0.4444444444444444,
              "#bd3786"
             ],
             [
              0.5555555555555556,
              "#d8576b"
             ],
             [
              0.6666666666666666,
              "#ed7953"
             ],
             [
              0.7777777777777778,
              "#fb9f3a"
             ],
             [
              0.8888888888888888,
              "#fdca26"
             ],
             [
              1,
              "#f0f921"
             ]
            ],
            "type": "histogram2d"
           }
          ],
          "histogram2dcontour": [
           {
            "colorbar": {
             "outlinewidth": 0,
             "ticks": ""
            },
            "colorscale": [
             [
              0,
              "#0d0887"
             ],
             [
              0.1111111111111111,
              "#46039f"
             ],
             [
              0.2222222222222222,
              "#7201a8"
             ],
             [
              0.3333333333333333,
              "#9c179e"
             ],
             [
              0.4444444444444444,
              "#bd3786"
             ],
             [
              0.5555555555555556,
              "#d8576b"
             ],
             [
              0.6666666666666666,
              "#ed7953"
             ],
             [
              0.7777777777777778,
              "#fb9f3a"
             ],
             [
              0.8888888888888888,
              "#fdca26"
             ],
             [
              1,
              "#f0f921"
             ]
            ],
            "type": "histogram2dcontour"
           }
          ],
          "mesh3d": [
           {
            "colorbar": {
             "outlinewidth": 0,
             "ticks": ""
            },
            "type": "mesh3d"
           }
          ],
          "parcoords": [
           {
            "line": {
             "colorbar": {
              "outlinewidth": 0,
              "ticks": ""
             }
            },
            "type": "parcoords"
           }
          ],
          "pie": [
           {
            "automargin": true,
            "type": "pie"
           }
          ],
          "scatter": [
           {
            "fillpattern": {
             "fillmode": "overlay",
             "size": 10,
             "solidity": 0.2
            },
            "type": "scatter"
           }
          ],
          "scatter3d": [
           {
            "line": {
             "colorbar": {
              "outlinewidth": 0,
              "ticks": ""
             }
            },
            "marker": {
             "colorbar": {
              "outlinewidth": 0,
              "ticks": ""
             }
            },
            "type": "scatter3d"
           }
          ],
          "scattercarpet": [
           {
            "marker": {
             "colorbar": {
              "outlinewidth": 0,
              "ticks": ""
             }
            },
            "type": "scattercarpet"
           }
          ],
          "scattergeo": [
           {
            "marker": {
             "colorbar": {
              "outlinewidth": 0,
              "ticks": ""
             }
            },
            "type": "scattergeo"
           }
          ],
          "scattergl": [
           {
            "marker": {
             "colorbar": {
              "outlinewidth": 0,
              "ticks": ""
             }
            },
            "type": "scattergl"
           }
          ],
          "scattermapbox": [
           {
            "marker": {
             "colorbar": {
              "outlinewidth": 0,
              "ticks": ""
             }
            },
            "type": "scattermapbox"
           }
          ],
          "scatterpolar": [
           {
            "marker": {
             "colorbar": {
              "outlinewidth": 0,
              "ticks": ""
             }
            },
            "type": "scatterpolar"
           }
          ],
          "scatterpolargl": [
           {
            "marker": {
             "colorbar": {
              "outlinewidth": 0,
              "ticks": ""
             }
            },
            "type": "scatterpolargl"
           }
          ],
          "scatterternary": [
           {
            "marker": {
             "colorbar": {
              "outlinewidth": 0,
              "ticks": ""
             }
            },
            "type": "scatterternary"
           }
          ],
          "surface": [
           {
            "colorbar": {
             "outlinewidth": 0,
             "ticks": ""
            },
            "colorscale": [
             [
              0,
              "#0d0887"
             ],
             [
              0.1111111111111111,
              "#46039f"
             ],
             [
              0.2222222222222222,
              "#7201a8"
             ],
             [
              0.3333333333333333,
              "#9c179e"
             ],
             [
              0.4444444444444444,
              "#bd3786"
             ],
             [
              0.5555555555555556,
              "#d8576b"
             ],
             [
              0.6666666666666666,
              "#ed7953"
             ],
             [
              0.7777777777777778,
              "#fb9f3a"
             ],
             [
              0.8888888888888888,
              "#fdca26"
             ],
             [
              1,
              "#f0f921"
             ]
            ],
            "type": "surface"
           }
          ],
          "table": [
           {
            "cells": {
             "fill": {
              "color": "#EBF0F8"
             },
             "line": {
              "color": "white"
             }
            },
            "header": {
             "fill": {
              "color": "#C8D4E3"
             },
             "line": {
              "color": "white"
             }
            },
            "type": "table"
           }
          ]
         },
         "layout": {
          "annotationdefaults": {
           "arrowcolor": "#2a3f5f",
           "arrowhead": 0,
           "arrowwidth": 1
          },
          "autotypenumbers": "strict",
          "coloraxis": {
           "colorbar": {
            "outlinewidth": 0,
            "ticks": ""
           }
          },
          "colorscale": {
           "diverging": [
            [
             0,
             "#8e0152"
            ],
            [
             0.1,
             "#c51b7d"
            ],
            [
             0.2,
             "#de77ae"
            ],
            [
             0.3,
             "#f1b6da"
            ],
            [
             0.4,
             "#fde0ef"
            ],
            [
             0.5,
             "#f7f7f7"
            ],
            [
             0.6,
             "#e6f5d0"
            ],
            [
             0.7,
             "#b8e186"
            ],
            [
             0.8,
             "#7fbc41"
            ],
            [
             0.9,
             "#4d9221"
            ],
            [
             1,
             "#276419"
            ]
           ],
           "sequential": [
            [
             0,
             "#0d0887"
            ],
            [
             0.1111111111111111,
             "#46039f"
            ],
            [
             0.2222222222222222,
             "#7201a8"
            ],
            [
             0.3333333333333333,
             "#9c179e"
            ],
            [
             0.4444444444444444,
             "#bd3786"
            ],
            [
             0.5555555555555556,
             "#d8576b"
            ],
            [
             0.6666666666666666,
             "#ed7953"
            ],
            [
             0.7777777777777778,
             "#fb9f3a"
            ],
            [
             0.8888888888888888,
             "#fdca26"
            ],
            [
             1,
             "#f0f921"
            ]
           ],
           "sequentialminus": [
            [
             0,
             "#0d0887"
            ],
            [
             0.1111111111111111,
             "#46039f"
            ],
            [
             0.2222222222222222,
             "#7201a8"
            ],
            [
             0.3333333333333333,
             "#9c179e"
            ],
            [
             0.4444444444444444,
             "#bd3786"
            ],
            [
             0.5555555555555556,
             "#d8576b"
            ],
            [
             0.6666666666666666,
             "#ed7953"
            ],
            [
             0.7777777777777778,
             "#fb9f3a"
            ],
            [
             0.8888888888888888,
             "#fdca26"
            ],
            [
             1,
             "#f0f921"
            ]
           ]
          },
          "colorway": [
           "#636efa",
           "#EF553B",
           "#00cc96",
           "#ab63fa",
           "#FFA15A",
           "#19d3f3",
           "#FF6692",
           "#B6E880",
           "#FF97FF",
           "#FECB52"
          ],
          "font": {
           "color": "#2a3f5f"
          },
          "geo": {
           "bgcolor": "white",
           "lakecolor": "white",
           "landcolor": "#E5ECF6",
           "showlakes": true,
           "showland": true,
           "subunitcolor": "white"
          },
          "hoverlabel": {
           "align": "left"
          },
          "hovermode": "closest",
          "mapbox": {
           "style": "light"
          },
          "paper_bgcolor": "white",
          "plot_bgcolor": "#E5ECF6",
          "polar": {
           "angularaxis": {
            "gridcolor": "white",
            "linecolor": "white",
            "ticks": ""
           },
           "bgcolor": "#E5ECF6",
           "radialaxis": {
            "gridcolor": "white",
            "linecolor": "white",
            "ticks": ""
           }
          },
          "scene": {
           "xaxis": {
            "backgroundcolor": "#E5ECF6",
            "gridcolor": "white",
            "gridwidth": 2,
            "linecolor": "white",
            "showbackground": true,
            "ticks": "",
            "zerolinecolor": "white"
           },
           "yaxis": {
            "backgroundcolor": "#E5ECF6",
            "gridcolor": "white",
            "gridwidth": 2,
            "linecolor": "white",
            "showbackground": true,
            "ticks": "",
            "zerolinecolor": "white"
           },
           "zaxis": {
            "backgroundcolor": "#E5ECF6",
            "gridcolor": "white",
            "gridwidth": 2,
            "linecolor": "white",
            "showbackground": true,
            "ticks": "",
            "zerolinecolor": "white"
           }
          },
          "shapedefaults": {
           "line": {
            "color": "#2a3f5f"
           }
          },
          "ternary": {
           "aaxis": {
            "gridcolor": "white",
            "linecolor": "white",
            "ticks": ""
           },
           "baxis": {
            "gridcolor": "white",
            "linecolor": "white",
            "ticks": ""
           },
           "bgcolor": "#E5ECF6",
           "caxis": {
            "gridcolor": "white",
            "linecolor": "white",
            "ticks": ""
           }
          },
          "title": {
           "x": 0.05
          },
          "xaxis": {
           "automargin": true,
           "gridcolor": "white",
           "linecolor": "white",
           "ticks": "",
           "title": {
            "standoff": 15
           },
           "zerolinecolor": "white",
           "zerolinewidth": 2
          },
          "yaxis": {
           "automargin": true,
           "gridcolor": "white",
           "linecolor": "white",
           "ticks": "",
           "title": {
            "standoff": 15
           },
           "zerolinecolor": "white",
           "zerolinewidth": 2
          }
         }
        },
        "xaxis": {
         "gridcolor": "white",
         "linecolor": "white",
         "linewidth": 2,
         "rangeslider": {
          "visible": true
         },
         "showline": true
        },
        "yaxis": {
         "gridcolor": "white",
         "linecolor": "white",
         "linewidth": 2,
         "showline": true
        }
       }
      },
      "text/html": [
       "<div>                            <div id=\"9e39adf9-ee92-4918-8d46-8fe733514b0f\" class=\"plotly-graph-div\" style=\"height:525px; width:100%;\"></div>            <script type=\"text/javascript\">                require([\"plotly\"], function(Plotly) {                    window.PLOTLYENV=window.PLOTLYENV || {};                                    if (document.getElementById(\"9e39adf9-ee92-4918-8d46-8fe733514b0f\")) {                    Plotly.newPlot(                        \"9e39adf9-ee92-4918-8d46-8fe733514b0f\",                        [{\"close\":[457.3340148925781,424.44000244140625,394.7959899902344,408.90399169921875,398.8210144042969,402.1520080566406,435.7909851074219,423.2049865722656,411.5740051269531,404.42498779296875,399.5199890136719,377.1809997558594,375.4670104980469,386.9440002441406,383.614990234375,375.0719909667969,359.5119934082031,328.8659973144531,320.510009765625,330.0790100097656,336.18701171875,352.94000244140625,365.0260009765625,361.56201171875,362.29901123046875,378.54901123046875,390.41400146484375,400.8699951171875,394.77301025390625,382.5559997558594,383.75799560546875,391.4419860839844,389.5459899902344,382.8450012207031,386.4750061035156,383.1579895019531,358.4169921875,358.3450012207031,347.27099609375,354.7040100097656,352.989013671875,357.6180114746094,335.59100341796875,345.30499267578125,338.3210144042969,325.7489929199219,325.8919982910156,327.5539855957031,330.49200439453125,339.4859924316406,349.2900085449219,342.4150085449219,345.4880065917969,363.2640075683594,366.92401123046875,367.69500732421875,423.5610046386719,420.7349853515625,397.8179931640625,376.13299560546875,387.8819885253906,387.4079895019531,375.197998046875,380.55499267578125,357.8399963378906,350.8479919433594,352.9200134277344,367.572998046875,376.9010009765625,375.3479919433594,368.3699951171875,369.6700134277344,376.4469909667969,375.4909973144531,378.0469970703125,379.2449951171875,381.31500244140625,375.010009765625,369.60400390625,376.85400390625,374.7850036621094,375.0950012207031,361.90899658203125,352.218994140625,346.364990234375,350.5060119628906,352.5419921875,347.3760070800781,351.6319885253906,345.3450012207031,327.06201171875,319.7760009765625,311.39599609375,317.8429870605469,329.95599365234375,320.8429870605469,331.885986328125,334.5719909667969,322.53399658203125,319.00799560546875],\"decreasing\":{\"line\":{\"color\":\"red\"}},\"high\":[468.17401123046875,456.8599853515625,427.8349914550781,423.2959899902344,412.4259948730469,406.9159851074219,441.5570068359375,436.11199951171875,423.5199890136719,414.93798828125,406.62298583984375,401.0169982910156,385.21099853515625,390.97698974609375,391.3789978027344,385.49700927734375,377.69500732421875,364.48699951171875,341.8009948730469,345.1340026855469,339.24700927734375,354.364013671875,382.72601318359375,375.0669860839844,367.1910095214844,379.4330139160156,397.22601318359375,411.697998046875,402.22698974609375,398.8070068359375,385.4779968261719,395.1579895019531,393.9389953613281,390.0840148925781,392.64599609375,388.57598876953125,385.0480041503906,364.3450012207031,359.8609924316406,359.22100830078125,358.6319885253906,359.9840087890625,357.8330078125,350.9129943847656,348.0450134277344,340.52899169921875,329.04998779296875,334.00201416015625,331.7669982910156,343.3689880371094,352.96600341796875,352.73199462890625,347.0320129394531,363.6260070800781,374.8160095214844,371.30999755859375,429.7179870605469,457.0929870605469,419.25201416015625,405.52801513671875,390.79901123046875,410.1990051269531,392.4020080566406,386.4809875488281,382.0249938964844,357.8789978027344,364.84100341796875,370.8450012207031,387.2090148925781,394.70098876953125,377.697998046875,373.99200439453125,382.8380126953125,387.60101318359375,382.5270080566406,383.6619873046875,384.0379943847656,383.0260009765625,378.6549987792969,379.1919860839844,378.447998046875,376.2919921875,376.02899169921875,363.0669860839844,352.3840026855469,361.35699462890625,352.9830017089844,352.3810119628906,353.3160095214844,351.81500244140625,345.8590087890625,333.9540100097656,323.7090148925781,318.5329895019531,330.32501220703125,329.6289978027344,334.11700439453125,336.2869873046875,334.7409973144531,322.6700134277344],\"increasing\":{\"line\":{\"color\":\"green\"}},\"low\":[452.4219970703125,413.10400390625,384.5320129394531,389.88299560546875,393.1809997558594,397.1300048828125,396.1969909667969,421.1319885253906,409.4679870605469,400.0090026855469,397.37200927734375,374.3320007324219,372.239990234375,373.4429931640625,380.7799987792969,372.9460144042969,357.8590087890625,325.885986328125,289.2959899902344,302.55999755859375,320.48199462890625,327.18798828125,347.68701171875,352.9630126953125,355.95098876953125,356.1440124511719,368.8970031738281,391.3240051269531,388.7659912109375,373.07000732421875,375.3890075683594,378.97100830078125,386.4570007324219,378.25201416015625,380.8340148925781,382.2489929199219,356.4469909667969,353.30499267578125,342.87701416015625,343.9309997558594,349.8089904785156,352.6789855957031,335.3429870605469,335.0719909667969,337.1419982910156,321.05499267578125,320.6260070800781,325.4809875488281,325.0769958496094,330.6830139160156,338.42401123046875,341.7760009765625,342.15399169921875,344.2550048828125,357.5610046386719,363.7349853515625,367.9849853515625,401.12298583984375,384.78900146484375,371.00799560546875,374.60198974609375,377.50201416015625,371.11700439453125,373.89599609375,356.781005859375,344.11199951171875,350.87799072265625,353.17498779296875,366.66900634765625,374.78399658203125,365.8160095214844,368.2820129394531,358.4549865722656,372.1449890136719,373.3089904785156,376.66900634765625,377.8630065917969,374.34600830078125,367.7590026855469,365.7560119628906,370.94500732421875,373.2749938964844,361.885986328125,344.95098876953125,346.364990234375,338.76300048828125,349.2909851074219,346.5880126953125,345.4179992675781,344.9339904785156,327.06201171875,315.1520080566406,304.23199462890625,306.7690124511719,316.04400634765625,318.90301513671875,320.42498779296875,329.60198974609375,321.35699462890625,316.9580078125],\"open\":[465.864013671875,456.8599853515625,424.1029968261719,394.6730041503906,408.0849914550781,399.1000061035156,402.0920104980469,435.7510070800781,423.156005859375,411.4289855957031,403.5559997558594,399.47100830078125,376.9280090332031,376.0880126953125,387.427001953125,383.9880065917969,375.1809997558594,359.8919982910156,328.9159851074219,320.3890075683594,330.5840148925781,336.1159973144531,352.74798583984375,364.68701171875,361.36199951171875,362.6059875488281,377.9209899902344,391.6919860839844,400.9549865722656,394.51800537109375,382.7560119628906,383.97601318359375,391.2539978027344,389.2309875488281,382.4209899902344,386.1180114746094,382.9620056152344,358.59100341796875,358.6109924316406,347.48699951171875,354.7770080566406,353.2149963378906,357.0889892578125,335.7090148925781,345.0090026855469,338.6499938964844,326.07501220703125,325.5690002441406,327.1610107421875,330.6830139160156,339.4580078125,349.8179931640625,342.15399169921875,345.3760070800781,362.2650146484375,365.85699462890625,367.9849853515625,427.27301025390625,418.4169921875,399.6499938964844,374.7300109863281,388.3489990234375,387.7850036621094,373.89599609375,380.3070068359375,357.8789978027344,351.60400390625,353.17498779296875,366.947998046875,376.885986328125,376.0190124511719,370.50201416015625,369.3739929199219,376.1520080566406,375.510009765625,378.2489929199219,379.25,381.72198486328125,375.7179870605469,369.4419860839844,376.7569885253906,374.83599853515625,374.9649963378906,361.8949890136719,352.2049865722656,344.3399963378906,350.8330078125,352.3810119628906,346.72698974609375,351.3609924316406,345.6730041503906,326.8550109863281,319.7850036621094,311.1789855957031,317.6189880371094,329.5429992675781,321.0679931640625,332.0169982910156,334.385009765625,322.2860107421875],\"x\":[\"2014-09-17T00:00:00\",\"2014-09-18T00:00:00\",\"2014-09-19T00:00:00\",\"2014-09-20T00:00:00\",\"2014-09-21T00:00:00\",\"2014-09-22T00:00:00\",\"2014-09-23T00:00:00\",\"2014-09-24T00:00:00\",\"2014-09-25T00:00:00\",\"2014-09-26T00:00:00\",\"2014-09-27T00:00:00\",\"2014-09-28T00:00:00\",\"2014-09-29T00:00:00\",\"2014-09-30T00:00:00\",\"2014-10-01T00:00:00\",\"2014-10-02T00:00:00\",\"2014-10-03T00:00:00\",\"2014-10-04T00:00:00\",\"2014-10-05T00:00:00\",\"2014-10-06T00:00:00\",\"2014-10-07T00:00:00\",\"2014-10-08T00:00:00\",\"2014-10-09T00:00:00\",\"2014-10-10T00:00:00\",\"2014-10-11T00:00:00\",\"2014-10-12T00:00:00\",\"2014-10-13T00:00:00\",\"2014-10-14T00:00:00\",\"2014-10-15T00:00:00\",\"2014-10-16T00:00:00\",\"2014-10-17T00:00:00\",\"2014-10-18T00:00:00\",\"2014-10-19T00:00:00\",\"2014-10-20T00:00:00\",\"2014-10-21T00:00:00\",\"2014-10-22T00:00:00\",\"2014-10-23T00:00:00\",\"2014-10-24T00:00:00\",\"2014-10-25T00:00:00\",\"2014-10-26T00:00:00\",\"2014-10-27T00:00:00\",\"2014-10-28T00:00:00\",\"2014-10-29T00:00:00\",\"2014-10-30T00:00:00\",\"2014-10-31T00:00:00\",\"2014-11-01T00:00:00\",\"2014-11-02T00:00:00\",\"2014-11-03T00:00:00\",\"2014-11-04T00:00:00\",\"2014-11-05T00:00:00\",\"2014-11-06T00:00:00\",\"2014-11-07T00:00:00\",\"2014-11-08T00:00:00\",\"2014-11-09T00:00:00\",\"2014-11-10T00:00:00\",\"2014-11-11T00:00:00\",\"2014-11-12T00:00:00\",\"2014-11-13T00:00:00\",\"2014-11-14T00:00:00\",\"2014-11-15T00:00:00\",\"2014-11-16T00:00:00\",\"2014-11-17T00:00:00\",\"2014-11-18T00:00:00\",\"2014-11-19T00:00:00\",\"2014-11-20T00:00:00\",\"2014-11-21T00:00:00\",\"2014-11-22T00:00:00\",\"2014-11-23T00:00:00\",\"2014-11-24T00:00:00\",\"2014-11-25T00:00:00\",\"2014-11-26T00:00:00\",\"2014-11-27T00:00:00\",\"2014-11-28T00:00:00\",\"2014-11-29T00:00:00\",\"2014-11-30T00:00:00\",\"2014-12-01T00:00:00\",\"2014-12-02T00:00:00\",\"2014-12-03T00:00:00\",\"2014-12-04T00:00:00\",\"2014-12-05T00:00:00\",\"2014-12-06T00:00:00\",\"2014-12-07T00:00:00\",\"2014-12-08T00:00:00\",\"2014-12-09T00:00:00\",\"2014-12-10T00:00:00\",\"2014-12-11T00:00:00\",\"2014-12-12T00:00:00\",\"2014-12-13T00:00:00\",\"2014-12-14T00:00:00\",\"2014-12-15T00:00:00\",\"2014-12-16T00:00:00\",\"2014-12-17T00:00:00\",\"2014-12-18T00:00:00\",\"2014-12-19T00:00:00\",\"2014-12-20T00:00:00\",\"2014-12-21T00:00:00\",\"2014-12-22T00:00:00\",\"2014-12-23T00:00:00\",\"2014-12-24T00:00:00\",\"2014-12-25T00:00:00\"],\"type\":\"candlestick\"},{\"line\":{\"color\":\"green\",\"width\":3},\"name\":\"SUPPORT\",\"x\":[\"2014-09-17T00:00:00\",\"2014-09-18T00:00:00\",\"2014-09-19T00:00:00\",\"2014-09-20T00:00:00\",\"2014-09-21T00:00:00\",\"2014-09-22T00:00:00\",\"2014-09-23T00:00:00\",\"2014-09-24T00:00:00\",\"2014-09-25T00:00:00\",\"2014-09-26T00:00:00\",\"2014-09-27T00:00:00\",\"2014-09-28T00:00:00\",\"2014-09-29T00:00:00\",\"2014-09-30T00:00:00\",\"2014-10-01T00:00:00\",\"2014-10-02T00:00:00\",\"2014-10-03T00:00:00\",\"2014-10-04T00:00:00\",\"2014-10-05T00:00:00\",\"2014-10-06T00:00:00\",\"2014-10-07T00:00:00\",\"2014-10-08T00:00:00\",\"2014-10-09T00:00:00\",\"2014-10-10T00:00:00\",\"2014-10-11T00:00:00\",\"2014-10-12T00:00:00\",\"2014-10-13T00:00:00\",\"2014-10-14T00:00:00\",\"2014-10-15T00:00:00\",\"2014-10-16T00:00:00\",\"2014-10-17T00:00:00\",\"2014-10-18T00:00:00\",\"2014-10-19T00:00:00\",\"2014-10-20T00:00:00\",\"2014-10-21T00:00:00\",\"2014-10-22T00:00:00\",\"2014-10-23T00:00:00\",\"2014-10-24T00:00:00\",\"2014-10-25T00:00:00\",\"2014-10-26T00:00:00\",\"2014-10-27T00:00:00\",\"2014-10-28T00:00:00\",\"2014-10-29T00:00:00\",\"2014-10-30T00:00:00\",\"2014-10-31T00:00:00\",\"2014-11-01T00:00:00\",\"2014-11-02T00:00:00\",\"2014-11-03T00:00:00\",\"2014-11-04T00:00:00\",\"2014-11-05T00:00:00\",\"2014-11-06T00:00:00\",\"2014-11-07T00:00:00\",\"2014-11-08T00:00:00\",\"2014-11-09T00:00:00\",\"2014-11-10T00:00:00\",\"2014-11-11T00:00:00\",\"2014-11-12T00:00:00\",\"2014-11-13T00:00:00\",\"2014-11-14T00:00:00\",\"2014-11-15T00:00:00\",\"2014-11-16T00:00:00\",\"2014-11-17T00:00:00\",\"2014-11-18T00:00:00\",\"2014-11-19T00:00:00\",\"2014-11-20T00:00:00\",\"2014-11-21T00:00:00\",\"2014-11-22T00:00:00\",\"2014-11-23T00:00:00\",\"2014-11-24T00:00:00\",\"2014-11-25T00:00:00\",\"2014-11-26T00:00:00\",\"2014-11-27T00:00:00\",\"2014-11-28T00:00:00\",\"2014-11-29T00:00:00\",\"2014-11-30T00:00:00\",\"2014-12-01T00:00:00\",\"2014-12-02T00:00:00\",\"2014-12-03T00:00:00\",\"2014-12-04T00:00:00\",\"2014-12-05T00:00:00\",\"2014-12-06T00:00:00\",\"2014-12-07T00:00:00\",\"2014-12-08T00:00:00\",\"2014-12-09T00:00:00\",\"2014-12-10T00:00:00\",\"2014-12-11T00:00:00\",\"2014-12-12T00:00:00\",\"2014-12-13T00:00:00\",\"2014-12-14T00:00:00\",\"2014-12-15T00:00:00\",\"2014-12-16T00:00:00\",\"2014-12-17T00:00:00\",\"2014-12-18T00:00:00\",\"2014-12-19T00:00:00\",\"2014-12-20T00:00:00\",\"2014-12-21T00:00:00\",\"2014-12-22T00:00:00\",\"2014-12-23T00:00:00\",\"2014-12-24T00:00:00\",\"2014-12-25T00:00:00\"],\"y\":[null,null,null,null,null,null,null,null,null,null,null,null,null,null,null,null,null,null,null,289.49513671875,289.69428344726566,289.8934301757813,290.09257690429695,290.2917236328126,290.49087036132823,290.6900170898439,290.8891638183595,291.08831054687516,291.2874572753908,291.48660400390645,291.6857507324221,291.88489746093774,292.0840441894534,292.283190917969,292.48233764648467,292.6814843750003,292.88063110351595,293.0797778320316,293.27892456054724,293.4780712890629,293.6772180175785,293.87636474609417,294.0755114746098,294.27465820312545,294.4738049316411,294.67295166015674,294.8720983886724,295.071245117188,295.27039184570367,295.4695385742193,295.66868530273496,295.8678320312506,296.06697875976624,296.2661254882819,296.46527221679753,296.6644189453132,296.8635656738288,297.06271240234446,297.2618591308601,297.46100585937575,297.6601525878914,297.85929931640703,298.0584460449227,298.2575927734383,298.45673950195396,298.6558862304696,298.85503295898525,299.0541796875009,299.25332641601653,299.4524731445322,299.6516198730478,299.85076660156346,300.0499133300791,300.24906005859475,300.4482067871104,300.64735351562604,300.8465002441417,301.0456469726573,301.24479370117297,301.4439404296886,301.64308715820425,301.8422338867199,302.04138061523554,302.2405273437512,302.4396740722668,302.63882080078247,302.8379675292981,303.03711425781376,303.2362609863294,303.43540771484504,303.6345544433607,303.8337011718763,304.03284790039197,304.2319946289076,304.43114135742326,304.6302880859389,304.82943481445454,305.0285815429702,305.22772827148583,305.4268750000015],\"type\":\"scatter\"},{\"line\":{\"color\":\"red\",\"width\":3},\"name\":\"RESISTANCE\",\"x\":[\"2014-09-17T00:00:00\",\"2014-09-18T00:00:00\",\"2014-09-19T00:00:00\",\"2014-09-20T00:00:00\",\"2014-09-21T00:00:00\",\"2014-09-22T00:00:00\",\"2014-09-23T00:00:00\",\"2014-09-24T00:00:00\",\"2014-09-25T00:00:00\",\"2014-09-26T00:00:00\",\"2014-09-27T00:00:00\",\"2014-09-28T00:00:00\",\"2014-09-29T00:00:00\",\"2014-09-30T00:00:00\",\"2014-10-01T00:00:00\",\"2014-10-02T00:00:00\",\"2014-10-03T00:00:00\",\"2014-10-04T00:00:00\",\"2014-10-05T00:00:00\",\"2014-10-06T00:00:00\",\"2014-10-07T00:00:00\",\"2014-10-08T00:00:00\",\"2014-10-09T00:00:00\",\"2014-10-10T00:00:00\",\"2014-10-11T00:00:00\",\"2014-10-12T00:00:00\",\"2014-10-13T00:00:00\",\"2014-10-14T00:00:00\",\"2014-10-15T00:00:00\",\"2014-10-16T00:00:00\",\"2014-10-17T00:00:00\",\"2014-10-18T00:00:00\",\"2014-10-19T00:00:00\",\"2014-10-20T00:00:00\",\"2014-10-21T00:00:00\",\"2014-10-22T00:00:00\",\"2014-10-23T00:00:00\",\"2014-10-24T00:00:00\",\"2014-10-25T00:00:00\",\"2014-10-26T00:00:00\",\"2014-10-27T00:00:00\",\"2014-10-28T00:00:00\",\"2014-10-29T00:00:00\",\"2014-10-30T00:00:00\",\"2014-10-31T00:00:00\",\"2014-11-01T00:00:00\",\"2014-11-02T00:00:00\",\"2014-11-03T00:00:00\",\"2014-11-04T00:00:00\",\"2014-11-05T00:00:00\",\"2014-11-06T00:00:00\",\"2014-11-07T00:00:00\",\"2014-11-08T00:00:00\",\"2014-11-09T00:00:00\",\"2014-11-10T00:00:00\",\"2014-11-11T00:00:00\",\"2014-11-12T00:00:00\",\"2014-11-13T00:00:00\",\"2014-11-14T00:00:00\",\"2014-11-15T00:00:00\",\"2014-11-16T00:00:00\",\"2014-11-17T00:00:00\",\"2014-11-18T00:00:00\",\"2014-11-19T00:00:00\",\"2014-11-20T00:00:00\",\"2014-11-21T00:00:00\",\"2014-11-22T00:00:00\",\"2014-11-23T00:00:00\",\"2014-11-24T00:00:00\",\"2014-11-25T00:00:00\",\"2014-11-26T00:00:00\",\"2014-11-27T00:00:00\",\"2014-11-28T00:00:00\",\"2014-11-29T00:00:00\",\"2014-11-30T00:00:00\",\"2014-12-01T00:00:00\",\"2014-12-02T00:00:00\",\"2014-12-03T00:00:00\",\"2014-12-04T00:00:00\",\"2014-12-05T00:00:00\",\"2014-12-06T00:00:00\",\"2014-12-07T00:00:00\",\"2014-12-08T00:00:00\",\"2014-12-09T00:00:00\",\"2014-12-10T00:00:00\",\"2014-12-11T00:00:00\",\"2014-12-12T00:00:00\",\"2014-12-13T00:00:00\",\"2014-12-14T00:00:00\",\"2014-12-15T00:00:00\",\"2014-12-16T00:00:00\",\"2014-12-17T00:00:00\",\"2014-12-18T00:00:00\",\"2014-12-19T00:00:00\",\"2014-12-20T00:00:00\",\"2014-12-21T00:00:00\",\"2014-12-22T00:00:00\",\"2014-12-23T00:00:00\",\"2014-12-24T00:00:00\",\"2014-12-25T00:00:00\"],\"y\":[null,null,null,null,null,null,null,null,null,null,null,null,null,null,null,null,null,null,null,null,null,null,null,null,null,null,null,null,413.16235253118697,414.62670701549894,416.0910614998109,417.5554159841229,419.01977046843484,420.4841249527468,421.9484794370588,423.41283392137075,424.8771884056827,426.3415428899947,427.80589737430665,429.2702518586186,430.7346063429306,432.19896082724256,433.6633153115545,435.1276697958665,436.59202428017846,438.05637876449043,439.5207332488024,440.98508773311437,442.44944221742634,443.9137967017383,445.3781511860503,446.84250567036224,448.3068601546742,449.7712146389862,451.23556912329815,452.6999236076101,454.1642780919221,455.62863257623405,457.092987060546,458.557341544858,460.02169602916996,461.4860505134819,462.9504049977939,464.41475948210586,465.87911396641783,467.3434684507298,468.80782293504177,470.27217741935374,471.7365319036657,473.2008863879777,474.66524087228964,476.1295953566016,477.5939498409136,479.05830432522555,480.5226588095375,481.9870132938495,483.45136777816145,484.9157222624734,486.3800767467854,487.84443123109736,489.30878571540933,490.7731401997213,492.23749468403327,493.70184916834523,495.1662036526572,496.63055813696917,498.09491262128114,499.5592671055931,501.0236215899051,502.48797607421704,503.952330558529,505.416685042841,506.88103952715295,508.3453940114649,509.8097484957769,511.27410298008886,512.7384574644009,514.2028119487129,515.6671664330249,517.131520917337],\"type\":\"scatter\"},{\"marker\":{\"color\":\"Orange\",\"size\":5},\"mode\":\"markers\",\"name\":\"Buy\",\"x\":[\"2014-09-17T00:00:00\",\"2014-09-18T00:00:00\",\"2014-09-19T00:00:00\",\"2014-09-20T00:00:00\",\"2014-09-21T00:00:00\",\"2014-09-22T00:00:00\",\"2014-09-23T00:00:00\",\"2014-09-24T00:00:00\",\"2014-09-25T00:00:00\",\"2014-09-26T00:00:00\",\"2014-09-27T00:00:00\",\"2014-09-28T00:00:00\",\"2014-09-29T00:00:00\",\"2014-09-30T00:00:00\",\"2014-10-01T00:00:00\",\"2014-10-02T00:00:00\",\"2014-10-03T00:00:00\",\"2014-10-04T00:00:00\",\"2014-10-05T00:00:00\",\"2014-10-06T00:00:00\",\"2014-10-07T00:00:00\",\"2014-10-08T00:00:00\",\"2014-10-09T00:00:00\",\"2014-10-10T00:00:00\",\"2014-10-11T00:00:00\",\"2014-10-12T00:00:00\",\"2014-10-13T00:00:00\",\"2014-10-14T00:00:00\",\"2014-10-15T00:00:00\",\"2014-10-16T00:00:00\",\"2014-10-17T00:00:00\",\"2014-10-18T00:00:00\",\"2014-10-19T00:00:00\",\"2014-10-20T00:00:00\",\"2014-10-21T00:00:00\",\"2014-10-22T00:00:00\",\"2014-10-23T00:00:00\",\"2014-10-24T00:00:00\",\"2014-10-25T00:00:00\",\"2014-10-26T00:00:00\",\"2014-10-27T00:00:00\",\"2014-10-28T00:00:00\",\"2014-10-29T00:00:00\",\"2014-10-30T00:00:00\",\"2014-10-31T00:00:00\",\"2014-11-01T00:00:00\",\"2014-11-02T00:00:00\",\"2014-11-03T00:00:00\",\"2014-11-04T00:00:00\",\"2014-11-05T00:00:00\",\"2014-11-06T00:00:00\",\"2014-11-07T00:00:00\",\"2014-11-08T00:00:00\",\"2014-11-09T00:00:00\",\"2014-11-10T00:00:00\",\"2014-11-11T00:00:00\",\"2014-11-12T00:00:00\",\"2014-11-13T00:00:00\",\"2014-11-14T00:00:00\",\"2014-11-15T00:00:00\",\"2014-11-16T00:00:00\",\"2014-11-17T00:00:00\",\"2014-11-18T00:00:00\",\"2014-11-19T00:00:00\",\"2014-11-20T00:00:00\",\"2014-11-21T00:00:00\",\"2014-11-22T00:00:00\",\"2014-11-23T00:00:00\",\"2014-11-24T00:00:00\",\"2014-11-25T00:00:00\",\"2014-11-26T00:00:00\",\"2014-11-27T00:00:00\",\"2014-11-28T00:00:00\",\"2014-11-29T00:00:00\",\"2014-11-30T00:00:00\",\"2014-12-01T00:00:00\",\"2014-12-02T00:00:00\",\"2014-12-03T00:00:00\",\"2014-12-04T00:00:00\",\"2014-12-05T00:00:00\",\"2014-12-06T00:00:00\",\"2014-12-07T00:00:00\",\"2014-12-08T00:00:00\",\"2014-12-09T00:00:00\",\"2014-12-10T00:00:00\",\"2014-12-11T00:00:00\",\"2014-12-12T00:00:00\",\"2014-12-13T00:00:00\",\"2014-12-14T00:00:00\",\"2014-12-15T00:00:00\",\"2014-12-16T00:00:00\",\"2014-12-17T00:00:00\",\"2014-12-18T00:00:00\",\"2014-12-19T00:00:00\",\"2014-12-20T00:00:00\",\"2014-12-21T00:00:00\",\"2014-12-22T00:00:00\",\"2014-12-23T00:00:00\",\"2014-12-24T00:00:00\",\"2014-12-25T00:00:00\"],\"y\":[null,null,null,null,null,null,null,null,null,null,null,null,null,null,null,null,null,null,null,null,null,null,null,null,null,null,null,null,null,null,null,null,null,null,null,null,null,null,null,null,null,null,null,null,null,null,null,null,null,null,null,null,null,null,null,null,null,null,null,null,null,null,null,null,null,null,null,null,null,null,null,null,null,null,null,null,null,null,null,null,null,null,null,null,null,null,null,null,null,null,null,null,null,null,null,null,null,null,null,null],\"type\":\"scatter\"}],                        {\"template\":{\"data\":{\"histogram2dcontour\":[{\"type\":\"histogram2dcontour\",\"colorbar\":{\"outlinewidth\":0,\"ticks\":\"\"},\"colorscale\":[[0.0,\"#0d0887\"],[0.1111111111111111,\"#46039f\"],[0.2222222222222222,\"#7201a8\"],[0.3333333333333333,\"#9c179e\"],[0.4444444444444444,\"#bd3786\"],[0.5555555555555556,\"#d8576b\"],[0.6666666666666666,\"#ed7953\"],[0.7777777777777778,\"#fb9f3a\"],[0.8888888888888888,\"#fdca26\"],[1.0,\"#f0f921\"]]}],\"choropleth\":[{\"type\":\"choropleth\",\"colorbar\":{\"outlinewidth\":0,\"ticks\":\"\"}}],\"histogram2d\":[{\"type\":\"histogram2d\",\"colorbar\":{\"outlinewidth\":0,\"ticks\":\"\"},\"colorscale\":[[0.0,\"#0d0887\"],[0.1111111111111111,\"#46039f\"],[0.2222222222222222,\"#7201a8\"],[0.3333333333333333,\"#9c179e\"],[0.4444444444444444,\"#bd3786\"],[0.5555555555555556,\"#d8576b\"],[0.6666666666666666,\"#ed7953\"],[0.7777777777777778,\"#fb9f3a\"],[0.8888888888888888,\"#fdca26\"],[1.0,\"#f0f921\"]]}],\"heatmap\":[{\"type\":\"heatmap\",\"colorbar\":{\"outlinewidth\":0,\"ticks\":\"\"},\"colorscale\":[[0.0,\"#0d0887\"],[0.1111111111111111,\"#46039f\"],[0.2222222222222222,\"#7201a8\"],[0.3333333333333333,\"#9c179e\"],[0.4444444444444444,\"#bd3786\"],[0.5555555555555556,\"#d8576b\"],[0.6666666666666666,\"#ed7953\"],[0.7777777777777778,\"#fb9f3a\"],[0.8888888888888888,\"#fdca26\"],[1.0,\"#f0f921\"]]}],\"heatmapgl\":[{\"type\":\"heatmapgl\",\"colorbar\":{\"outlinewidth\":0,\"ticks\":\"\"},\"colorscale\":[[0.0,\"#0d0887\"],[0.1111111111111111,\"#46039f\"],[0.2222222222222222,\"#7201a8\"],[0.3333333333333333,\"#9c179e\"],[0.4444444444444444,\"#bd3786\"],[0.5555555555555556,\"#d8576b\"],[0.6666666666666666,\"#ed7953\"],[0.7777777777777778,\"#fb9f3a\"],[0.8888888888888888,\"#fdca26\"],[1.0,\"#f0f921\"]]}],\"contourcarpet\":[{\"type\":\"contourcarpet\",\"colorbar\":{\"outlinewidth\":0,\"ticks\":\"\"}}],\"contour\":[{\"type\":\"contour\",\"colorbar\":{\"outlinewidth\":0,\"ticks\":\"\"},\"colorscale\":[[0.0,\"#0d0887\"],[0.1111111111111111,\"#46039f\"],[0.2222222222222222,\"#7201a8\"],[0.3333333333333333,\"#9c179e\"],[0.4444444444444444,\"#bd3786\"],[0.5555555555555556,\"#d8576b\"],[0.6666666666666666,\"#ed7953\"],[0.7777777777777778,\"#fb9f3a\"],[0.8888888888888888,\"#fdca26\"],[1.0,\"#f0f921\"]]}],\"surface\":[{\"type\":\"surface\",\"colorbar\":{\"outlinewidth\":0,\"ticks\":\"\"},\"colorscale\":[[0.0,\"#0d0887\"],[0.1111111111111111,\"#46039f\"],[0.2222222222222222,\"#7201a8\"],[0.3333333333333333,\"#9c179e\"],[0.4444444444444444,\"#bd3786\"],[0.5555555555555556,\"#d8576b\"],[0.6666666666666666,\"#ed7953\"],[0.7777777777777778,\"#fb9f3a\"],[0.8888888888888888,\"#fdca26\"],[1.0,\"#f0f921\"]]}],\"mesh3d\":[{\"type\":\"mesh3d\",\"colorbar\":{\"outlinewidth\":0,\"ticks\":\"\"}}],\"scatter\":[{\"fillpattern\":{\"fillmode\":\"overlay\",\"size\":10,\"solidity\":0.2},\"type\":\"scatter\"}],\"parcoords\":[{\"type\":\"parcoords\",\"line\":{\"colorbar\":{\"outlinewidth\":0,\"ticks\":\"\"}}}],\"scatterpolargl\":[{\"type\":\"scatterpolargl\",\"marker\":{\"colorbar\":{\"outlinewidth\":0,\"ticks\":\"\"}}}],\"bar\":[{\"error_x\":{\"color\":\"#2a3f5f\"},\"error_y\":{\"color\":\"#2a3f5f\"},\"marker\":{\"line\":{\"color\":\"#E5ECF6\",\"width\":0.5},\"pattern\":{\"fillmode\":\"overlay\",\"size\":10,\"solidity\":0.2}},\"type\":\"bar\"}],\"scattergeo\":[{\"type\":\"scattergeo\",\"marker\":{\"colorbar\":{\"outlinewidth\":0,\"ticks\":\"\"}}}],\"scatterpolar\":[{\"type\":\"scatterpolar\",\"marker\":{\"colorbar\":{\"outlinewidth\":0,\"ticks\":\"\"}}}],\"histogram\":[{\"marker\":{\"pattern\":{\"fillmode\":\"overlay\",\"size\":10,\"solidity\":0.2}},\"type\":\"histogram\"}],\"scattergl\":[{\"type\":\"scattergl\",\"marker\":{\"colorbar\":{\"outlinewidth\":0,\"ticks\":\"\"}}}],\"scatter3d\":[{\"type\":\"scatter3d\",\"line\":{\"colorbar\":{\"outlinewidth\":0,\"ticks\":\"\"}},\"marker\":{\"colorbar\":{\"outlinewidth\":0,\"ticks\":\"\"}}}],\"scattermapbox\":[{\"type\":\"scattermapbox\",\"marker\":{\"colorbar\":{\"outlinewidth\":0,\"ticks\":\"\"}}}],\"scatterternary\":[{\"type\":\"scatterternary\",\"marker\":{\"colorbar\":{\"outlinewidth\":0,\"ticks\":\"\"}}}],\"scattercarpet\":[{\"type\":\"scattercarpet\",\"marker\":{\"colorbar\":{\"outlinewidth\":0,\"ticks\":\"\"}}}],\"carpet\":[{\"aaxis\":{\"endlinecolor\":\"#2a3f5f\",\"gridcolor\":\"white\",\"linecolor\":\"white\",\"minorgridcolor\":\"white\",\"startlinecolor\":\"#2a3f5f\"},\"baxis\":{\"endlinecolor\":\"#2a3f5f\",\"gridcolor\":\"white\",\"linecolor\":\"white\",\"minorgridcolor\":\"white\",\"startlinecolor\":\"#2a3f5f\"},\"type\":\"carpet\"}],\"table\":[{\"cells\":{\"fill\":{\"color\":\"#EBF0F8\"},\"line\":{\"color\":\"white\"}},\"header\":{\"fill\":{\"color\":\"#C8D4E3\"},\"line\":{\"color\":\"white\"}},\"type\":\"table\"}],\"barpolar\":[{\"marker\":{\"line\":{\"color\":\"#E5ECF6\",\"width\":0.5},\"pattern\":{\"fillmode\":\"overlay\",\"size\":10,\"solidity\":0.2}},\"type\":\"barpolar\"}],\"pie\":[{\"automargin\":true,\"type\":\"pie\"}]},\"layout\":{\"autotypenumbers\":\"strict\",\"colorway\":[\"#636efa\",\"#EF553B\",\"#00cc96\",\"#ab63fa\",\"#FFA15A\",\"#19d3f3\",\"#FF6692\",\"#B6E880\",\"#FF97FF\",\"#FECB52\"],\"font\":{\"color\":\"#2a3f5f\"},\"hovermode\":\"closest\",\"hoverlabel\":{\"align\":\"left\"},\"paper_bgcolor\":\"white\",\"plot_bgcolor\":\"#E5ECF6\",\"polar\":{\"bgcolor\":\"#E5ECF6\",\"angularaxis\":{\"gridcolor\":\"white\",\"linecolor\":\"white\",\"ticks\":\"\"},\"radialaxis\":{\"gridcolor\":\"white\",\"linecolor\":\"white\",\"ticks\":\"\"}},\"ternary\":{\"bgcolor\":\"#E5ECF6\",\"aaxis\":{\"gridcolor\":\"white\",\"linecolor\":\"white\",\"ticks\":\"\"},\"baxis\":{\"gridcolor\":\"white\",\"linecolor\":\"white\",\"ticks\":\"\"},\"caxis\":{\"gridcolor\":\"white\",\"linecolor\":\"white\",\"ticks\":\"\"}},\"coloraxis\":{\"colorbar\":{\"outlinewidth\":0,\"ticks\":\"\"}},\"colorscale\":{\"sequential\":[[0.0,\"#0d0887\"],[0.1111111111111111,\"#46039f\"],[0.2222222222222222,\"#7201a8\"],[0.3333333333333333,\"#9c179e\"],[0.4444444444444444,\"#bd3786\"],[0.5555555555555556,\"#d8576b\"],[0.6666666666666666,\"#ed7953\"],[0.7777777777777778,\"#fb9f3a\"],[0.8888888888888888,\"#fdca26\"],[1.0,\"#f0f921\"]],\"sequentialminus\":[[0.0,\"#0d0887\"],[0.1111111111111111,\"#46039f\"],[0.2222222222222222,\"#7201a8\"],[0.3333333333333333,\"#9c179e\"],[0.4444444444444444,\"#bd3786\"],[0.5555555555555556,\"#d8576b\"],[0.6666666666666666,\"#ed7953\"],[0.7777777777777778,\"#fb9f3a\"],[0.8888888888888888,\"#fdca26\"],[1.0,\"#f0f921\"]],\"diverging\":[[0,\"#8e0152\"],[0.1,\"#c51b7d\"],[0.2,\"#de77ae\"],[0.3,\"#f1b6da\"],[0.4,\"#fde0ef\"],[0.5,\"#f7f7f7\"],[0.6,\"#e6f5d0\"],[0.7,\"#b8e186\"],[0.8,\"#7fbc41\"],[0.9,\"#4d9221\"],[1,\"#276419\"]]},\"xaxis\":{\"gridcolor\":\"white\",\"linecolor\":\"white\",\"ticks\":\"\",\"title\":{\"standoff\":15},\"zerolinecolor\":\"white\",\"automargin\":true,\"zerolinewidth\":2},\"yaxis\":{\"gridcolor\":\"white\",\"linecolor\":\"white\",\"ticks\":\"\",\"title\":{\"standoff\":15},\"zerolinecolor\":\"white\",\"automargin\":true,\"zerolinewidth\":2},\"scene\":{\"xaxis\":{\"backgroundcolor\":\"#E5ECF6\",\"gridcolor\":\"white\",\"linecolor\":\"white\",\"showbackground\":true,\"ticks\":\"\",\"zerolinecolor\":\"white\",\"gridwidth\":2},\"yaxis\":{\"backgroundcolor\":\"#E5ECF6\",\"gridcolor\":\"white\",\"linecolor\":\"white\",\"showbackground\":true,\"ticks\":\"\",\"zerolinecolor\":\"white\",\"gridwidth\":2},\"zaxis\":{\"backgroundcolor\":\"#E5ECF6\",\"gridcolor\":\"white\",\"linecolor\":\"white\",\"showbackground\":true,\"ticks\":\"\",\"zerolinecolor\":\"white\",\"gridwidth\":2}},\"shapedefaults\":{\"line\":{\"color\":\"#2a3f5f\"}},\"annotationdefaults\":{\"arrowcolor\":\"#2a3f5f\",\"arrowhead\":0,\"arrowwidth\":1},\"geo\":{\"bgcolor\":\"white\",\"landcolor\":\"#E5ECF6\",\"subunitcolor\":\"white\",\"showland\":true,\"showlakes\":true,\"lakecolor\":\"white\"},\"title\":{\"x\":0.05},\"mapbox\":{\"style\":\"light\"}}},\"xaxis\":{\"rangeslider\":{\"visible\":true},\"showline\":true,\"linewidth\":2,\"linecolor\":\"white\",\"gridcolor\":\"white\"},\"margin\":{\"l\":0,\"b\":0,\"r\":0,\"t\":0},\"paper_bgcolor\":\"black\",\"plot_bgcolor\":\"black\",\"yaxis\":{\"showline\":true,\"linewidth\":2,\"linecolor\":\"white\",\"gridcolor\":\"white\"}},                        {\"responsive\": true}                    ).then(function(){\n",
       "                            \n",
       "var gd = document.getElementById('9e39adf9-ee92-4918-8d46-8fe733514b0f');\n",
       "var x = new MutationObserver(function (mutations, observer) {{\n",
       "        var display = window.getComputedStyle(gd).display;\n",
       "        if (!display || display === 'none') {{\n",
       "            console.log([gd, 'removed!']);\n",
       "            Plotly.purge(gd);\n",
       "            observer.disconnect();\n",
       "        }}\n",
       "}});\n",
       "\n",
       "// Listen for the removal of the full notebook cells\n",
       "var notebookContainer = gd.closest('#notebook-container');\n",
       "if (notebookContainer) {{\n",
       "    x.observe(notebookContainer, {childList: true});\n",
       "}}\n",
       "\n",
       "// Listen for the clearing of the current output cell\n",
       "var outputEl = gd.closest('.output');\n",
       "if (outputEl) {{\n",
       "    x.observe(outputEl, {childList: true});\n",
       "}}\n",
       "\n",
       "                        })                };                });            </script>        </div>"
      ]
     },
     "metadata": {},
     "output_type": "display_data"
    }
   ],
   "source": [
    "# with indicator\n",
    "# df = data\n",
    "# df['resistance'] = np.nan\n",
    "# df['support'] = np.nan\n",
    "# # plt.plot(df.index, df.Close)\n",
    "# # plt.show()\n",
    "# # ===== Calculate Channel ====\n",
    "resistance(df)\n",
    "support(df)\n",
    "decide()\n",
    "# ===== PLOTLY =====\n",
    "import plotly.graph_objects as go\n",
    "fig = go.Figure(data=[go.Candlestick(x=df.index,\n",
    "                                    open=df['Open'],\n",
    "                                    high=df['High'],\n",
    "                                    low=df['Low'],\n",
    "                                    close=df['Close'],\n",
    "                                    increasing_line_color='green',\n",
    "                                    decreasing_line_color='red'),\n",
    "                                    go.Scatter(x=df.index, y=df['support'], line=dict(color=\"green\", width=3), name=\"SUPPORT\"),\n",
    "                                    go.Scatter(x=df.index, y=df['resistance'], line=dict(color='red', width=3), name=\"RESISTANCE\"),\n",
    "                                    go.Scatter(x=df.index, y=df['Buy'], mode=\"markers\", marker=dict(size=5, color=\"Orange\"), name=\"Buy\")])\n",
    "\n",
    "fig.update(layout_xaxis_rangeslider_visible=True)\n",
    "fig.update_layout(paper_bgcolor=\"black\", plot_bgcolor=\"black\", margin_l=0, margin_b=0, margin_r=0, margin_t=0)\n",
    "fig.update_xaxes(showline=True, linewidth=2, linecolor='white', gridcolor='white')\n",
    "fig.update_yaxes(showline=True, linewidth=2, linecolor='white', gridcolor='white')\n",
    "fig.show()"
   ]
  },
  {
   "attachments": {},
   "cell_type": "markdown",
   "metadata": {},
   "source": [
    "POLARS\n",
    "update row"
   ]
  }
 ],
 "metadata": {
  "kernelspec": {
   "display_name": "base",
   "language": "python",
   "name": "python3"
  },
  "language_info": {
   "codemirror_mode": {
    "name": "ipython",
    "version": 3
   },
   "file_extension": ".py",
   "mimetype": "text/x-python",
   "name": "python",
   "nbconvert_exporter": "python",
   "pygments_lexer": "ipython3",
   "version": "3.9.12"
  },
  "orig_nbformat": 4
 },
 "nbformat": 4,
 "nbformat_minor": 2
}
