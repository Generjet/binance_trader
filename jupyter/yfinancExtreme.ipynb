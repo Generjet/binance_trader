{
 "cells": [
  {
   "cell_type": "code",
   "execution_count": 418,
   "metadata": {},
   "outputs": [
    {
     "name": "stdout",
     "output_type": "stream",
     "text": [
      "[*********************100%***********************]  1 of 1 completed\n"
     ]
    }
   ],
   "source": [
    "import yfinance as yf\n",
    "import mplfinance as mpf\n",
    "import pandas as pd\n",
    "import numpy as np\n",
    "import matplotlib.pyplot as plt\n",
    "import plotly.graph_objects as go\n",
    "import polars as pl\n",
    "import datetime\n",
    "\n",
    "data = yf.download(tickers='BTC-USD', period='max', interval='1d')"
   ]
  },
  {
   "attachments": {},
   "cell_type": "markdown",
   "metadata": {},
   "source": [
    "SLOPE, INTERCEPTS and difference STEPS"
   ]
  },
  {
   "cell_type": "code",
   "execution_count": 367,
   "metadata": {},
   "outputs": [
    {
     "name": "stdout",
     "output_type": "stream",
     "text": [
      "descending\n",
      "difference =  6.9550018310546875\n",
      "range = 49\n",
      "diff =  0.14193881287866708\n"
     ]
    },
    {
     "data": {
      "text/plain": [
       "False"
      ]
     },
     "execution_count": 367,
     "metadata": {},
     "output_type": "execute_result"
    }
   ],
   "source": [
    "# 2 argument l avna\n",
    "def direction_and_steps(datapoints):\n",
    "    if datapoints.index[0] > datapoints.index[1]:\n",
    "        startIndex = datapoints.index[0]\n",
    "        endIndex = datapoints.index[1]\n",
    "    else:\n",
    "        startIndex = datapoints.index[1]\n",
    "        endIndex = datapoints.index[0]\n",
    "    a = datapoints.head(1)\n",
    "    b = datapoints.tail(1)\n",
    "    a_value = a[0]\n",
    "    b_value = b[0]\n",
    "    ascending = False\n",
    "\n",
    "# ========================\n",
    "    if b.index < a.index:\n",
    "        oldIndex = b.index\n",
    "        newIndex = a.index\n",
    "        if b_value > a_value:\n",
    "            max = b_value\n",
    "            min = a_value\n",
    "            ascending = False\n",
    "            print(\"descending\")\n",
    "        else:\n",
    "            max = a_value\n",
    "            min = b_value\n",
    "            ascending = True\n",
    "            print('ascending')\n",
    "    elif b.index > a.index:\n",
    "        oldIndex = a.index\n",
    "        newIndex = b.index\n",
    "        if b_value > a_value:\n",
    "            max = b_value\n",
    "            min = a_value\n",
    "            ascending = True\n",
    "            print('ascending')\n",
    "        else:\n",
    "            max = a_value\n",
    "            min = b_value\n",
    "            ascending = False\n",
    "            print('descending')\n",
    "\n",
    "    top_diff = max - min\n",
    "    print('difference = ', top_diff)\n",
    "    filtered = df[(df.index <= startIndex) & (df.index >= endIndex)]\n",
    "    numrange = len(filtered)\n",
    "    print('range =', numrange)\n",
    "    diff_step = top_diff/numrange\n",
    "    return diff_step, ascending\n",
    "\n",
    "resistance_points = resistances.sort_values(ascending=False).tail(2)\n",
    "\n",
    "diff_step, lineAscending = direction_and_steps(resistance_points)\n",
    "print('diff = ', diff_step)\n",
    "lineAscending"
   ]
  },
  {
   "attachments": {},
   "cell_type": "markdown",
   "metadata": {},
   "source": [
    "EXTREMUM hoorondiin data range easify"
   ]
  },
  {
   "cell_type": "code",
   "execution_count": 487,
   "metadata": {},
   "outputs": [
    {
     "name": "stdout",
     "output_type": "stream",
     "text": [
      "started=  2015-06-30 00:00:00\n",
      "ended = 2015-07-06 00:00:00\n"
     ]
    }
   ],
   "source": [
    "def start_end_ragne(datapoints):\n",
    "    if datapoints.index[1] > datapoints.index[0]:\n",
    "        startIndex = datapoints.index[0]\n",
    "        endIndex = datapoints.index[1]\n",
    "    else:\n",
    "        startIndex = datapoints.index[1]\n",
    "        endIndex = datapoints.index[0]\n",
    "    return startIndex, endIndex\n",
    "\n",
    "start, end = start_end_ragne(resistance_points)\n",
    "print(\"started= \", start)\n",
    "print('ended =', end)"
   ]
  },
  {
   "attachments": {},
   "cell_type": "markdown",
   "metadata": {},
   "source": [
    "RESISTANCE until NOW"
   ]
  },
  {
   "cell_type": "code",
   "execution_count": 491,
   "metadata": {},
   "outputs": [
    {
     "name": "stdout",
     "output_type": "stream",
     "text": [
      "Calculating resistance\n",
      "descending\n",
      "difference =  5672.1005859375\n",
      "range = 23\n",
      "Resistance ascending False\n",
      "Diff points 246.61306895380434\n"
     ]
    }
   ],
   "source": [
    "def resistance(df):\n",
    "    print(\"Calculating resistance\")\n",
    "    resistances = df[df.High == df.High.rolling(10, center=True).max()].High\n",
    "    resistance_points = resistances.sort_values(ascending=True).tail(2)\n",
    "\n",
    "    # resistance coefficients\n",
    "    diff_step, lineAscending = direction_and_steps(resistance_points)\n",
    "    start, end = start_end_ragne(resistance_points)\n",
    "    # today = df[(df.index > resistance_points.index[0])]\n",
    "    today = df[(df.index > start)]\n",
    "\n",
    "    x_values = []\n",
    "    y_values = []\n",
    "\n",
    "    y = resistance_points[0]\n",
    "    # today['resistance'] = np.nan\n",
    "\n",
    "    if lineAscending == True:\n",
    "        for i in today.index:\n",
    "            y = y + diff_step\n",
    "            y_values.append(y)\n",
    "            x_values.append(i)\n",
    "            # today.loc[today.index==i, 'resistance'] = y\n",
    "            df.loc[df.index==i, 'resistance'] = y\n",
    "    elif lineAscending == False:\n",
    "        for i in today.index:\n",
    "            y = y - diff_step\n",
    "            y_values.append(y)\n",
    "            x_values.append(i)\n",
    "            # today.loc[today.index==i, 'resistance'] = y\n",
    "            df.loc[df.index==i, 'resistance'] = y\n",
    "\n",
    "    print(\"Resistance ascending\", lineAscending)\n",
    "    print(\"Diff points\", diff_step)\n",
    "    # y_values\n",
    "# ==== run test ====\n",
    "resistance(df)"
   ]
  },
  {
   "attachments": {},
   "cell_type": "markdown",
   "metadata": {},
   "source": [
    "SUPPORT"
   ]
  },
  {
   "cell_type": "code",
   "execution_count": 492,
   "metadata": {},
   "outputs": [
    {
     "name": "stdout",
     "output_type": "stream",
     "text": [
      "Calculating support\n",
      "ascending\n",
      "difference =  478.6103515625\n",
      "range = 55\n",
      "Ascending\n",
      "Resistance ascending True\n",
      "Diff points 8.702006392045455\n"
     ]
    }
   ],
   "source": [
    "def support(df):\n",
    "    print(\"Calculating support\")\n",
    "    supports = df[df.Low == df.Low.rolling(10, center=True).min()].Low\n",
    "    support_points = supports.sort_values(ascending=True).head(2)\n",
    "    # start_point\n",
    "    start, end = start_end_ragne(support_points)\n",
    "    support_today = df[(df.index > start)]\n",
    "    # support coefficients\n",
    "    diff_step, lineAscending = direction_and_steps(support_points)\n",
    "\n",
    "    numrange = len(support_today)\n",
    "    x_values = []\n",
    "    y_values = []\n",
    "\n",
    "    y = support_points[0]\n",
    "    # support_today['support'] = np.nan\n",
    "\n",
    "    if lineAscending == True:\n",
    "        print(\"Ascending\")\n",
    "        for i in support_today.index:\n",
    "            y = y + diff_step\n",
    "            y_values.append(y)\n",
    "            x_values.append(i)\n",
    "            # support_today.loc[support_today.index==i, 'support'] = y\n",
    "            df.loc[df.index==i, 'support'] = y\n",
    "    elif lineAscending == False:\n",
    "        for i in support_today.index:\n",
    "            y = y - diff_step\n",
    "            y_values.append(y)\n",
    "            x_values.append(i)\n",
    "            # support_today.loc[support_today.index==i, 'support'] = y\n",
    "            df.loc[df.index==i, 'support'] = y\n",
    "        print(\"Descending\")\n",
    "\n",
    "    print(\"Resistance ascending\", lineAscending)\n",
    "    print(\"Diff points\", diff_step)\n",
    "\n",
    "# run test\n",
    "support(df)"
   ]
  },
  {
   "attachments": {},
   "cell_type": "markdown",
   "metadata": {},
   "source": [
    "PLOTTING"
   ]
  },
  {
   "cell_type": "code",
   "execution_count": 432,
   "metadata": {},
   "outputs": [
    {
     "data": {
      "text/plain": [
       "'cryptochart_2023-07-04_00:07:18'"
      ]
     },
     "execution_count": 432,
     "metadata": {},
     "output_type": "execute_result"
    }
   ],
   "source": [
    "now = datetime.datetime.now().strftime(\"%Y-%m-%d_%H:%M:%S\")\n",
    "now\n",
    "save_name = \"cryptochart_\"+now\n",
    "save_name"
   ]
  },
  {
   "cell_type": "code",
   "execution_count": 533,
   "metadata": {},
   "outputs": [],
   "source": [
    "# ====== PLOTTING =========\n",
    "# MATPLOTLIB\n",
    "# clean_levels = levels[abs(levels.diff() > 0)]\n",
    "def plot_df(df):\n",
    "    df.High.plot()\n",
    "    df.Low.plot()\n",
    "    df.Close.plot()\n",
    "    # plt.hlines(clean_levels, xmin=clean_levels.index, xmax=clean_levels.index[-1], colors='red')\n",
    "    plt.scatter(resistances.index, resistances, color='b')\n",
    "    # plt.scatter(support_points.index, support_points, color=\"g\")\n",
    "    plt.plot(df.index, df['resistance'], color=\"r\")\n",
    "    plt.plot(df.index, df['support'], color=\"g\")\n",
    "    # plt.plot(today.index, y_values, color=\"y\")\n",
    "    startDate = df.index[0].strftime(\"%Y-%m-%d\")\n",
    "    endDate = df.index[-1].strftime(\"%Y-%m-%d\")\n",
    "    save_name = startDate + '_to_' + endDate\n",
    "    save_name\n",
    "    plt.savefig('testImages/'+save_name+'_signals.jpg')"
   ]
  },
  {
   "attachments": {},
   "cell_type": "markdown",
   "metadata": {},
   "source": [
    "Test with Iteration"
   ]
  },
  {
   "cell_type": "code",
   "execution_count": null,
   "metadata": {},
   "outputs": [],
   "source": [
    "dataStart = 0\n",
    "for i in range(100, len(data),100):\n",
    "    print('dataStart= ', dataStart, ' i= ', i)\n",
    "    # ==== setting range of df ====\n",
    "    df = data[dataStart:i]\n",
    "    df['resistance'] = np.nan\n",
    "    df['support'] = np.nan\n",
    "    # plt.plot(df.index, df.Close)\n",
    "    # plt.show()\n",
    "    # ===== Calculate Channel ====\n",
    "    resistance(df)\n",
    "    support(df)\n",
    "    plot_df(df)\n",
    "    dataStart = i\n"
   ]
  },
  {
   "attachments": {},
   "cell_type": "markdown",
   "metadata": {},
   "source": [
    "TEST by ONE"
   ]
  },
  {
   "cell_type": "code",
   "execution_count": 536,
   "metadata": {},
   "outputs": [
    {
     "name": "stderr",
     "output_type": "stream",
     "text": [
      "/tmp/ipykernel_3191/1058920205.py:2: SettingWithCopyWarning:\n",
      "\n",
      "\n",
      "A value is trying to be set on a copy of a slice from a DataFrame.\n",
      "Try using .loc[row_indexer,col_indexer] = value instead\n",
      "\n",
      "See the caveats in the documentation: https://pandas.pydata.org/pandas-docs/stable/user_guide/indexing.html#returning-a-view-versus-a-copy\n",
      "\n",
      "/tmp/ipykernel_3191/1058920205.py:3: SettingWithCopyWarning:\n",
      "\n",
      "\n",
      "A value is trying to be set on a copy of a slice from a DataFrame.\n",
      "Try using .loc[row_indexer,col_indexer] = value instead\n",
      "\n",
      "See the caveats in the documentation: https://pandas.pydata.org/pandas-docs/stable/user_guide/indexing.html#returning-a-view-versus-a-copy\n",
      "\n"
     ]
    },
    {
     "name": "stdout",
     "output_type": "stream",
     "text": [
      "Calculating resistance\n",
      "descending\n",
      "difference =  73.02197265625\n",
      "range = 16\n",
      "Resistance ascending False\n",
      "Diff points 4.563873291015625\n",
      "Calculating support\n",
      "ascending\n",
      "difference =  93.94497680664062\n",
      "range = 75\n",
      "Ascending\n",
      "Resistance ascending True\n",
      "Diff points 1.2525996907552084\n"
     ]
    },
    {
     "ename": "ValueError",
     "evalue": "x and y must be the same size",
     "output_type": "error",
     "traceback": [
      "\u001b[0;31m---------------------------------------------------------------------------\u001b[0m",
      "\u001b[0;31mValueError\u001b[0m                                Traceback (most recent call last)",
      "Cell \u001b[0;32mIn[536], line 9\u001b[0m\n\u001b[1;32m      7\u001b[0m resistance(df)\n\u001b[1;32m      8\u001b[0m support(df)\n\u001b[0;32m----> 9\u001b[0m plot_df(df)\n",
      "Cell \u001b[0;32mIn[533], line 9\u001b[0m, in \u001b[0;36mplot_df\u001b[0;34m(df)\u001b[0m\n\u001b[1;32m      7\u001b[0m df\u001b[39m.\u001b[39mClose\u001b[39m.\u001b[39mplot()\n\u001b[1;32m      8\u001b[0m \u001b[39m# plt.hlines(clean_levels, xmin=clean_levels.index, xmax=clean_levels.index[-1], colors='red')\u001b[39;00m\n\u001b[0;32m----> 9\u001b[0m plt\u001b[39m.\u001b[39;49mscatter(today\u001b[39m.\u001b[39;49mindex, resistances, color\u001b[39m=\u001b[39;49m\u001b[39m'\u001b[39;49m\u001b[39mb\u001b[39;49m\u001b[39m'\u001b[39;49m)\n\u001b[1;32m     10\u001b[0m \u001b[39m# plt.scatter(support_points.index, support_points, color=\"g\")\u001b[39;00m\n\u001b[1;32m     11\u001b[0m plt\u001b[39m.\u001b[39mplot(df\u001b[39m.\u001b[39mindex, df[\u001b[39m'\u001b[39m\u001b[39mresistance\u001b[39m\u001b[39m'\u001b[39m], color\u001b[39m=\u001b[39m\u001b[39m\"\u001b[39m\u001b[39mr\u001b[39m\u001b[39m\"\u001b[39m)\n",
      "File \u001b[0;32m~/miniconda3/lib/python3.9/site-packages/matplotlib/pyplot.py:2862\u001b[0m, in \u001b[0;36mscatter\u001b[0;34m(x, y, s, c, marker, cmap, norm, vmin, vmax, alpha, linewidths, edgecolors, plotnonfinite, data, **kwargs)\u001b[0m\n\u001b[1;32m   2857\u001b[0m \u001b[39m@_copy_docstring_and_deprecators\u001b[39m(Axes\u001b[39m.\u001b[39mscatter)\n\u001b[1;32m   2858\u001b[0m \u001b[39mdef\u001b[39;00m \u001b[39mscatter\u001b[39m(\n\u001b[1;32m   2859\u001b[0m         x, y, s\u001b[39m=\u001b[39m\u001b[39mNone\u001b[39;00m, c\u001b[39m=\u001b[39m\u001b[39mNone\u001b[39;00m, marker\u001b[39m=\u001b[39m\u001b[39mNone\u001b[39;00m, cmap\u001b[39m=\u001b[39m\u001b[39mNone\u001b[39;00m, norm\u001b[39m=\u001b[39m\u001b[39mNone\u001b[39;00m,\n\u001b[1;32m   2860\u001b[0m         vmin\u001b[39m=\u001b[39m\u001b[39mNone\u001b[39;00m, vmax\u001b[39m=\u001b[39m\u001b[39mNone\u001b[39;00m, alpha\u001b[39m=\u001b[39m\u001b[39mNone\u001b[39;00m, linewidths\u001b[39m=\u001b[39m\u001b[39mNone\u001b[39;00m, \u001b[39m*\u001b[39m,\n\u001b[1;32m   2861\u001b[0m         edgecolors\u001b[39m=\u001b[39m\u001b[39mNone\u001b[39;00m, plotnonfinite\u001b[39m=\u001b[39m\u001b[39mFalse\u001b[39;00m, data\u001b[39m=\u001b[39m\u001b[39mNone\u001b[39;00m, \u001b[39m*\u001b[39m\u001b[39m*\u001b[39mkwargs):\n\u001b[0;32m-> 2862\u001b[0m     __ret \u001b[39m=\u001b[39m gca()\u001b[39m.\u001b[39;49mscatter(\n\u001b[1;32m   2863\u001b[0m         x, y, s\u001b[39m=\u001b[39;49ms, c\u001b[39m=\u001b[39;49mc, marker\u001b[39m=\u001b[39;49mmarker, cmap\u001b[39m=\u001b[39;49mcmap, norm\u001b[39m=\u001b[39;49mnorm,\n\u001b[1;32m   2864\u001b[0m         vmin\u001b[39m=\u001b[39;49mvmin, vmax\u001b[39m=\u001b[39;49mvmax, alpha\u001b[39m=\u001b[39;49malpha, linewidths\u001b[39m=\u001b[39;49mlinewidths,\n\u001b[1;32m   2865\u001b[0m         edgecolors\u001b[39m=\u001b[39;49medgecolors, plotnonfinite\u001b[39m=\u001b[39;49mplotnonfinite,\n\u001b[1;32m   2866\u001b[0m         \u001b[39m*\u001b[39;49m\u001b[39m*\u001b[39;49m({\u001b[39m\"\u001b[39;49m\u001b[39mdata\u001b[39;49m\u001b[39m\"\u001b[39;49m: data} \u001b[39mif\u001b[39;49;00m data \u001b[39mis\u001b[39;49;00m \u001b[39mnot\u001b[39;49;00m \u001b[39mNone\u001b[39;49;00m \u001b[39melse\u001b[39;49;00m {}), \u001b[39m*\u001b[39;49m\u001b[39m*\u001b[39;49mkwargs)\n\u001b[1;32m   2867\u001b[0m     sci(__ret)\n\u001b[1;32m   2868\u001b[0m     \u001b[39mreturn\u001b[39;00m __ret\n",
      "File \u001b[0;32m~/miniconda3/lib/python3.9/site-packages/matplotlib/__init__.py:1442\u001b[0m, in \u001b[0;36m_preprocess_data.<locals>.inner\u001b[0;34m(ax, data, *args, **kwargs)\u001b[0m\n\u001b[1;32m   1439\u001b[0m \u001b[39m@functools\u001b[39m\u001b[39m.\u001b[39mwraps(func)\n\u001b[1;32m   1440\u001b[0m \u001b[39mdef\u001b[39;00m \u001b[39minner\u001b[39m(ax, \u001b[39m*\u001b[39margs, data\u001b[39m=\u001b[39m\u001b[39mNone\u001b[39;00m, \u001b[39m*\u001b[39m\u001b[39m*\u001b[39mkwargs):\n\u001b[1;32m   1441\u001b[0m     \u001b[39mif\u001b[39;00m data \u001b[39mis\u001b[39;00m \u001b[39mNone\u001b[39;00m:\n\u001b[0;32m-> 1442\u001b[0m         \u001b[39mreturn\u001b[39;00m func(ax, \u001b[39m*\u001b[39;49m\u001b[39mmap\u001b[39;49m(sanitize_sequence, args), \u001b[39m*\u001b[39;49m\u001b[39m*\u001b[39;49mkwargs)\n\u001b[1;32m   1444\u001b[0m     bound \u001b[39m=\u001b[39m new_sig\u001b[39m.\u001b[39mbind(ax, \u001b[39m*\u001b[39margs, \u001b[39m*\u001b[39m\u001b[39m*\u001b[39mkwargs)\n\u001b[1;32m   1445\u001b[0m     auto_label \u001b[39m=\u001b[39m (bound\u001b[39m.\u001b[39marguments\u001b[39m.\u001b[39mget(label_namer)\n\u001b[1;32m   1446\u001b[0m                   \u001b[39mor\u001b[39;00m bound\u001b[39m.\u001b[39mkwargs\u001b[39m.\u001b[39mget(label_namer))\n",
      "File \u001b[0;32m~/miniconda3/lib/python3.9/site-packages/matplotlib/axes/_axes.py:4584\u001b[0m, in \u001b[0;36mAxes.scatter\u001b[0;34m(self, x, y, s, c, marker, cmap, norm, vmin, vmax, alpha, linewidths, edgecolors, plotnonfinite, **kwargs)\u001b[0m\n\u001b[1;32m   4582\u001b[0m y \u001b[39m=\u001b[39m np\u001b[39m.\u001b[39mma\u001b[39m.\u001b[39mravel(y)\n\u001b[1;32m   4583\u001b[0m \u001b[39mif\u001b[39;00m x\u001b[39m.\u001b[39msize \u001b[39m!=\u001b[39m y\u001b[39m.\u001b[39msize:\n\u001b[0;32m-> 4584\u001b[0m     \u001b[39mraise\u001b[39;00m \u001b[39mValueError\u001b[39;00m(\u001b[39m\"\u001b[39m\u001b[39mx and y must be the same size\u001b[39m\u001b[39m\"\u001b[39m)\n\u001b[1;32m   4586\u001b[0m \u001b[39mif\u001b[39;00m s \u001b[39mis\u001b[39;00m \u001b[39mNone\u001b[39;00m:\n\u001b[1;32m   4587\u001b[0m     s \u001b[39m=\u001b[39m (\u001b[39m20\u001b[39m \u001b[39mif\u001b[39;00m mpl\u001b[39m.\u001b[39mrcParams[\u001b[39m'\u001b[39m\u001b[39m_internal.classic_mode\u001b[39m\u001b[39m'\u001b[39m] \u001b[39melse\u001b[39;00m\n\u001b[1;32m   4588\u001b[0m          mpl\u001b[39m.\u001b[39mrcParams[\u001b[39m'\u001b[39m\u001b[39mlines.markersize\u001b[39m\u001b[39m'\u001b[39m] \u001b[39m*\u001b[39m\u001b[39m*\u001b[39m \u001b[39m2.0\u001b[39m)\n",
      "\u001b[0;31mValueError\u001b[0m: x and y must be the same size"
     ]
    },
    {
     "data": {
      "image/png": "[encoded data removed]",
      "text/plain": [
       "<Figure size 640x480 with 1 Axes>"
      ]
     },
     "metadata": {},
     "output_type": "display_data"
    }
   ],
   "source": [
    "df = data[600:700]\n",
    "df['resistance'] = np.nan\n",
    "df['support'] = np.nan\n",
    "# plt.plot(df.index, df.Close)\n",
    "# plt.show()\n",
    "# ===== Calculate Channel ====\n",
    "resistance(df)\n",
    "support(df)\n",
    "plot_df(df)"
   ]
  },
  {
   "attachments": {},
   "cell_type": "markdown",
   "metadata": {},
   "source": [
    "УРТ ХУГАЦААГААР ХАРАХ ХЭСЭГ"
   ]
  },
  {
   "cell_type": "code",
   "execution_count": 494,
   "metadata": {},
   "outputs": [
    {
     "data": {
      "application/vnd.plotly.v1+json": {
       "config": {
        "plotlyServerURL": "https://plot.ly"
       },
       "data": [
        {
         "close": [
          12952.2001953125,
          14156.400390625,
          13657.2001953125,
          14982.099609375,
          15201,
          15599.2001953125,
          17429.5,
          17527,
          16477.599609375,
          15170.099609375,
          14595.400390625,
          14973.2998046875,
          13405.7998046875,
          13980.599609375,
          14360.2001953125,
          13772,
          13819.7998046875,
          11490.5,
          11188.599609375,
          11474.900390625,
          11607.400390625,
          12899.2001953125,
          11600.099609375,
          10931.400390625,
          10868.400390625,
          11359.400390625,
          11259.400390625,
          11171.400390625,
          11440.7001953125,
          11786.2998046875,
          11296.400390625,
          10106.2998046875,
          10221.099609375,
          9170.5400390625,
          8830.75,
          9174.91015625,
          8277.009765625,
          6955.27001953125,
          7754,
          7621.2998046875,
          8265.58984375,
          8736.98046875,
          8621.900390625,
          8129.97021484375,
          8926.5703125,
          8598.3095703125,
          9494.6298828125,
          10166.400390625,
          10233.900390625,
          11112.7001953125,
          10551.7998046875,
          11225.2998046875,
          11403.7001953125,
          10690.400390625,
          10005,
          10301.099609375,
          9813.0703125,
          9664.73046875,
          10366.7001953125,
          10725.599609375,
          10397.900390625,
          10951,
          11086.400390625,
          11489.7001953125,
          11512.599609375,
          11573.2998046875,
          10779.900390625,
          9965.5703125,
          9395.009765625,
          9337.5498046875,
          8866,
          9578.6298828125,
          9205.1201171875,
          9194.849609375,
          8269.8095703125,
          8300.8603515625,
          8338.349609375,
          7916.8798828125,
          8223.6796875,
          8630.650390625,
          8913.4697265625,
          8929.2802734375,
          8728.4697265625,
          8879.6201171875,
          8668.1201171875,
          8495.7802734375,
          8209.400390625,
          7833.0400390625,
          7954.47998046875,
          7165.7001953125,
          6890.52001953125,
          6973.52978515625,
          6844.22998046875,
          7083.7998046875,
          7456.10986328125,
          6853.83984375,
          6811.47021484375,
          6636.31982421875,
          6911.08984375,
          7023.52001953125
         ],
         "decreasing": {
          "line": {
           "color": "red"
          }
         },
         "high": [
          14681.900390625,
          14377.400390625,
          14112.2001953125,
          15444.599609375,
          15572.7998046875,
          15739.7001953125,
          17705.19921875,
          17712.400390625,
          17579.599609375,
          16537.900390625,
          15497.5,
          14973.2998046875,
          15018.7998046875,
          14229.900390625,
          14659.5,
          14511.7998046875,
          14445.5,
          13843.099609375,
          11678,
          12107.2998046875,
          11992.7998046875,
          13103,
          12895.900390625,
          11966.400390625,
          11377.599609375,
          11501.400390625,
          11785.7001953125,
          11656.7001953125,
          11614.900390625,
          12040.2998046875,
          11875.599609375,
          11307.2001953125,
          10381.599609375,
          10288.7998046875,
          9142.2802734375,
          9430.75,
          9334.8701171875,
          8364.83984375,
          7850.7001953125,
          8509.1103515625,
          8558.76953125,
          8736.98046875,
          9122.5498046875,
          8616.1298828125,
          8985.919921875,
          8958.4697265625,
          9518.5400390625,
          10234.7998046875,
          10324.099609375,
          11139.5,
          11349.7998046875,
          11273.7998046875,
          11958.5,
          11418.5,
          11039.099609375,
          10487.2998046875,
          10597.2001953125,
          9923.2197265625,
          10475,
          10878.5,
          11089.7998046875,
          11052.2998046875,
          11189,
          11528.2001953125,
          11512.599609375,
          11704.099609375,
          11500.099609375,
          10929.5,
          10147.400390625,
          9466.349609375,
          9531.3203125,
          9711.8896484375,
          9937.5,
          9470.3798828125,
          9355.849609375,
          8428.349609375,
          8585.150390625,
          8346.5302734375,
          8245.509765625,
          8675.8701171875,
          9051.01953125,
          9177.3701171875,
          9100.7099609375,
          8879.6201171875,
          8996.1796875,
          8682.009765625,
          8530.080078125,
          8232.7802734375,
          8122.89013671875,
          7994.330078125,
          7276.66015625,
          7207.85009765625,
          7060.9501953125,
          7135.47021484375,
          7530.93994140625,
          7469.8798828125,
          6933.81982421875,
          6857.490234375,
          7050.5400390625,
          7111.56005859375
         ],
         "increasing": {
          "line": {
           "color": "green"
          }
         },
         "low": [
          12350.099609375,
          12755.599609375,
          13154.7001953125,
          13163.599609375,
          14844.5,
          14522.2001953125,
          15202.7998046875,
          16764.599609375,
          16087.7001953125,
          14208.2001953125,
          14424,
          13691.2001953125,
          13105.900390625,
          13158.099609375,
          13952.400390625,
          13268,
          13641.7001953125,
          10194.900390625,
          9402.2900390625,
          10942.5,
          11172.099609375,
          11656.2001953125,
          11288.2001953125,
          10240.2001953125,
          10129.7001953125,
          10639.7998046875,
          11057.400390625,
          10470.2998046875,
          10989.2001953125,
          11475.2998046875,
          11179.2001953125,
          10036.2001953125,
          9777.419921875,
          8812.2802734375,
          7796.490234375,
          8251.6298828125,
          8031.22021484375,
          6756.68017578125,
          6048.259765625,
          7236.7900390625,
          7637.85986328125,
          7884.7099609375,
          8295.4697265625,
          7931.10009765625,
          8141.43017578125,
          8455.41015625,
          8599.919921875,
          9395.580078125,
          9824.8203125,
          10149.400390625,
          10326,
          10513.2001953125,
          11231.7998046875,
          10479.099609375,
          9939.08984375,
          9734.5595703125,
          9546.9697265625,
          9407.0595703125,
          9501.73046875,
          10246.099609375,
          10393.099609375,
          10352.7001953125,
          10850.099609375,
          11002.400390625,
          11136.099609375,
          11443.900390625,
          10694.2998046875,
          9692.1201171875,
          9335.8701171875,
          8513.0302734375,
          8828.4697265625,
          8607.1201171875,
          8956.4296875,
          8958.1904296875,
          8068.58984375,
          7783.0498046875,
          8005.31005859375,
          7812.81982421875,
          7397.990234375,
          8182.39990234375,
          8389.8896484375,
          8846.330078125,
          8564.900390625,
          8360.6201171875,
          8665.7001953125,
          8449.099609375,
          7921.43017578125,
          7797.27978515625,
          7809.169921875,
          7081.3798828125,
          6683.93017578125,
          6863.52001953125,
          6526.8701171875,
          6816.580078125,
          7072.490234375,
          6803.8798828125,
          6644.7998046875,
          6575,
          6630.509765625,
          6919.97998046875
         ],
         "open": [
          14681.900390625,
          12897.7001953125,
          14112.2001953125,
          13625,
          14978.2001953125,
          15270.7001953125,
          15477.2001953125,
          17462.099609375,
          17527.30078125,
          16476.19921875,
          15123.7001953125,
          14588.5,
          14968.2001953125,
          13453.900390625,
          13952.400390625,
          14370.7998046875,
          13767.2998046875,
          13836.099609375,
          11431.099609375,
          11198.7998046875,
          11429.7998046875,
          11656.2001953125,
          12889.2001953125,
          11633.099609375,
          10944.5,
          10903.400390625,
          11421.7001953125,
          11256,
          11174.900390625,
          11475.2998046875,
          11755.5,
          11306.7998046875,
          10108.2001953125,
          10237.2998046875,
          9142.2802734375,
          8852.1201171875,
          9175.7001953125,
          8270.5400390625,
          7051.75,
          7755.490234375,
          7637.85986328125,
          8271.83984375,
          8720.080078125,
          8616.1298828125,
          8141.43017578125,
          8926.7197265625,
          8599.919921875,
          9488.3203125,
          10135.7001953125,
          10207.5,
          11123.400390625,
          10552.599609375,
          11231.7998046875,
          11372.2001953125,
          10660.400390625,
          9937.0703125,
          10287.7001953125,
          9796.419921875,
          9669.4296875,
          10393.900390625,
          10687.2001953125,
          10385,
          10977.400390625,
          11101.900390625,
          11497.400390625,
          11532.400390625,
          11500.099609375,
          10803.900390625,
          9951.4404296875,
          9414.6904296875,
          9350.58984375,
          8852.7802734375,
          9602.9296875,
          9173.0400390625,
          9214.650390625,
          8290.759765625,
          8322.91015625,
          8321.91015625,
          7890.52001953125,
          8344.1201171875,
          8619.669921875,
          8937.48046875,
          8939.4404296875,
          8736.25,
          8901.9501953125,
          8612.8095703125,
          8498.4697265625,
          8200,
          7836.830078125,
          7979.06982421875,
          7171.4501953125,
          6892.47998046875,
          7003.06005859375,
          6844.85986328125,
          7102.259765625,
          7456.41015625,
          6848.64990234375,
          6815.9599609375,
          6630.509765625,
          6919.97998046875
         ],
         "type": "candlestick",
         "x": [
          "2017-12-30T00:00:00",
          "2017-12-31T00:00:00",
          "2018-01-01T00:00:00",
          "2018-01-02T00:00:00",
          "2018-01-03T00:00:00",
          "2018-01-04T00:00:00",
          "2018-01-05T00:00:00",
          "2018-01-06T00:00:00",
          "2018-01-07T00:00:00",
          "2018-01-08T00:00:00",
          "2018-01-09T00:00:00",
          "2018-01-10T00:00:00",
          "2018-01-11T00:00:00",
          "2018-01-12T00:00:00",
          "2018-01-13T00:00:00",
          "2018-01-14T00:00:00",
          "2018-01-15T00:00:00",
          "2018-01-16T00:00:00",
          "2018-01-17T00:00:00",
          "2018-01-18T00:00:00",
          "2018-01-19T00:00:00",
          "2018-01-20T00:00:00",
          "2018-01-21T00:00:00",
          "2018-01-22T00:00:00",
          "2018-01-23T00:00:00",
          "2018-01-24T00:00:00",
          "2018-01-25T00:00:00",
          "2018-01-26T00:00:00",
          "2018-01-27T00:00:00",
          "2018-01-28T00:00:00",
          "2018-01-29T00:00:00",
          "2018-01-30T00:00:00",
          "2018-01-31T00:00:00",
          "2018-02-01T00:00:00",
          "2018-02-02T00:00:00",
          "2018-02-03T00:00:00",
          "2018-02-04T00:00:00",
          "2018-02-05T00:00:00",
          "2018-02-06T00:00:00",
          "2018-02-07T00:00:00",
          "2018-02-08T00:00:00",
          "2018-02-09T00:00:00",
          "2018-02-10T00:00:00",
          "2018-02-11T00:00:00",
          "2018-02-12T00:00:00",
          "2018-02-13T00:00:00",
          "2018-02-14T00:00:00",
          "2018-02-15T00:00:00",
          "2018-02-16T00:00:00",
          "2018-02-17T00:00:00",
          "2018-02-18T00:00:00",
          "2018-02-19T00:00:00",
          "2018-02-20T00:00:00",
          "2018-02-21T00:00:00",
          "2018-02-22T00:00:00",
          "2018-02-23T00:00:00",
          "2018-02-24T00:00:00",
          "2018-02-25T00:00:00",
          "2018-02-26T00:00:00",
          "2018-02-27T00:00:00",
          "2018-02-28T00:00:00",
          "2018-03-01T00:00:00",
          "2018-03-02T00:00:00",
          "2018-03-03T00:00:00",
          "2018-03-04T00:00:00",
          "2018-03-05T00:00:00",
          "2018-03-06T00:00:00",
          "2018-03-07T00:00:00",
          "2018-03-08T00:00:00",
          "2018-03-09T00:00:00",
          "2018-03-10T00:00:00",
          "2018-03-11T00:00:00",
          "2018-03-12T00:00:00",
          "2018-03-13T00:00:00",
          "2018-03-14T00:00:00",
          "2018-03-15T00:00:00",
          "2018-03-16T00:00:00",
          "2018-03-17T00:00:00",
          "2018-03-18T00:00:00",
          "2018-03-19T00:00:00",
          "2018-03-20T00:00:00",
          "2018-03-21T00:00:00",
          "2018-03-22T00:00:00",
          "2018-03-23T00:00:00",
          "2018-03-24T00:00:00",
          "2018-03-25T00:00:00",
          "2018-03-26T00:00:00",
          "2018-03-27T00:00:00",
          "2018-03-28T00:00:00",
          "2018-03-29T00:00:00",
          "2018-03-30T00:00:00",
          "2018-03-31T00:00:00",
          "2018-04-01T00:00:00",
          "2018-04-02T00:00:00",
          "2018-04-03T00:00:00",
          "2018-04-04T00:00:00",
          "2018-04-05T00:00:00",
          "2018-04-06T00:00:00",
          "2018-04-07T00:00:00",
          "2018-04-08T00:00:00"
         ]
        },
        {
         "line": {
          "color": "green",
          "width": 3
         },
         "name": "SUPPORT",
         "type": "scatter",
         "x": [
          "2017-12-30T00:00:00",
          "2017-12-31T00:00:00",
          "2018-01-01T00:00:00",
          "2018-01-02T00:00:00",
          "2018-01-03T00:00:00",
          "2018-01-04T00:00:00",
          "2018-01-05T00:00:00",
          "2018-01-06T00:00:00",
          "2018-01-07T00:00:00",
          "2018-01-08T00:00:00",
          "2018-01-09T00:00:00",
          "2018-01-10T00:00:00",
          "2018-01-11T00:00:00",
          "2018-01-12T00:00:00",
          "2018-01-13T00:00:00",
          "2018-01-14T00:00:00",
          "2018-01-15T00:00:00",
          "2018-01-16T00:00:00",
          "2018-01-17T00:00:00",
          "2018-01-18T00:00:00",
          "2018-01-19T00:00:00",
          "2018-01-20T00:00:00",
          "2018-01-21T00:00:00",
          "2018-01-22T00:00:00",
          "2018-01-23T00:00:00",
          "2018-01-24T00:00:00",
          "2018-01-25T00:00:00",
          "2018-01-26T00:00:00",
          "2018-01-27T00:00:00",
          "2018-01-28T00:00:00",
          "2018-01-29T00:00:00",
          "2018-01-30T00:00:00",
          "2018-01-31T00:00:00",
          "2018-02-01T00:00:00",
          "2018-02-02T00:00:00",
          "2018-02-03T00:00:00",
          "2018-02-04T00:00:00",
          "2018-02-05T00:00:00",
          "2018-02-06T00:00:00",
          "2018-02-07T00:00:00",
          "2018-02-08T00:00:00",
          "2018-02-09T00:00:00",
          "2018-02-10T00:00:00",
          "2018-02-11T00:00:00",
          "2018-02-12T00:00:00",
          "2018-02-13T00:00:00",
          "2018-02-14T00:00:00",
          "2018-02-15T00:00:00",
          "2018-02-16T00:00:00",
          "2018-02-17T00:00:00",
          "2018-02-18T00:00:00",
          "2018-02-19T00:00:00",
          "2018-02-20T00:00:00",
          "2018-02-21T00:00:00",
          "2018-02-22T00:00:00",
          "2018-02-23T00:00:00",
          "2018-02-24T00:00:00",
          "2018-02-25T00:00:00",
          "2018-02-26T00:00:00",
          "2018-02-27T00:00:00",
          "2018-02-28T00:00:00",
          "2018-03-01T00:00:00",
          "2018-03-02T00:00:00",
          "2018-03-03T00:00:00",
          "2018-03-04T00:00:00",
          "2018-03-05T00:00:00",
          "2018-03-06T00:00:00",
          "2018-03-07T00:00:00",
          "2018-03-08T00:00:00",
          "2018-03-09T00:00:00",
          "2018-03-10T00:00:00",
          "2018-03-11T00:00:00",
          "2018-03-12T00:00:00",
          "2018-03-13T00:00:00",
          "2018-03-14T00:00:00",
          "2018-03-15T00:00:00",
          "2018-03-16T00:00:00",
          "2018-03-17T00:00:00",
          "2018-03-18T00:00:00",
          "2018-03-19T00:00:00",
          "2018-03-20T00:00:00",
          "2018-03-21T00:00:00",
          "2018-03-22T00:00:00",
          "2018-03-23T00:00:00",
          "2018-03-24T00:00:00",
          "2018-03-25T00:00:00",
          "2018-03-26T00:00:00",
          "2018-03-27T00:00:00",
          "2018-03-28T00:00:00",
          "2018-03-29T00:00:00",
          "2018-03-30T00:00:00",
          "2018-03-31T00:00:00",
          "2018-04-01T00:00:00",
          "2018-04-02T00:00:00",
          "2018-04-03T00:00:00",
          "2018-04-04T00:00:00",
          "2018-04-05T00:00:00",
          "2018-04-06T00:00:00",
          "2018-04-07T00:00:00",
          "2018-04-08T00:00:00"
         ],
         "y": [
          null,
          null,
          null,
          null,
          null,
          null,
          null,
          null,
          null,
          null,
          null,
          null,
          null,
          null,
          null,
          null,
          null,
          null,
          null,
          null,
          null,
          null,
          null,
          null,
          null,
          null,
          null,
          null,
          null,
          null,
          null,
          null,
          null,
          null,
          null,
          null,
          null,
          null,
          null,
          6056.961772017045,
          6065.663778409091,
          6074.365784801136,
          6083.067791193182,
          6091.769797585227,
          6100.471803977272,
          6109.173810369318,
          6117.875816761363,
          6126.577823153409,
          6135.279829545454,
          6143.981835937499,
          6152.683842329545,
          6161.38584872159,
          6170.087855113636,
          6178.789861505681,
          6187.4918678977265,
          6196.193874289772,
          6204.895880681817,
          6213.597887073863,
          6222.299893465908,
          6231.0018998579535,
          6239.703906249999,
          6248.405912642044,
          6257.10791903409,
          6265.809925426135,
          6274.5119318181805,
          6283.213938210226,
          6291.915944602271,
          6300.617950994317,
          6309.319957386362,
          6318.021963778408,
          6326.723970170453,
          6335.425976562498,
          6344.127982954544,
          6352.829989346589,
          6361.531995738635,
          6370.23400213068,
          6378.936008522725,
          6387.638014914771,
          6396.340021306816,
          6405.042027698862,
          6413.744034090907,
          6422.446040482952,
          6431.148046874998,
          6439.850053267043,
          6448.552059659089,
          6457.254066051134,
          6465.956072443179,
          6474.658078835225,
          6483.36008522727,
          6492.062091619316,
          6500.764098011361,
          6509.4661044034065,
          6518.168110795452,
          6526.870117187497,
          6535.572123579543,
          6544.274129971588,
          6552.9761363636335,
          6561.678142755679,
          6570.380149147724,
          6579.08215553977
         ]
        },
        {
         "line": {
          "color": "red",
          "width": 3
         },
         "name": "RESISTANCE",
         "type": "scatter",
         "x": [
          "2017-12-30T00:00:00",
          "2017-12-31T00:00:00",
          "2018-01-01T00:00:00",
          "2018-01-02T00:00:00",
          "2018-01-03T00:00:00",
          "2018-01-04T00:00:00",
          "2018-01-05T00:00:00",
          "2018-01-06T00:00:00",
          "2018-01-07T00:00:00",
          "2018-01-08T00:00:00",
          "2018-01-09T00:00:00",
          "2018-01-10T00:00:00",
          "2018-01-11T00:00:00",
          "2018-01-12T00:00:00",
          "2018-01-13T00:00:00",
          "2018-01-14T00:00:00",
          "2018-01-15T00:00:00",
          "2018-01-16T00:00:00",
          "2018-01-17T00:00:00",
          "2018-01-18T00:00:00",
          "2018-01-19T00:00:00",
          "2018-01-20T00:00:00",
          "2018-01-21T00:00:00",
          "2018-01-22T00:00:00",
          "2018-01-23T00:00:00",
          "2018-01-24T00:00:00",
          "2018-01-25T00:00:00",
          "2018-01-26T00:00:00",
          "2018-01-27T00:00:00",
          "2018-01-28T00:00:00",
          "2018-01-29T00:00:00",
          "2018-01-30T00:00:00",
          "2018-01-31T00:00:00",
          "2018-02-01T00:00:00",
          "2018-02-02T00:00:00",
          "2018-02-03T00:00:00",
          "2018-02-04T00:00:00",
          "2018-02-05T00:00:00",
          "2018-02-06T00:00:00",
          "2018-02-07T00:00:00",
          "2018-02-08T00:00:00",
          "2018-02-09T00:00:00",
          "2018-02-10T00:00:00",
          "2018-02-11T00:00:00",
          "2018-02-12T00:00:00",
          "2018-02-13T00:00:00",
          "2018-02-14T00:00:00",
          "2018-02-15T00:00:00",
          "2018-02-16T00:00:00",
          "2018-02-17T00:00:00",
          "2018-02-18T00:00:00",
          "2018-02-19T00:00:00",
          "2018-02-20T00:00:00",
          "2018-02-21T00:00:00",
          "2018-02-22T00:00:00",
          "2018-02-23T00:00:00",
          "2018-02-24T00:00:00",
          "2018-02-25T00:00:00",
          "2018-02-26T00:00:00",
          "2018-02-27T00:00:00",
          "2018-02-28T00:00:00",
          "2018-03-01T00:00:00",
          "2018-03-02T00:00:00",
          "2018-03-03T00:00:00",
          "2018-03-04T00:00:00",
          "2018-03-05T00:00:00",
          "2018-03-06T00:00:00",
          "2018-03-07T00:00:00",
          "2018-03-08T00:00:00",
          "2018-03-09T00:00:00",
          "2018-03-10T00:00:00",
          "2018-03-11T00:00:00",
          "2018-03-12T00:00:00",
          "2018-03-13T00:00:00",
          "2018-03-14T00:00:00",
          "2018-03-15T00:00:00",
          "2018-03-16T00:00:00",
          "2018-03-17T00:00:00",
          "2018-03-18T00:00:00",
          "2018-03-19T00:00:00",
          "2018-03-20T00:00:00",
          "2018-03-21T00:00:00",
          "2018-03-22T00:00:00",
          "2018-03-23T00:00:00",
          "2018-03-24T00:00:00",
          "2018-03-25T00:00:00",
          "2018-03-26T00:00:00",
          "2018-03-27T00:00:00",
          "2018-03-28T00:00:00",
          "2018-03-29T00:00:00",
          "2018-03-30T00:00:00",
          "2018-03-31T00:00:00",
          "2018-04-01T00:00:00",
          "2018-04-02T00:00:00",
          "2018-04-03T00:00:00",
          "2018-04-04T00:00:00",
          "2018-04-05T00:00:00",
          "2018-04-06T00:00:00",
          "2018-04-07T00:00:00",
          "2018-04-08T00:00:00"
         ],
         "y": [
          null,
          null,
          null,
          null,
          null,
          null,
          null,
          null,
          11793.686735733696,
          11547.073666779892,
          11300.460597826088,
          11053.847528872284,
          10807.23445991848,
          10560.621390964676,
          10314.008322010872,
          10067.395253057068,
          9820.782184103264,
          9574.16911514946,
          9327.556046195656,
          9080.942977241852,
          8834.329908288048,
          8587.716839334244,
          8341.10377038044,
          8094.4907014266355,
          7847.8776324728315,
          7601.264563519027,
          7354.651494565223,
          7108.038425611419,
          6861.425356657615,
          6614.812287703811,
          6368.199218750007,
          6121.586149796203,
          5874.973080842399,
          5628.360011888595,
          5381.746942934791,
          5135.133873980987,
          4888.520805027183,
          4641.907736073379,
          4395.294667119575,
          4148.681598165771,
          3902.0685292119665,
          3655.455460258162,
          3408.8423913043575,
          3162.229322350553,
          2915.6162533967486,
          2669.003184442944,
          2422.3901154891396,
          2175.777046535335,
          1929.1639775815308,
          1682.5509086277266,
          1435.9378396739223,
          1189.324770720118,
          942.7117017663137,
          696.0986328125093,
          449.48556385870495,
          202.8724949049006,
          -43.74057404890374,
          -290.35364300270805,
          -536.9667119565124,
          -783.5797809103168,
          -1030.1928498641212,
          -1276.8059188179254,
          -1523.4189877717297,
          -1770.032056725534,
          -2016.6451256793382,
          -2263.2581946331425,
          -2509.871263586947,
          -2756.4843325407514,
          -3003.097401494556,
          -3249.7104704483604,
          -3496.323539402165,
          -3742.9366083559694,
          -3989.549677309774,
          -4236.162746263578,
          -4482.775815217382,
          -4729.388884171186,
          -4976.00195312499,
          -5222.615022078794,
          -5469.228091032598,
          -5715.841159986402,
          -5962.454228940206,
          -6209.06729789401,
          -6455.680366847814,
          -6702.293435801618,
          -6948.906504755422,
          -7195.519573709226,
          -7442.13264266303,
          -7688.745711616834,
          -7935.358780570638,
          -8181.971849524442,
          -8428.584918478247,
          -8675.197987432051,
          -8921.811056385855,
          -9168.42412533966,
          -9415.037194293463,
          -9661.650263247268,
          -9908.263332201072,
          -10154.876401154876,
          -10401.48947010868,
          -10648.102539062484
         ]
        },
        {
         "marker": {
          "color": "Orange",
          "size": 5
         },
         "mode": "markers",
         "name": "Buy",
         "type": "scatter",
         "x": [
          "2017-12-30T00:00:00",
          "2017-12-31T00:00:00",
          "2018-01-01T00:00:00",
          "2018-01-02T00:00:00",
          "2018-01-03T00:00:00",
          "2018-01-04T00:00:00",
          "2018-01-05T00:00:00",
          "2018-01-06T00:00:00",
          "2018-01-07T00:00:00",
          "2018-01-08T00:00:00",
          "2018-01-09T00:00:00",
          "2018-01-10T00:00:00",
          "2018-01-11T00:00:00",
          "2018-01-12T00:00:00",
          "2018-01-13T00:00:00",
          "2018-01-14T00:00:00",
          "2018-01-15T00:00:00",
          "2018-01-16T00:00:00",
          "2018-01-17T00:00:00",
          "2018-01-18T00:00:00",
          "2018-01-19T00:00:00",
          "2018-01-20T00:00:00",
          "2018-01-21T00:00:00",
          "2018-01-22T00:00:00",
          "2018-01-23T00:00:00",
          "2018-01-24T00:00:00",
          "2018-01-25T00:00:00",
          "2018-01-26T00:00:00",
          "2018-01-27T00:00:00",
          "2018-01-28T00:00:00",
          "2018-01-29T00:00:00",
          "2018-01-30T00:00:00",
          "2018-01-31T00:00:00",
          "2018-02-01T00:00:00",
          "2018-02-02T00:00:00",
          "2018-02-03T00:00:00",
          "2018-02-04T00:00:00",
          "2018-02-05T00:00:00",
          "2018-02-06T00:00:00",
          "2018-02-07T00:00:00",
          "2018-02-08T00:00:00",
          "2018-02-09T00:00:00",
          "2018-02-10T00:00:00",
          "2018-02-11T00:00:00",
          "2018-02-12T00:00:00",
          "2018-02-13T00:00:00",
          "2018-02-14T00:00:00",
          "2018-02-15T00:00:00",
          "2018-02-16T00:00:00",
          "2018-02-17T00:00:00",
          "2018-02-18T00:00:00",
          "2018-02-19T00:00:00",
          "2018-02-20T00:00:00",
          "2018-02-21T00:00:00",
          "2018-02-22T00:00:00",
          "2018-02-23T00:00:00",
          "2018-02-24T00:00:00",
          "2018-02-25T00:00:00",
          "2018-02-26T00:00:00",
          "2018-02-27T00:00:00",
          "2018-02-28T00:00:00",
          "2018-03-01T00:00:00",
          "2018-03-02T00:00:00",
          "2018-03-03T00:00:00",
          "2018-03-04T00:00:00",
          "2018-03-05T00:00:00",
          "2018-03-06T00:00:00",
          "2018-03-07T00:00:00",
          "2018-03-08T00:00:00",
          "2018-03-09T00:00:00",
          "2018-03-10T00:00:00",
          "2018-03-11T00:00:00",
          "2018-03-12T00:00:00",
          "2018-03-13T00:00:00",
          "2018-03-14T00:00:00",
          "2018-03-15T00:00:00",
          "2018-03-16T00:00:00",
          "2018-03-17T00:00:00",
          "2018-03-18T00:00:00",
          "2018-03-19T00:00:00",
          "2018-03-20T00:00:00",
          "2018-03-21T00:00:00",
          "2018-03-22T00:00:00",
          "2018-03-23T00:00:00",
          "2018-03-24T00:00:00",
          "2018-03-25T00:00:00",
          "2018-03-26T00:00:00",
          "2018-03-27T00:00:00",
          "2018-03-28T00:00:00",
          "2018-03-29T00:00:00",
          "2018-03-30T00:00:00",
          "2018-03-31T00:00:00",
          "2018-04-01T00:00:00",
          "2018-04-02T00:00:00",
          "2018-04-03T00:00:00",
          "2018-04-04T00:00:00",
          "2018-04-05T00:00:00",
          "2018-04-06T00:00:00",
          "2018-04-07T00:00:00",
          "2018-04-08T00:00:00"
         ],
         "y": [
          232.77099609375,
          216.322998046875,
          214.87399291992188,
          228.572998046875,
          234.0570068359375,
          231.81700134277344,
          235.69200134277344,
          221.29600524902344,
          222.65199279785156,
          240.6269989013672,
          240.36500549316406,
          253.5050048828125
         ]
        }
       ],
       "layout": {
        "margin": {
         "b": 0,
         "l": 0,
         "r": 0,
         "t": 0
        },
        "paper_bgcolor": "black",
        "plot_bgcolor": "black",
        "template": {
         "data": {
          "bar": [
           {
            "error_x": {
             "color": "#2a3f5f"
            },
            "error_y": {
             "color": "#2a3f5f"
            },
            "marker": {
             "line": {
              "color": "#E5ECF6",
              "width": 0.5
             },
             "pattern": {
              "fillmode": "overlay",
              "size": 10,
              "solidity": 0.2
             }
            },
            "type": "bar"
           }
          ],
          "barpolar": [
           {
            "marker": {
             "line": {
              "color": "#E5ECF6",
              "width": 0.5
             },
             "pattern": {
              "fillmode": "overlay",
              "size": 10,
              "solidity": 0.2
             }
            },
            "type": "barpolar"
           }
          ],
          "carpet": [
           {
            "aaxis": {
             "endlinecolor": "#2a3f5f",
             "gridcolor": "white",
             "linecolor": "white",
             "minorgridcolor": "white",
             "startlinecolor": "#2a3f5f"
            },
            "baxis": {
             "endlinecolor": "#2a3f5f",
             "gridcolor": "white",
             "linecolor": "white",
             "minorgridcolor": "white",
             "startlinecolor": "#2a3f5f"
            },
            "type": "carpet"
           }
          ],
          "choropleth": [
           {
            "colorbar": {
             "outlinewidth": 0,
             "ticks": ""
            },
            "type": "choropleth"
           }
          ],
          "contour": [
           {
            "colorbar": {
             "outlinewidth": 0,
             "ticks": ""
            },
            "colorscale": [
             [
              0,
              "#0d0887"
             ],
             [
              0.1111111111111111,
              "#46039f"
             ],
             [
              0.2222222222222222,
              "#7201a8"
             ],
             [
              0.3333333333333333,
              "#9c179e"
             ],
             [
              0.4444444444444444,
              "#bd3786"
             ],
             [
              0.5555555555555556,
              "#d8576b"
             ],
             [
              0.6666666666666666,
              "#ed7953"
             ],
             [
              0.7777777777777778,
              "#fb9f3a"
             ],
             [
              0.8888888888888888,
              "#fdca26"
             ],
             [
              1,
              "#f0f921"
             ]
            ],
            "type": "contour"
           }
          ],
          "contourcarpet": [
           {
            "colorbar": {
             "outlinewidth": 0,
             "ticks": ""
            },
            "type": "contourcarpet"
           }
          ],
          "heatmap": [
           {
            "colorbar": {
             "outlinewidth": 0,
             "ticks": ""
            },
            "colorscale": [
             [
              0,
              "#0d0887"
             ],
             [
              0.1111111111111111,
              "#46039f"
             ],
             [
              0.2222222222222222,
              "#7201a8"
             ],
             [
              0.3333333333333333,
              "#9c179e"
             ],
             [
              0.4444444444444444,
              "#bd3786"
             ],
             [
              0.5555555555555556,
              "#d8576b"
             ],
             [
              0.6666666666666666,
              "#ed7953"
             ],
             [
              0.7777777777777778,
              "#fb9f3a"
             ],
             [
              0.8888888888888888,
              "#fdca26"
             ],
             [
              1,
              "#f0f921"
             ]
            ],
            "type": "heatmap"
           }
          ],
          "heatmapgl": [
           {
            "colorbar": {
             "outlinewidth": 0,
             "ticks": ""
            },
            "colorscale": [
             [
              0,
              "#0d0887"
             ],
             [
              0.1111111111111111,
              "#46039f"
             ],
             [
              0.2222222222222222,
              "#7201a8"
             ],
             [
              0.3333333333333333,
              "#9c179e"
             ],
             [
              0.4444444444444444,
              "#bd3786"
             ],
             [
              0.5555555555555556,
              "#d8576b"
             ],
             [
              0.6666666666666666,
              "#ed7953"
             ],
             [
              0.7777777777777778,
              "#fb9f3a"
             ],
             [
              0.8888888888888888,
              "#fdca26"
             ],
             [
              1,
              "#f0f921"
             ]
            ],
            "type": "heatmapgl"
           }
          ],
          "histogram": [
           {
            "marker": {
             "pattern": {
              "fillmode": "overlay",
              "size": 10,
              "solidity": 0.2
             }
            },
            "type": "histogram"
           }
          ],
          "histogram2d": [
           {
            "colorbar": {
             "outlinewidth": 0,
             "ticks": ""
            },
            "colorscale": [
             [
              0,
              "#0d0887"
             ],
             [
              0.1111111111111111,
              "#46039f"
             ],
             [
              0.2222222222222222,
              "#7201a8"
             ],
             [
              0.3333333333333333,
              "#9c179e"
             ],
             [
              0.4444444444444444,
              "#bd3786"
             ],
             [
              0.5555555555555556,
              "#d8576b"
             ],
             [
              0.6666666666666666,
              "#ed7953"
             ],
             [
              0.7777777777777778,
              "#fb9f3a"
             ],
             [
              0.8888888888888888,
              "#fdca26"
             ],
             [
              1,
              "#f0f921"
             ]
            ],
            "type": "histogram2d"
           }
          ],
          "histogram2dcontour": [
           {
            "colorbar": {
             "outlinewidth": 0,
             "ticks": ""
            },
            "colorscale": [
             [
              0,
              "#0d0887"
             ],
             [
              0.1111111111111111,
              "#46039f"
             ],
             [
              0.2222222222222222,
              "#7201a8"
             ],
             [
              0.3333333333333333,
              "#9c179e"
             ],
             [
              0.4444444444444444,
              "#bd3786"
             ],
             [
              0.5555555555555556,
              "#d8576b"
             ],
             [
              0.6666666666666666,
              "#ed7953"
             ],
             [
              0.7777777777777778,
              "#fb9f3a"
             ],
             [
              0.8888888888888888,
              "#fdca26"
             ],
             [
              1,
              "#f0f921"
             ]
            ],
            "type": "histogram2dcontour"
           }
          ],
          "mesh3d": [
           {
            "colorbar": {
             "outlinewidth": 0,
             "ticks": ""
            },
            "type": "mesh3d"
           }
          ],
          "parcoords": [
           {
            "line": {
             "colorbar": {
              "outlinewidth": 0,
              "ticks": ""
             }
            },
            "type": "parcoords"
           }
          ],
          "pie": [
           {
            "automargin": true,
            "type": "pie"
           }
          ],
          "scatter": [
           {
            "fillpattern": {
             "fillmode": "overlay",
             "size": 10,
             "solidity": 0.2
            },
            "type": "scatter"
           }
          ],
          "scatter3d": [
           {
            "line": {
             "colorbar": {
              "outlinewidth": 0,
              "ticks": ""
             }
            },
            "marker": {
             "colorbar": {
              "outlinewidth": 0,
              "ticks": ""
             }
            },
            "type": "scatter3d"
           }
          ],
          "scattercarpet": [
           {
            "marker": {
             "colorbar": {
              "outlinewidth": 0,
              "ticks": ""
             }
            },
            "type": "scattercarpet"
           }
          ],
          "scattergeo": [
           {
            "marker": {
             "colorbar": {
              "outlinewidth": 0,
              "ticks": ""
             }
            },
            "type": "scattergeo"
           }
          ],
          "scattergl": [
           {
            "marker": {
             "colorbar": {
              "outlinewidth": 0,
              "ticks": ""
             }
            },
            "type": "scattergl"
           }
          ],
          "scattermapbox": [
           {
            "marker": {
             "colorbar": {
              "outlinewidth": 0,
              "ticks": ""
             }
            },
            "type": "scattermapbox"
           }
          ],
          "scatterpolar": [
           {
            "marker": {
             "colorbar": {
              "outlinewidth": 0,
              "ticks": ""
             }
            },
            "type": "scatterpolar"
           }
          ],
          "scatterpolargl": [
           {
            "marker": {
             "colorbar": {
              "outlinewidth": 0,
              "ticks": ""
             }
            },
            "type": "scatterpolargl"
           }
          ],
          "scatterternary": [
           {
            "marker": {
             "colorbar": {
              "outlinewidth": 0,
              "ticks": ""
             }
            },
            "type": "scatterternary"
           }
          ],
          "surface": [
           {
            "colorbar": {
             "outlinewidth": 0,
             "ticks": ""
            },
            "colorscale": [
             [
              0,
              "#0d0887"
             ],
             [
              0.1111111111111111,
              "#46039f"
             ],
             [
              0.2222222222222222,
              "#7201a8"
             ],
             [
              0.3333333333333333,
              "#9c179e"
             ],
             [
              0.4444444444444444,
              "#bd3786"
             ],
             [
              0.5555555555555556,
              "#d8576b"
             ],
             [
              0.6666666666666666,
              "#ed7953"
             ],
             [
              0.7777777777777778,
              "#fb9f3a"
             ],
             [
              0.8888888888888888,
              "#fdca26"
             ],
             [
              1,
              "#f0f921"
             ]
            ],
            "type": "surface"
           }
          ],
          "table": [
           {
            "cells": {
             "fill": {
              "color": "#EBF0F8"
             },
             "line": {
              "color": "white"
             }
            },
            "header": {
             "fill": {
              "color": "#C8D4E3"
             },
             "line": {
              "color": "white"
             }
            },
            "type": "table"
           }
          ]
         },
         "layout": {
          "annotationdefaults": {
           "arrowcolor": "#2a3f5f",
           "arrowhead": 0,
           "arrowwidth": 1
          },
          "autotypenumbers": "strict",
          "coloraxis": {
           "colorbar": {
            "outlinewidth": 0,
            "ticks": ""
           }
          },
          "colorscale": {
           "diverging": [
            [
             0,
             "#8e0152"
            ],
            [
             0.1,
             "#c51b7d"
            ],
            [
             0.2,
             "#de77ae"
            ],
            [
             0.3,
             "#f1b6da"
            ],
            [
             0.4,
             "#fde0ef"
            ],
            [
             0.5,
             "#f7f7f7"
            ],
            [
             0.6,
             "#e6f5d0"
            ],
            [
             0.7,
             "#b8e186"
            ],
            [
             0.8,
             "#7fbc41"
            ],
            [
             0.9,
             "#4d9221"
            ],
            [
             1,
             "#276419"
            ]
           ],
           "sequential": [
            [
             0,
             "#0d0887"
            ],
            [
             0.1111111111111111,
             "#46039f"
            ],
            [
             0.2222222222222222,
             "#7201a8"
            ],
            [
             0.3333333333333333,
             "#9c179e"
            ],
            [
             0.4444444444444444,
             "#bd3786"
            ],
            [
             0.5555555555555556,
             "#d8576b"
            ],
            [
             0.6666666666666666,
             "#ed7953"
            ],
            [
             0.7777777777777778,
             "#fb9f3a"
            ],
            [
             0.8888888888888888,
             "#fdca26"
            ],
            [
             1,
             "#f0f921"
            ]
           ],
           "sequentialminus": [
            [
             0,
             "#0d0887"
            ],
            [
             0.1111111111111111,
             "#46039f"
            ],
            [
             0.2222222222222222,
             "#7201a8"
            ],
            [
             0.3333333333333333,
             "#9c179e"
            ],
            [
             0.4444444444444444,
             "#bd3786"
            ],
            [
             0.5555555555555556,
             "#d8576b"
            ],
            [
             0.6666666666666666,
             "#ed7953"
            ],
            [
             0.7777777777777778,
             "#fb9f3a"
            ],
            [
             0.8888888888888888,
             "#fdca26"
            ],
            [
             1,
             "#f0f921"
            ]
           ]
          },
          "colorway": [
           "#636efa",
           "#EF553B",
           "#00cc96",
           "#ab63fa",
           "#FFA15A",
           "#19d3f3",
           "#FF6692",
           "#B6E880",
           "#FF97FF",
           "#FECB52"
          ],
          "font": {
           "color": "#2a3f5f"
          },
          "geo": {
           "bgcolor": "white",
           "lakecolor": "white",
           "landcolor": "#E5ECF6",
           "showlakes": true,
           "showland": true,
           "subunitcolor": "white"
          },
          "hoverlabel": {
           "align": "left"
          },
          "hovermode": "closest",
          "mapbox": {
           "style": "light"
          },
          "paper_bgcolor": "white",
          "plot_bgcolor": "#E5ECF6",
          "polar": {
           "angularaxis": {
            "gridcolor": "white",
            "linecolor": "white",
            "ticks": ""
           },
           "bgcolor": "#E5ECF6",
           "radialaxis": {
            "gridcolor": "white",
            "linecolor": "white",
            "ticks": ""
           }
          },
          "scene": {
           "xaxis": {
            "backgroundcolor": "#E5ECF6",
            "gridcolor": "white",
            "gridwidth": 2,
            "linecolor": "white",
            "showbackground": true,
            "ticks": "",
            "zerolinecolor": "white"
           },
           "yaxis": {
            "backgroundcolor": "#E5ECF6",
            "gridcolor": "white",
            "gridwidth": 2,
            "linecolor": "white",
            "showbackground": true,
            "ticks": "",
            "zerolinecolor": "white"
           },
           "zaxis": {
            "backgroundcolor": "#E5ECF6",
            "gridcolor": "white",
            "gridwidth": 2,
            "linecolor": "white",
            "showbackground": true,
            "ticks": "",
            "zerolinecolor": "white"
           }
          },
          "shapedefaults": {
           "line": {
            "color": "#2a3f5f"
           }
          },
          "ternary": {
           "aaxis": {
            "gridcolor": "white",
            "linecolor": "white",
            "ticks": ""
           },
           "baxis": {
            "gridcolor": "white",
            "linecolor": "white",
            "ticks": ""
           },
           "bgcolor": "#E5ECF6",
           "caxis": {
            "gridcolor": "white",
            "linecolor": "white",
            "ticks": ""
           }
          },
          "title": {
           "x": 0.05
          },
          "xaxis": {
           "automargin": true,
           "gridcolor": "white",
           "linecolor": "white",
           "ticks": "",
           "title": {
            "standoff": 15
           },
           "zerolinecolor": "white",
           "zerolinewidth": 2
          },
          "yaxis": {
           "automargin": true,
           "gridcolor": "white",
           "linecolor": "white",
           "ticks": "",
           "title": {
            "standoff": 15
           },
           "zerolinecolor": "white",
           "zerolinewidth": 2
          }
         }
        },
        "xaxis": {
         "gridcolor": "white",
         "linecolor": "white",
         "linewidth": 2,
         "rangeslider": {
          "visible": true
         },
         "showline": true
        },
        "yaxis": {
         "gridcolor": "white",
         "linecolor": "white",
         "linewidth": 2,
         "showline": true
        }
       }
      },
      "text/html": [
       "<div>                            <div id=\"fa4723df-d9e7-4068-8543-a78d6626e78c\" class=\"plotly-graph-div\" style=\"height:525px; width:100%;\"></div>            <script type=\"text/javascript\">                require([\"plotly\"], function(Plotly) {                    window.PLOTLYENV=window.PLOTLYENV || {};                                    if (document.getElementById(\"fa4723df-d9e7-4068-8543-a78d6626e78c\")) {                    Plotly.newPlot(                        \"fa4723df-d9e7-4068-8543-a78d6626e78c\",                        [{\"close\":[12952.2001953125,14156.400390625,13657.2001953125,14982.099609375,15201.0,15599.2001953125,17429.5,17527.0,16477.599609375,15170.099609375,14595.400390625,14973.2998046875,13405.7998046875,13980.599609375,14360.2001953125,13772.0,13819.7998046875,11490.5,11188.599609375,11474.900390625,11607.400390625,12899.2001953125,11600.099609375,10931.400390625,10868.400390625,11359.400390625,11259.400390625,11171.400390625,11440.7001953125,11786.2998046875,11296.400390625,10106.2998046875,10221.099609375,9170.5400390625,8830.75,9174.91015625,8277.009765625,6955.27001953125,7754.0,7621.2998046875,8265.58984375,8736.98046875,8621.900390625,8129.97021484375,8926.5703125,8598.3095703125,9494.6298828125,10166.400390625,10233.900390625,11112.7001953125,10551.7998046875,11225.2998046875,11403.7001953125,10690.400390625,10005.0,10301.099609375,9813.0703125,9664.73046875,10366.7001953125,10725.599609375,10397.900390625,10951.0,11086.400390625,11489.7001953125,11512.599609375,11573.2998046875,10779.900390625,9965.5703125,9395.009765625,9337.5498046875,8866.0,9578.6298828125,9205.1201171875,9194.849609375,8269.8095703125,8300.8603515625,8338.349609375,7916.8798828125,8223.6796875,8630.650390625,8913.4697265625,8929.2802734375,8728.4697265625,8879.6201171875,8668.1201171875,8495.7802734375,8209.400390625,7833.0400390625,7954.47998046875,7165.7001953125,6890.52001953125,6973.52978515625,6844.22998046875,7083.7998046875,7456.10986328125,6853.83984375,6811.47021484375,6636.31982421875,6911.08984375,7023.52001953125],\"decreasing\":{\"line\":{\"color\":\"red\"}},\"high\":[14681.900390625,14377.400390625,14112.2001953125,15444.599609375,15572.7998046875,15739.7001953125,17705.19921875,17712.400390625,17579.599609375,16537.900390625,15497.5,14973.2998046875,15018.7998046875,14229.900390625,14659.5,14511.7998046875,14445.5,13843.099609375,11678.0,12107.2998046875,11992.7998046875,13103.0,12895.900390625,11966.400390625,11377.599609375,11501.400390625,11785.7001953125,11656.7001953125,11614.900390625,12040.2998046875,11875.599609375,11307.2001953125,10381.599609375,10288.7998046875,9142.2802734375,9430.75,9334.8701171875,8364.83984375,7850.7001953125,8509.1103515625,8558.76953125,8736.98046875,9122.5498046875,8616.1298828125,8985.919921875,8958.4697265625,9518.5400390625,10234.7998046875,10324.099609375,11139.5,11349.7998046875,11273.7998046875,11958.5,11418.5,11039.099609375,10487.2998046875,10597.2001953125,9923.2197265625,10475.0,10878.5,11089.7998046875,11052.2998046875,11189.0,11528.2001953125,11512.599609375,11704.099609375,11500.099609375,10929.5,10147.400390625,9466.349609375,9531.3203125,9711.8896484375,9937.5,9470.3798828125,9355.849609375,8428.349609375,8585.150390625,8346.5302734375,8245.509765625,8675.8701171875,9051.01953125,9177.3701171875,9100.7099609375,8879.6201171875,8996.1796875,8682.009765625,8530.080078125,8232.7802734375,8122.89013671875,7994.330078125,7276.66015625,7207.85009765625,7060.9501953125,7135.47021484375,7530.93994140625,7469.8798828125,6933.81982421875,6857.490234375,7050.5400390625,7111.56005859375],\"increasing\":{\"line\":{\"color\":\"green\"}},\"low\":[12350.099609375,12755.599609375,13154.7001953125,13163.599609375,14844.5,14522.2001953125,15202.7998046875,16764.599609375,16087.7001953125,14208.2001953125,14424.0,13691.2001953125,13105.900390625,13158.099609375,13952.400390625,13268.0,13641.7001953125,10194.900390625,9402.2900390625,10942.5,11172.099609375,11656.2001953125,11288.2001953125,10240.2001953125,10129.7001953125,10639.7998046875,11057.400390625,10470.2998046875,10989.2001953125,11475.2998046875,11179.2001953125,10036.2001953125,9777.419921875,8812.2802734375,7796.490234375,8251.6298828125,8031.22021484375,6756.68017578125,6048.259765625,7236.7900390625,7637.85986328125,7884.7099609375,8295.4697265625,7931.10009765625,8141.43017578125,8455.41015625,8599.919921875,9395.580078125,9824.8203125,10149.400390625,10326.0,10513.2001953125,11231.7998046875,10479.099609375,9939.08984375,9734.5595703125,9546.9697265625,9407.0595703125,9501.73046875,10246.099609375,10393.099609375,10352.7001953125,10850.099609375,11002.400390625,11136.099609375,11443.900390625,10694.2998046875,9692.1201171875,9335.8701171875,8513.0302734375,8828.4697265625,8607.1201171875,8956.4296875,8958.1904296875,8068.58984375,7783.0498046875,8005.31005859375,7812.81982421875,7397.990234375,8182.39990234375,8389.8896484375,8846.330078125,8564.900390625,8360.6201171875,8665.7001953125,8449.099609375,7921.43017578125,7797.27978515625,7809.169921875,7081.3798828125,6683.93017578125,6863.52001953125,6526.8701171875,6816.580078125,7072.490234375,6803.8798828125,6644.7998046875,6575.0,6630.509765625,6919.97998046875],\"open\":[14681.900390625,12897.7001953125,14112.2001953125,13625.0,14978.2001953125,15270.7001953125,15477.2001953125,17462.099609375,17527.30078125,16476.19921875,15123.7001953125,14588.5,14968.2001953125,13453.900390625,13952.400390625,14370.7998046875,13767.2998046875,13836.099609375,11431.099609375,11198.7998046875,11429.7998046875,11656.2001953125,12889.2001953125,11633.099609375,10944.5,10903.400390625,11421.7001953125,11256.0,11174.900390625,11475.2998046875,11755.5,11306.7998046875,10108.2001953125,10237.2998046875,9142.2802734375,8852.1201171875,9175.7001953125,8270.5400390625,7051.75,7755.490234375,7637.85986328125,8271.83984375,8720.080078125,8616.1298828125,8141.43017578125,8926.7197265625,8599.919921875,9488.3203125,10135.7001953125,10207.5,11123.400390625,10552.599609375,11231.7998046875,11372.2001953125,10660.400390625,9937.0703125,10287.7001953125,9796.419921875,9669.4296875,10393.900390625,10687.2001953125,10385.0,10977.400390625,11101.900390625,11497.400390625,11532.400390625,11500.099609375,10803.900390625,9951.4404296875,9414.6904296875,9350.58984375,8852.7802734375,9602.9296875,9173.0400390625,9214.650390625,8290.759765625,8322.91015625,8321.91015625,7890.52001953125,8344.1201171875,8619.669921875,8937.48046875,8939.4404296875,8736.25,8901.9501953125,8612.8095703125,8498.4697265625,8200.0,7836.830078125,7979.06982421875,7171.4501953125,6892.47998046875,7003.06005859375,6844.85986328125,7102.259765625,7456.41015625,6848.64990234375,6815.9599609375,6630.509765625,6919.97998046875],\"x\":[\"2017-12-30T00:00:00\",\"2017-12-31T00:00:00\",\"2018-01-01T00:00:00\",\"2018-01-02T00:00:00\",\"2018-01-03T00:00:00\",\"2018-01-04T00:00:00\",\"2018-01-05T00:00:00\",\"2018-01-06T00:00:00\",\"2018-01-07T00:00:00\",\"2018-01-08T00:00:00\",\"2018-01-09T00:00:00\",\"2018-01-10T00:00:00\",\"2018-01-11T00:00:00\",\"2018-01-12T00:00:00\",\"2018-01-13T00:00:00\",\"2018-01-14T00:00:00\",\"2018-01-15T00:00:00\",\"2018-01-16T00:00:00\",\"2018-01-17T00:00:00\",\"2018-01-18T00:00:00\",\"2018-01-19T00:00:00\",\"2018-01-20T00:00:00\",\"2018-01-21T00:00:00\",\"2018-01-22T00:00:00\",\"2018-01-23T00:00:00\",\"2018-01-24T00:00:00\",\"2018-01-25T00:00:00\",\"2018-01-26T00:00:00\",\"2018-01-27T00:00:00\",\"2018-01-28T00:00:00\",\"2018-01-29T00:00:00\",\"2018-01-30T00:00:00\",\"2018-01-31T00:00:00\",\"2018-02-01T00:00:00\",\"2018-02-02T00:00:00\",\"2018-02-03T00:00:00\",\"2018-02-04T00:00:00\",\"2018-02-05T00:00:00\",\"2018-02-06T00:00:00\",\"2018-02-07T00:00:00\",\"2018-02-08T00:00:00\",\"2018-02-09T00:00:00\",\"2018-02-10T00:00:00\",\"2018-02-11T00:00:00\",\"2018-02-12T00:00:00\",\"2018-02-13T00:00:00\",\"2018-02-14T00:00:00\",\"2018-02-15T00:00:00\",\"2018-02-16T00:00:00\",\"2018-02-17T00:00:00\",\"2018-02-18T00:00:00\",\"2018-02-19T00:00:00\",\"2018-02-20T00:00:00\",\"2018-02-21T00:00:00\",\"2018-02-22T00:00:00\",\"2018-02-23T00:00:00\",\"2018-02-24T00:00:00\",\"2018-02-25T00:00:00\",\"2018-02-26T00:00:00\",\"2018-02-27T00:00:00\",\"2018-02-28T00:00:00\",\"2018-03-01T00:00:00\",\"2018-03-02T00:00:00\",\"2018-03-03T00:00:00\",\"2018-03-04T00:00:00\",\"2018-03-05T00:00:00\",\"2018-03-06T00:00:00\",\"2018-03-07T00:00:00\",\"2018-03-08T00:00:00\",\"2018-03-09T00:00:00\",\"2018-03-10T00:00:00\",\"2018-03-11T00:00:00\",\"2018-03-12T00:00:00\",\"2018-03-13T00:00:00\",\"2018-03-14T00:00:00\",\"2018-03-15T00:00:00\",\"2018-03-16T00:00:00\",\"2018-03-17T00:00:00\",\"2018-03-18T00:00:00\",\"2018-03-19T00:00:00\",\"2018-03-20T00:00:00\",\"2018-03-21T00:00:00\",\"2018-03-22T00:00:00\",\"2018-03-23T00:00:00\",\"2018-03-24T00:00:00\",\"2018-03-25T00:00:00\",\"2018-03-26T00:00:00\",\"2018-03-27T00:00:00\",\"2018-03-28T00:00:00\",\"2018-03-29T00:00:00\",\"2018-03-30T00:00:00\",\"2018-03-31T00:00:00\",\"2018-04-01T00:00:00\",\"2018-04-02T00:00:00\",\"2018-04-03T00:00:00\",\"2018-04-04T00:00:00\",\"2018-04-05T00:00:00\",\"2018-04-06T00:00:00\",\"2018-04-07T00:00:00\",\"2018-04-08T00:00:00\"],\"type\":\"candlestick\"},{\"line\":{\"color\":\"green\",\"width\":3},\"name\":\"SUPPORT\",\"x\":[\"2017-12-30T00:00:00\",\"2017-12-31T00:00:00\",\"2018-01-01T00:00:00\",\"2018-01-02T00:00:00\",\"2018-01-03T00:00:00\",\"2018-01-04T00:00:00\",\"2018-01-05T00:00:00\",\"2018-01-06T00:00:00\",\"2018-01-07T00:00:00\",\"2018-01-08T00:00:00\",\"2018-01-09T00:00:00\",\"2018-01-10T00:00:00\",\"2018-01-11T00:00:00\",\"2018-01-12T00:00:00\",\"2018-01-13T00:00:00\",\"2018-01-14T00:00:00\",\"2018-01-15T00:00:00\",\"2018-01-16T00:00:00\",\"2018-01-17T00:00:00\",\"2018-01-18T00:00:00\",\"2018-01-19T00:00:00\",\"2018-01-20T00:00:00\",\"2018-01-21T00:00:00\",\"2018-01-22T00:00:00\",\"2018-01-23T00:00:00\",\"2018-01-24T00:00:00\",\"2018-01-25T00:00:00\",\"2018-01-26T00:00:00\",\"2018-01-27T00:00:00\",\"2018-01-28T00:00:00\",\"2018-01-29T00:00:00\",\"2018-01-30T00:00:00\",\"2018-01-31T00:00:00\",\"2018-02-01T00:00:00\",\"2018-02-02T00:00:00\",\"2018-02-03T00:00:00\",\"2018-02-04T00:00:00\",\"2018-02-05T00:00:00\",\"2018-02-06T00:00:00\",\"2018-02-07T00:00:00\",\"2018-02-08T00:00:00\",\"2018-02-09T00:00:00\",\"2018-02-10T00:00:00\",\"2018-02-11T00:00:00\",\"2018-02-12T00:00:00\",\"2018-02-13T00:00:00\",\"2018-02-14T00:00:00\",\"2018-02-15T00:00:00\",\"2018-02-16T00:00:00\",\"2018-02-17T00:00:00\",\"2018-02-18T00:00:00\",\"2018-02-19T00:00:00\",\"2018-02-20T00:00:00\",\"2018-02-21T00:00:00\",\"2018-02-22T00:00:00\",\"2018-02-23T00:00:00\",\"2018-02-24T00:00:00\",\"2018-02-25T00:00:00\",\"2018-02-26T00:00:00\",\"2018-02-27T00:00:00\",\"2018-02-28T00:00:00\",\"2018-03-01T00:00:00\",\"2018-03-02T00:00:00\",\"2018-03-03T00:00:00\",\"2018-03-04T00:00:00\",\"2018-03-05T00:00:00\",\"2018-03-06T00:00:00\",\"2018-03-07T00:00:00\",\"2018-03-08T00:00:00\",\"2018-03-09T00:00:00\",\"2018-03-10T00:00:00\",\"2018-03-11T00:00:00\",\"2018-03-12T00:00:00\",\"2018-03-13T00:00:00\",\"2018-03-14T00:00:00\",\"2018-03-15T00:00:00\",\"2018-03-16T00:00:00\",\"2018-03-17T00:00:00\",\"2018-03-18T00:00:00\",\"2018-03-19T00:00:00\",\"2018-03-20T00:00:00\",\"2018-03-21T00:00:00\",\"2018-03-22T00:00:00\",\"2018-03-23T00:00:00\",\"2018-03-24T00:00:00\",\"2018-03-25T00:00:00\",\"2018-03-26T00:00:00\",\"2018-03-27T00:00:00\",\"2018-03-28T00:00:00\",\"2018-03-29T00:00:00\",\"2018-03-30T00:00:00\",\"2018-03-31T00:00:00\",\"2018-04-01T00:00:00\",\"2018-04-02T00:00:00\",\"2018-04-03T00:00:00\",\"2018-04-04T00:00:00\",\"2018-04-05T00:00:00\",\"2018-04-06T00:00:00\",\"2018-04-07T00:00:00\",\"2018-04-08T00:00:00\"],\"y\":[null,null,null,null,null,null,null,null,null,null,null,null,null,null,null,null,null,null,null,null,null,null,null,null,null,null,null,null,null,null,null,null,null,null,null,null,null,null,null,6056.961772017045,6065.663778409091,6074.365784801136,6083.067791193182,6091.769797585227,6100.471803977272,6109.173810369318,6117.875816761363,6126.577823153409,6135.279829545454,6143.981835937499,6152.683842329545,6161.38584872159,6170.087855113636,6178.789861505681,6187.4918678977265,6196.193874289772,6204.895880681817,6213.597887073863,6222.299893465908,6231.0018998579535,6239.703906249999,6248.405912642044,6257.10791903409,6265.809925426135,6274.5119318181805,6283.213938210226,6291.915944602271,6300.617950994317,6309.319957386362,6318.021963778408,6326.723970170453,6335.425976562498,6344.127982954544,6352.829989346589,6361.531995738635,6370.23400213068,6378.936008522725,6387.638014914771,6396.340021306816,6405.042027698862,6413.744034090907,6422.446040482952,6431.148046874998,6439.850053267043,6448.552059659089,6457.254066051134,6465.956072443179,6474.658078835225,6483.36008522727,6492.062091619316,6500.764098011361,6509.4661044034065,6518.168110795452,6526.870117187497,6535.572123579543,6544.274129971588,6552.9761363636335,6561.678142755679,6570.380149147724,6579.08215553977],\"type\":\"scatter\"},{\"line\":{\"color\":\"red\",\"width\":3},\"name\":\"RESISTANCE\",\"x\":[\"2017-12-30T00:00:00\",\"2017-12-31T00:00:00\",\"2018-01-01T00:00:00\",\"2018-01-02T00:00:00\",\"2018-01-03T00:00:00\",\"2018-01-04T00:00:00\",\"2018-01-05T00:00:00\",\"2018-01-06T00:00:00\",\"2018-01-07T00:00:00\",\"2018-01-08T00:00:00\",\"2018-01-09T00:00:00\",\"2018-01-10T00:00:00\",\"2018-01-11T00:00:00\",\"2018-01-12T00:00:00\",\"2018-01-13T00:00:00\",\"2018-01-14T00:00:00\",\"2018-01-15T00:00:00\",\"2018-01-16T00:00:00\",\"2018-01-17T00:00:00\",\"2018-01-18T00:00:00\",\"2018-01-19T00:00:00\",\"2018-01-20T00:00:00\",\"2018-01-21T00:00:00\",\"2018-01-22T00:00:00\",\"2018-01-23T00:00:00\",\"2018-01-24T00:00:00\",\"2018-01-25T00:00:00\",\"2018-01-26T00:00:00\",\"2018-01-27T00:00:00\",\"2018-01-28T00:00:00\",\"2018-01-29T00:00:00\",\"2018-01-30T00:00:00\",\"2018-01-31T00:00:00\",\"2018-02-01T00:00:00\",\"2018-02-02T00:00:00\",\"2018-02-03T00:00:00\",\"2018-02-04T00:00:00\",\"2018-02-05T00:00:00\",\"2018-02-06T00:00:00\",\"2018-02-07T00:00:00\",\"2018-02-08T00:00:00\",\"2018-02-09T00:00:00\",\"2018-02-10T00:00:00\",\"2018-02-11T00:00:00\",\"2018-02-12T00:00:00\",\"2018-02-13T00:00:00\",\"2018-02-14T00:00:00\",\"2018-02-15T00:00:00\",\"2018-02-16T00:00:00\",\"2018-02-17T00:00:00\",\"2018-02-18T00:00:00\",\"2018-02-19T00:00:00\",\"2018-02-20T00:00:00\",\"2018-02-21T00:00:00\",\"2018-02-22T00:00:00\",\"2018-02-23T00:00:00\",\"2018-02-24T00:00:00\",\"2018-02-25T00:00:00\",\"2018-02-26T00:00:00\",\"2018-02-27T00:00:00\",\"2018-02-28T00:00:00\",\"2018-03-01T00:00:00\",\"2018-03-02T00:00:00\",\"2018-03-03T00:00:00\",\"2018-03-04T00:00:00\",\"2018-03-05T00:00:00\",\"2018-03-06T00:00:00\",\"2018-03-07T00:00:00\",\"2018-03-08T00:00:00\",\"2018-03-09T00:00:00\",\"2018-03-10T00:00:00\",\"2018-03-11T00:00:00\",\"2018-03-12T00:00:00\",\"2018-03-13T00:00:00\",\"2018-03-14T00:00:00\",\"2018-03-15T00:00:00\",\"2018-03-16T00:00:00\",\"2018-03-17T00:00:00\",\"2018-03-18T00:00:00\",\"2018-03-19T00:00:00\",\"2018-03-20T00:00:00\",\"2018-03-21T00:00:00\",\"2018-03-22T00:00:00\",\"2018-03-23T00:00:00\",\"2018-03-24T00:00:00\",\"2018-03-25T00:00:00\",\"2018-03-26T00:00:00\",\"2018-03-27T00:00:00\",\"2018-03-28T00:00:00\",\"2018-03-29T00:00:00\",\"2018-03-30T00:00:00\",\"2018-03-31T00:00:00\",\"2018-04-01T00:00:00\",\"2018-04-02T00:00:00\",\"2018-04-03T00:00:00\",\"2018-04-04T00:00:00\",\"2018-04-05T00:00:00\",\"2018-04-06T00:00:00\",\"2018-04-07T00:00:00\",\"2018-04-08T00:00:00\"],\"y\":[null,null,null,null,null,null,null,null,11793.686735733696,11547.073666779892,11300.460597826088,11053.847528872284,10807.23445991848,10560.621390964676,10314.008322010872,10067.395253057068,9820.782184103264,9574.16911514946,9327.556046195656,9080.942977241852,8834.329908288048,8587.716839334244,8341.10377038044,8094.4907014266355,7847.8776324728315,7601.264563519027,7354.651494565223,7108.038425611419,6861.425356657615,6614.812287703811,6368.199218750007,6121.586149796203,5874.973080842399,5628.360011888595,5381.746942934791,5135.133873980987,4888.520805027183,4641.907736073379,4395.294667119575,4148.681598165771,3902.0685292119665,3655.455460258162,3408.8423913043575,3162.229322350553,2915.6162533967486,2669.003184442944,2422.3901154891396,2175.777046535335,1929.1639775815308,1682.5509086277266,1435.9378396739223,1189.324770720118,942.7117017663137,696.0986328125093,449.48556385870495,202.8724949049006,-43.74057404890374,-290.35364300270805,-536.9667119565124,-783.5797809103168,-1030.1928498641212,-1276.8059188179254,-1523.4189877717297,-1770.032056725534,-2016.6451256793382,-2263.2581946331425,-2509.871263586947,-2756.4843325407514,-3003.097401494556,-3249.7104704483604,-3496.323539402165,-3742.9366083559694,-3989.549677309774,-4236.162746263578,-4482.775815217382,-4729.388884171186,-4976.00195312499,-5222.615022078794,-5469.228091032598,-5715.841159986402,-5962.454228940206,-6209.06729789401,-6455.680366847814,-6702.293435801618,-6948.906504755422,-7195.519573709226,-7442.13264266303,-7688.745711616834,-7935.358780570638,-8181.971849524442,-8428.584918478247,-8675.197987432051,-8921.811056385855,-9168.42412533966,-9415.037194293463,-9661.650263247268,-9908.263332201072,-10154.876401154876,-10401.48947010868,-10648.102539062484],\"type\":\"scatter\"},{\"marker\":{\"color\":\"Orange\",\"size\":5},\"mode\":\"markers\",\"name\":\"Buy\",\"x\":[\"2017-12-30T00:00:00\",\"2017-12-31T00:00:00\",\"2018-01-01T00:00:00\",\"2018-01-02T00:00:00\",\"2018-01-03T00:00:00\",\"2018-01-04T00:00:00\",\"2018-01-05T00:00:00\",\"2018-01-06T00:00:00\",\"2018-01-07T00:00:00\",\"2018-01-08T00:00:00\",\"2018-01-09T00:00:00\",\"2018-01-10T00:00:00\",\"2018-01-11T00:00:00\",\"2018-01-12T00:00:00\",\"2018-01-13T00:00:00\",\"2018-01-14T00:00:00\",\"2018-01-15T00:00:00\",\"2018-01-16T00:00:00\",\"2018-01-17T00:00:00\",\"2018-01-18T00:00:00\",\"2018-01-19T00:00:00\",\"2018-01-20T00:00:00\",\"2018-01-21T00:00:00\",\"2018-01-22T00:00:00\",\"2018-01-23T00:00:00\",\"2018-01-24T00:00:00\",\"2018-01-25T00:00:00\",\"2018-01-26T00:00:00\",\"2018-01-27T00:00:00\",\"2018-01-28T00:00:00\",\"2018-01-29T00:00:00\",\"2018-01-30T00:00:00\",\"2018-01-31T00:00:00\",\"2018-02-01T00:00:00\",\"2018-02-02T00:00:00\",\"2018-02-03T00:00:00\",\"2018-02-04T00:00:00\",\"2018-02-05T00:00:00\",\"2018-02-06T00:00:00\",\"2018-02-07T00:00:00\",\"2018-02-08T00:00:00\",\"2018-02-09T00:00:00\",\"2018-02-10T00:00:00\",\"2018-02-11T00:00:00\",\"2018-02-12T00:00:00\",\"2018-02-13T00:00:00\",\"2018-02-14T00:00:00\",\"2018-02-15T00:00:00\",\"2018-02-16T00:00:00\",\"2018-02-17T00:00:00\",\"2018-02-18T00:00:00\",\"2018-02-19T00:00:00\",\"2018-02-20T00:00:00\",\"2018-02-21T00:00:00\",\"2018-02-22T00:00:00\",\"2018-02-23T00:00:00\",\"2018-02-24T00:00:00\",\"2018-02-25T00:00:00\",\"2018-02-26T00:00:00\",\"2018-02-27T00:00:00\",\"2018-02-28T00:00:00\",\"2018-03-01T00:00:00\",\"2018-03-02T00:00:00\",\"2018-03-03T00:00:00\",\"2018-03-04T00:00:00\",\"2018-03-05T00:00:00\",\"2018-03-06T00:00:00\",\"2018-03-07T00:00:00\",\"2018-03-08T00:00:00\",\"2018-03-09T00:00:00\",\"2018-03-10T00:00:00\",\"2018-03-11T00:00:00\",\"2018-03-12T00:00:00\",\"2018-03-13T00:00:00\",\"2018-03-14T00:00:00\",\"2018-03-15T00:00:00\",\"2018-03-16T00:00:00\",\"2018-03-17T00:00:00\",\"2018-03-18T00:00:00\",\"2018-03-19T00:00:00\",\"2018-03-20T00:00:00\",\"2018-03-21T00:00:00\",\"2018-03-22T00:00:00\",\"2018-03-23T00:00:00\",\"2018-03-24T00:00:00\",\"2018-03-25T00:00:00\",\"2018-03-26T00:00:00\",\"2018-03-27T00:00:00\",\"2018-03-28T00:00:00\",\"2018-03-29T00:00:00\",\"2018-03-30T00:00:00\",\"2018-03-31T00:00:00\",\"2018-04-01T00:00:00\",\"2018-04-02T00:00:00\",\"2018-04-03T00:00:00\",\"2018-04-04T00:00:00\",\"2018-04-05T00:00:00\",\"2018-04-06T00:00:00\",\"2018-04-07T00:00:00\",\"2018-04-08T00:00:00\"],\"y\":[232.77099609375,216.322998046875,214.87399291992188,228.572998046875,234.0570068359375,231.81700134277344,235.69200134277344,221.29600524902344,222.65199279785156,240.6269989013672,240.36500549316406,253.5050048828125],\"type\":\"scatter\"}],                        {\"template\":{\"data\":{\"histogram2dcontour\":[{\"type\":\"histogram2dcontour\",\"colorbar\":{\"outlinewidth\":0,\"ticks\":\"\"},\"colorscale\":[[0.0,\"#0d0887\"],[0.1111111111111111,\"#46039f\"],[0.2222222222222222,\"#7201a8\"],[0.3333333333333333,\"#9c179e\"],[0.4444444444444444,\"#bd3786\"],[0.5555555555555556,\"#d8576b\"],[0.6666666666666666,\"#ed7953\"],[0.7777777777777778,\"#fb9f3a\"],[0.8888888888888888,\"#fdca26\"],[1.0,\"#f0f921\"]]}],\"choropleth\":[{\"type\":\"choropleth\",\"colorbar\":{\"outlinewidth\":0,\"ticks\":\"\"}}],\"histogram2d\":[{\"type\":\"histogram2d\",\"colorbar\":{\"outlinewidth\":0,\"ticks\":\"\"},\"colorscale\":[[0.0,\"#0d0887\"],[0.1111111111111111,\"#46039f\"],[0.2222222222222222,\"#7201a8\"],[0.3333333333333333,\"#9c179e\"],[0.4444444444444444,\"#bd3786\"],[0.5555555555555556,\"#d8576b\"],[0.6666666666666666,\"#ed7953\"],[0.7777777777777778,\"#fb9f3a\"],[0.8888888888888888,\"#fdca26\"],[1.0,\"#f0f921\"]]}],\"heatmap\":[{\"type\":\"heatmap\",\"colorbar\":{\"outlinewidth\":0,\"ticks\":\"\"},\"colorscale\":[[0.0,\"#0d0887\"],[0.1111111111111111,\"#46039f\"],[0.2222222222222222,\"#7201a8\"],[0.3333333333333333,\"#9c179e\"],[0.4444444444444444,\"#bd3786\"],[0.5555555555555556,\"#d8576b\"],[0.6666666666666666,\"#ed7953\"],[0.7777777777777778,\"#fb9f3a\"],[0.8888888888888888,\"#fdca26\"],[1.0,\"#f0f921\"]]}],\"heatmapgl\":[{\"type\":\"heatmapgl\",\"colorbar\":{\"outlinewidth\":0,\"ticks\":\"\"},\"colorscale\":[[0.0,\"#0d0887\"],[0.1111111111111111,\"#46039f\"],[0.2222222222222222,\"#7201a8\"],[0.3333333333333333,\"#9c179e\"],[0.4444444444444444,\"#bd3786\"],[0.5555555555555556,\"#d8576b\"],[0.6666666666666666,\"#ed7953\"],[0.7777777777777778,\"#fb9f3a\"],[0.8888888888888888,\"#fdca26\"],[1.0,\"#f0f921\"]]}],\"contourcarpet\":[{\"type\":\"contourcarpet\",\"colorbar\":{\"outlinewidth\":0,\"ticks\":\"\"}}],\"contour\":[{\"type\":\"contour\",\"colorbar\":{\"outlinewidth\":0,\"ticks\":\"\"},\"colorscale\":[[0.0,\"#0d0887\"],[0.1111111111111111,\"#46039f\"],[0.2222222222222222,\"#7201a8\"],[0.3333333333333333,\"#9c179e\"],[0.4444444444444444,\"#bd3786\"],[0.5555555555555556,\"#d8576b\"],[0.6666666666666666,\"#ed7953\"],[0.7777777777777778,\"#fb9f3a\"],[0.8888888888888888,\"#fdca26\"],[1.0,\"#f0f921\"]]}],\"surface\":[{\"type\":\"surface\",\"colorbar\":{\"outlinewidth\":0,\"ticks\":\"\"},\"colorscale\":[[0.0,\"#0d0887\"],[0.1111111111111111,\"#46039f\"],[0.2222222222222222,\"#7201a8\"],[0.3333333333333333,\"#9c179e\"],[0.4444444444444444,\"#bd3786\"],[0.5555555555555556,\"#d8576b\"],[0.6666666666666666,\"#ed7953\"],[0.7777777777777778,\"#fb9f3a\"],[0.8888888888888888,\"#fdca26\"],[1.0,\"#f0f921\"]]}],\"mesh3d\":[{\"type\":\"mesh3d\",\"colorbar\":{\"outlinewidth\":0,\"ticks\":\"\"}}],\"scatter\":[{\"fillpattern\":{\"fillmode\":\"overlay\",\"size\":10,\"solidity\":0.2},\"type\":\"scatter\"}],\"parcoords\":[{\"type\":\"parcoords\",\"line\":{\"colorbar\":{\"outlinewidth\":0,\"ticks\":\"\"}}}],\"scatterpolargl\":[{\"type\":\"scatterpolargl\",\"marker\":{\"colorbar\":{\"outlinewidth\":0,\"ticks\":\"\"}}}],\"bar\":[{\"error_x\":{\"color\":\"#2a3f5f\"},\"error_y\":{\"color\":\"#2a3f5f\"},\"marker\":{\"line\":{\"color\":\"#E5ECF6\",\"width\":0.5},\"pattern\":{\"fillmode\":\"overlay\",\"size\":10,\"solidity\":0.2}},\"type\":\"bar\"}],\"scattergeo\":[{\"type\":\"scattergeo\",\"marker\":{\"colorbar\":{\"outlinewidth\":0,\"ticks\":\"\"}}}],\"scatterpolar\":[{\"type\":\"scatterpolar\",\"marker\":{\"colorbar\":{\"outlinewidth\":0,\"ticks\":\"\"}}}],\"histogram\":[{\"marker\":{\"pattern\":{\"fillmode\":\"overlay\",\"size\":10,\"solidity\":0.2}},\"type\":\"histogram\"}],\"scattergl\":[{\"type\":\"scattergl\",\"marker\":{\"colorbar\":{\"outlinewidth\":0,\"ticks\":\"\"}}}],\"scatter3d\":[{\"type\":\"scatter3d\",\"line\":{\"colorbar\":{\"outlinewidth\":0,\"ticks\":\"\"}},\"marker\":{\"colorbar\":{\"outlinewidth\":0,\"ticks\":\"\"}}}],\"scattermapbox\":[{\"type\":\"scattermapbox\",\"marker\":{\"colorbar\":{\"outlinewidth\":0,\"ticks\":\"\"}}}],\"scatterternary\":[{\"type\":\"scatterternary\",\"marker\":{\"colorbar\":{\"outlinewidth\":0,\"ticks\":\"\"}}}],\"scattercarpet\":[{\"type\":\"scattercarpet\",\"marker\":{\"colorbar\":{\"outlinewidth\":0,\"ticks\":\"\"}}}],\"carpet\":[{\"aaxis\":{\"endlinecolor\":\"#2a3f5f\",\"gridcolor\":\"white\",\"linecolor\":\"white\",\"minorgridcolor\":\"white\",\"startlinecolor\":\"#2a3f5f\"},\"baxis\":{\"endlinecolor\":\"#2a3f5f\",\"gridcolor\":\"white\",\"linecolor\":\"white\",\"minorgridcolor\":\"white\",\"startlinecolor\":\"#2a3f5f\"},\"type\":\"carpet\"}],\"table\":[{\"cells\":{\"fill\":{\"color\":\"#EBF0F8\"},\"line\":{\"color\":\"white\"}},\"header\":{\"fill\":{\"color\":\"#C8D4E3\"},\"line\":{\"color\":\"white\"}},\"type\":\"table\"}],\"barpolar\":[{\"marker\":{\"line\":{\"color\":\"#E5ECF6\",\"width\":0.5},\"pattern\":{\"fillmode\":\"overlay\",\"size\":10,\"solidity\":0.2}},\"type\":\"barpolar\"}],\"pie\":[{\"automargin\":true,\"type\":\"pie\"}]},\"layout\":{\"autotypenumbers\":\"strict\",\"colorway\":[\"#636efa\",\"#EF553B\",\"#00cc96\",\"#ab63fa\",\"#FFA15A\",\"#19d3f3\",\"#FF6692\",\"#B6E880\",\"#FF97FF\",\"#FECB52\"],\"font\":{\"color\":\"#2a3f5f\"},\"hovermode\":\"closest\",\"hoverlabel\":{\"align\":\"left\"},\"paper_bgcolor\":\"white\",\"plot_bgcolor\":\"#E5ECF6\",\"polar\":{\"bgcolor\":\"#E5ECF6\",\"angularaxis\":{\"gridcolor\":\"white\",\"linecolor\":\"white\",\"ticks\":\"\"},\"radialaxis\":{\"gridcolor\":\"white\",\"linecolor\":\"white\",\"ticks\":\"\"}},\"ternary\":{\"bgcolor\":\"#E5ECF6\",\"aaxis\":{\"gridcolor\":\"white\",\"linecolor\":\"white\",\"ticks\":\"\"},\"baxis\":{\"gridcolor\":\"white\",\"linecolor\":\"white\",\"ticks\":\"\"},\"caxis\":{\"gridcolor\":\"white\",\"linecolor\":\"white\",\"ticks\":\"\"}},\"coloraxis\":{\"colorbar\":{\"outlinewidth\":0,\"ticks\":\"\"}},\"colorscale\":{\"sequential\":[[0.0,\"#0d0887\"],[0.1111111111111111,\"#46039f\"],[0.2222222222222222,\"#7201a8\"],[0.3333333333333333,\"#9c179e\"],[0.4444444444444444,\"#bd3786\"],[0.5555555555555556,\"#d8576b\"],[0.6666666666666666,\"#ed7953\"],[0.7777777777777778,\"#fb9f3a\"],[0.8888888888888888,\"#fdca26\"],[1.0,\"#f0f921\"]],\"sequentialminus\":[[0.0,\"#0d0887\"],[0.1111111111111111,\"#46039f\"],[0.2222222222222222,\"#7201a8\"],[0.3333333333333333,\"#9c179e\"],[0.4444444444444444,\"#bd3786\"],[0.5555555555555556,\"#d8576b\"],[0.6666666666666666,\"#ed7953\"],[0.7777777777777778,\"#fb9f3a\"],[0.8888888888888888,\"#fdca26\"],[1.0,\"#f0f921\"]],\"diverging\":[[0,\"#8e0152\"],[0.1,\"#c51b7d\"],[0.2,\"#de77ae\"],[0.3,\"#f1b6da\"],[0.4,\"#fde0ef\"],[0.5,\"#f7f7f7\"],[0.6,\"#e6f5d0\"],[0.7,\"#b8e186\"],[0.8,\"#7fbc41\"],[0.9,\"#4d9221\"],[1,\"#276419\"]]},\"xaxis\":{\"gridcolor\":\"white\",\"linecolor\":\"white\",\"ticks\":\"\",\"title\":{\"standoff\":15},\"zerolinecolor\":\"white\",\"automargin\":true,\"zerolinewidth\":2},\"yaxis\":{\"gridcolor\":\"white\",\"linecolor\":\"white\",\"ticks\":\"\",\"title\":{\"standoff\":15},\"zerolinecolor\":\"white\",\"automargin\":true,\"zerolinewidth\":2},\"scene\":{\"xaxis\":{\"backgroundcolor\":\"#E5ECF6\",\"gridcolor\":\"white\",\"linecolor\":\"white\",\"showbackground\":true,\"ticks\":\"\",\"zerolinecolor\":\"white\",\"gridwidth\":2},\"yaxis\":{\"backgroundcolor\":\"#E5ECF6\",\"gridcolor\":\"white\",\"linecolor\":\"white\",\"showbackground\":true,\"ticks\":\"\",\"zerolinecolor\":\"white\",\"gridwidth\":2},\"zaxis\":{\"backgroundcolor\":\"#E5ECF6\",\"gridcolor\":\"white\",\"linecolor\":\"white\",\"showbackground\":true,\"ticks\":\"\",\"zerolinecolor\":\"white\",\"gridwidth\":2}},\"shapedefaults\":{\"line\":{\"color\":\"#2a3f5f\"}},\"annotationdefaults\":{\"arrowcolor\":\"#2a3f5f\",\"arrowhead\":0,\"arrowwidth\":1},\"geo\":{\"bgcolor\":\"white\",\"landcolor\":\"#E5ECF6\",\"subunitcolor\":\"white\",\"showland\":true,\"showlakes\":true,\"lakecolor\":\"white\"},\"title\":{\"x\":0.05},\"mapbox\":{\"style\":\"light\"}}},\"xaxis\":{\"rangeslider\":{\"visible\":true},\"showline\":true,\"linewidth\":2,\"linecolor\":\"white\",\"gridcolor\":\"white\"},\"margin\":{\"l\":0,\"b\":0,\"r\":0,\"t\":0},\"paper_bgcolor\":\"black\",\"plot_bgcolor\":\"black\",\"yaxis\":{\"showline\":true,\"linewidth\":2,\"linecolor\":\"white\",\"gridcolor\":\"white\"}},                        {\"responsive\": true}                    ).then(function(){\n",
       "                            \n",
       "var gd = document.getElementById('fa4723df-d9e7-4068-8543-a78d6626e78c');\n",
       "var x = new MutationObserver(function (mutations, observer) {{\n",
       "        var display = window.getComputedStyle(gd).display;\n",
       "        if (!display || display === 'none') {{\n",
       "            console.log([gd, 'removed!']);\n",
       "            Plotly.purge(gd);\n",
       "            observer.disconnect();\n",
       "        }}\n",
       "}});\n",
       "\n",
       "// Listen for the removal of the full notebook cells\n",
       "var notebookContainer = gd.closest('#notebook-container');\n",
       "if (notebookContainer) {{\n",
       "    x.observe(notebookContainer, {childList: true});\n",
       "}}\n",
       "\n",
       "// Listen for the clearing of the current output cell\n",
       "var outputEl = gd.closest('.output');\n",
       "if (outputEl) {{\n",
       "    x.observe(outputEl, {childList: true});\n",
       "}}\n",
       "\n",
       "                        })                };                });            </script>        </div>"
      ]
     },
     "metadata": {},
     "output_type": "display_data"
    }
   ],
   "source": [
    "# with indicator\n",
    "# df = data\n",
    "# df['resistance'] = np.nan\n",
    "# df['support'] = np.nan\n",
    "# # plt.plot(df.index, df.Close)\n",
    "# # plt.show()\n",
    "# # ===== Calculate Channel ====\n",
    "# resistance(df)\n",
    "# support(df)\n",
    "# plot_df(df)\n",
    "# ===== PLOTLY =====\n",
    "import plotly.graph_objects as go\n",
    "fig = go.Figure(data=[go.Candlestick(x=df.index,\n",
    "                                    open=df['Open'],\n",
    "                                    high=df['High'],\n",
    "                                    low=df['Low'],\n",
    "                                    close=df['Close'],\n",
    "                                    increasing_line_color='green',\n",
    "                                    decreasing_line_color='red'),\n",
    "                                    go.Scatter(x=df.index, y=df['support'], line=dict(color=\"green\", width=3), name=\"SUPPORT\"),\n",
    "                                    go.Scatter(x=df.index, y=df['resistance'], line=dict(color='red', width=3), name=\"RESISTANCE\"),\n",
    "                                    go.Scatter(x=df.index, y=supports, mode=\"markers\", marker=dict(size=5, color=\"Orange\"), name=\"Buy\")])\n",
    "\n",
    "fig.update(layout_xaxis_rangeslider_visible=True)\n",
    "fig.update_layout(paper_bgcolor=\"black\", plot_bgcolor=\"black\", margin_l=0, margin_b=0, margin_r=0, margin_t=0)\n",
    "fig.update_xaxes(showline=True, linewidth=2, linecolor='white', gridcolor='white')\n",
    "fig.update_yaxes(showline=True, linewidth=2, linecolor='white', gridcolor='white')\n",
    "fig.show()"
   ]
  },
  {
   "attachments": {},
   "cell_type": "markdown",
   "metadata": {},
   "source": [
    "POLARS\n",
    "update row"
   ]
  }
 ],
 "metadata": {
  "kernelspec": {
   "display_name": "base",
   "language": "python",
   "name": "python3"
  },
  "language_info": {
   "codemirror_mode": {
    "name": "ipython",
    "version": 3
   },
   "file_extension": ".py",
   "mimetype": "text/x-python",
   "name": "python",
   "nbconvert_exporter": "python",
   "pygments_lexer": "ipython3",
   "version": "3.9.12"
  },
  "orig_nbformat": 4
 },
 "nbformat": 4,
 "nbformat_minor": 2
}
