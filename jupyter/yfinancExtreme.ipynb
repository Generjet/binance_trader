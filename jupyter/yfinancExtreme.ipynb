{
 "cells": [
  {
   "cell_type": "code",
   "execution_count": 418,
   "metadata": {},
   "outputs": [
    {
     "name": "stdout",
     "output_type": "stream",
     "text": [
      "[*********************100%***********************]  1 of 1 completed\n"
     ]
    }
   ],
   "source": [
    "import yfinance as yf\n",
    "import mplfinance as mpf\n",
    "import pandas as pd\n",
    "import numpy as np\n",
    "import matplotlib.pyplot as plt\n",
    "import plotly.graph_objects as go\n",
    "import polars as pl\n",
    "import datetime\n",
    "\n",
    "data = yf.download(tickers='BTC-USD', period='max', interval='1d')"
   ]
  },
  {
   "attachments": {},
   "cell_type": "markdown",
   "metadata": {},
   "source": [
    "SLOPE, INTERCEPTS and difference STEPS"
   ]
  },
  {
   "cell_type": "code",
   "execution_count": 367,
   "metadata": {},
   "outputs": [
    {
     "name": "stdout",
     "output_type": "stream",
     "text": [
      "descending\n",
      "difference =  6.9550018310546875\n",
      "range = 49\n",
      "diff =  0.14193881287866708\n"
     ]
    },
    {
     "data": {
      "text/plain": [
       "False"
      ]
     },
     "execution_count": 367,
     "metadata": {},
     "output_type": "execute_result"
    }
   ],
   "source": [
    "# 2 argument l avna\n",
    "def direction_and_steps(datapoints):\n",
    "    if datapoints.index[0] > datapoints.index[1]:\n",
    "        startIndex = datapoints.index[0]\n",
    "        endIndex = datapoints.index[1]\n",
    "    else:\n",
    "        startIndex = datapoints.index[1]\n",
    "        endIndex = datapoints.index[0]\n",
    "    a = datapoints.head(1)\n",
    "    b = datapoints.tail(1)\n",
    "    a_value = a[0]\n",
    "    b_value = b[0]\n",
    "    ascending = False\n",
    "\n",
    "# ========================\n",
    "    if b.index < a.index:\n",
    "        oldIndex = b.index\n",
    "        newIndex = a.index\n",
    "        if b_value > a_value:\n",
    "            max = b_value\n",
    "            min = a_value\n",
    "            ascending = False\n",
    "            print(\"descending\")\n",
    "        else:\n",
    "            max = a_value\n",
    "            min = b_value\n",
    "            ascending = True\n",
    "            print('ascending')\n",
    "    elif b.index > a.index:\n",
    "        oldIndex = a.index\n",
    "        newIndex = b.index\n",
    "        if b_value > a_value:\n",
    "            max = b_value\n",
    "            min = a_value\n",
    "            ascending = True\n",
    "            print('ascending')\n",
    "        else:\n",
    "            max = a_value\n",
    "            min = b_value\n",
    "            ascending = False\n",
    "            print('descending')\n",
    "\n",
    "    top_diff = max - min\n",
    "    print('difference = ', top_diff)\n",
    "    filtered = df[(df.index <= startIndex) & (df.index >= endIndex)]\n",
    "    numrange = len(filtered)\n",
    "    print('range =', numrange)\n",
    "    diff_step = top_diff/numrange\n",
    "    return diff_step, ascending\n",
    "\n",
    "resistance_points = resistances.sort_values(ascending=False).tail(2)\n",
    "\n",
    "diff_step, lineAscending = direction_and_steps(resistance_points)\n",
    "print('diff = ', diff_step)\n",
    "lineAscending"
   ]
  },
  {
   "attachments": {},
   "cell_type": "markdown",
   "metadata": {},
   "source": [
    "EXTREMUM hoorondiin data range easify"
   ]
  },
  {
   "cell_type": "code",
   "execution_count": 379,
   "metadata": {},
   "outputs": [
    {
     "name": "stdout",
     "output_type": "stream",
     "text": [
      "started=  2015-06-30 00:00:00\n",
      "ended = 2015-07-06 00:00:00\n"
     ]
    }
   ],
   "source": [
    "def start_end_ragne(datapoints):\n",
    "    if datapoints.index[1] > datapoints.index[0]:\n",
    "        startIndex = datapoints.index[0]\n",
    "        endIndex = datapoints.index[1]\n",
    "    else:\n",
    "        startIndex = datapoints.index[1]\n",
    "        endIndex = datapoints.index[0]\n",
    "    return startIndex, endIndex\n",
    "\n",
    "start, end = start_end_ragne(resistance_points)\n",
    "print(\"started= \", start)\n",
    "print('ended =', end)"
   ]
  },
  {
   "attachments": {},
   "cell_type": "markdown",
   "metadata": {},
   "source": [
    "RESISTANCE until NOW"
   ]
  },
  {
   "cell_type": "code",
   "execution_count": 396,
   "metadata": {},
   "outputs": [
    {
     "name": "stdout",
     "output_type": "stream",
     "text": [
      "Calculating resistance\n",
      "ascending\n",
      "difference =  9.55499267578125\n",
      "range = 7\n",
      "Ascending\n",
      "Resistance ascending True\n",
      "Diff points 1.3649989536830358\n"
     ]
    }
   ],
   "source": [
    "def resistance(df):\n",
    "    print(\"Calculating resistance\")\n",
    "    resistances = df[df.High == df.High.rolling(6, center=True).max()].High\n",
    "    resistance_points = resistances.sort_values(ascending=True).tail(2)\n",
    "\n",
    "    # resistance coefficients\n",
    "    diff_step, lineAscending = direction_and_steps(resistance_points)\n",
    "    start, end = start_end_ragne(resistance_points)\n",
    "    # today = df[(df.index > resistance_points.index[0])]\n",
    "    today = df[(df.index > start)]\n",
    "\n",
    "    x_values = []\n",
    "    y_values = []\n",
    "\n",
    "    y = resistance_points[0]\n",
    "    # today['resistance'] = np.nan\n",
    "\n",
    "    if lineAscending == True:\n",
    "        print(\"Ascending\")\n",
    "        for i in today.index:\n",
    "            y = y + diff_step\n",
    "            y_values.append(y)\n",
    "            x_values.append(i)\n",
    "            today.loc[today.index==i, 'resistance'] = y\n",
    "            df.loc[df.index==i, 'resistance'] = y\n",
    "    elif lineAscending == False:\n",
    "        for i in today.index:\n",
    "            y = y - diff_step\n",
    "            y_values.append(y)\n",
    "            x_values.append(i)\n",
    "            today.loc[today.index==i, 'resistance'] = y\n",
    "            df.loc[df.index==i, 'resistance'] = y\n",
    "        print(\"Descending\")\n",
    "\n",
    "    print(\"Resistance ascending\", lineAscending)\n",
    "    print(\"Diff points\", diff_step)\n",
    "    # y_values\n",
    "# ==== run test ====\n",
    "resistance(df)"
   ]
  },
  {
   "attachments": {},
   "cell_type": "markdown",
   "metadata": {},
   "source": [
    "SUPPORT"
   ]
  },
  {
   "cell_type": "code",
   "execution_count": 398,
   "metadata": {},
   "outputs": [
    {
     "name": "stdout",
     "output_type": "stream",
     "text": [
      "Calculating support\n",
      "descending\n",
      "difference =  1.449005126953125\n",
      "range = 13\n",
      "Descending\n",
      "Resistance ascending False\n",
      "Diff points 0.11146193284254807\n"
     ]
    }
   ],
   "source": [
    "def support(df):\n",
    "    print(\"Calculating support\")\n",
    "    supports = df[df.Low == df.Low.rolling(6, center=True).min()].Low\n",
    "    support_points = supports.sort_values(ascending=True).head(2)\n",
    "    # start_point\n",
    "    start, end = start_end_ragne(support_points)\n",
    "    support_today = df[(df.index > start)]\n",
    "    # support coefficients\n",
    "    diff_step, lineAscending = direction_and_steps(support_points)\n",
    "\n",
    "    numrange = len(support_today)\n",
    "    x_values = []\n",
    "    y_values = []\n",
    "\n",
    "    y = support_points[0]\n",
    "    # support_today['support'] = np.nan\n",
    "\n",
    "    if lineAscending == True:\n",
    "        print(\"Ascending\")\n",
    "        for i in support_today.index:\n",
    "            y = y + diff_step\n",
    "            y_values.append(y)\n",
    "            x_values.append(i)\n",
    "            support_today.loc[support_today.index==i, 'support'] = y\n",
    "            df.loc[df.index==i, 'support'] = y\n",
    "    elif lineAscending == False:\n",
    "        for i in support_today.index:\n",
    "            y = y - diff_step\n",
    "            y_values.append(y)\n",
    "            x_values.append(i)\n",
    "            support_today.loc[support_today.index==i, 'support'] = y\n",
    "            df.loc[df.index==i, 'support'] = y\n",
    "        print(\"Descending\")\n",
    "\n",
    "    print(\"Resistance ascending\", lineAscending)\n",
    "    print(\"Diff points\", diff_step)\n",
    "\n",
    "# run test\n",
    "support(df)"
   ]
  },
  {
   "attachments": {},
   "cell_type": "markdown",
   "metadata": {},
   "source": [
    "PLOTTING"
   ]
  },
  {
   "cell_type": "code",
   "execution_count": 432,
   "metadata": {},
   "outputs": [
    {
     "data": {
      "text/plain": [
       "'cryptochart_2023-07-04_00:07:18'"
      ]
     },
     "execution_count": 432,
     "metadata": {},
     "output_type": "execute_result"
    }
   ],
   "source": [
    "now = datetime.datetime.now().strftime(\"%Y-%m-%d_%H:%M:%S\")\n",
    "now\n",
    "save_name = \"cryptochart_\"+now\n",
    "save_name"
   ]
  },
  {
   "cell_type": "code",
   "execution_count": 450,
   "metadata": {},
   "outputs": [
    {
     "data": {
      "text/plain": [
       "Timestamp('2016-01-30 00:00:00')"
      ]
     },
     "execution_count": 450,
     "metadata": {},
     "output_type": "execute_result"
    }
   ],
   "source": [
    "df = data[500:600]\n",
    "startDate = df.index[0]\n",
    "endDate = df.index[-1]\n",
    "df.head(1).index[0]\n",
    "a = startDate.strftime(\"%Y-%m-%d\")\n",
    "a + '_saved_date_'\n",
    "# startDate"
   ]
  },
  {
   "cell_type": "code",
   "execution_count": 417,
   "metadata": {},
   "outputs": [
    {
     "name": "stdout",
     "output_type": "stream",
     "text": [
      "Calculating resistance\n",
      "descending\n",
      "difference =  6.589996337890625\n",
      "range = 11\n",
      "Descending\n",
      "Resistance ascending False\n",
      "Diff points 0.599090576171875\n",
      "Calculating support\n",
      "ascending\n",
      "difference =  12.10198974609375\n",
      "range = 14\n",
      "Ascending\n",
      "Resistance ascending True\n",
      "Diff points 0.8644278390066964\n"
     ]
    },
    {
     "name": "stderr",
     "output_type": "stream",
     "text": [
      "/tmp/ipykernel_3191/2036179808.py:2: SettingWithCopyWarning:\n",
      "\n",
      "\n",
      "A value is trying to be set on a copy of a slice from a DataFrame.\n",
      "Try using .loc[row_indexer,col_indexer] = value instead\n",
      "\n",
      "See the caveats in the documentation: https://pandas.pydata.org/pandas-docs/stable/user_guide/indexing.html#returning-a-view-versus-a-copy\n",
      "\n",
      "/tmp/ipykernel_3191/2036179808.py:3: SettingWithCopyWarning:\n",
      "\n",
      "\n",
      "A value is trying to be set on a copy of a slice from a DataFrame.\n",
      "Try using .loc[row_indexer,col_indexer] = value instead\n",
      "\n",
      "See the caveats in the documentation: https://pandas.pydata.org/pandas-docs/stable/user_guide/indexing.html#returning-a-view-versus-a-copy\n",
      "\n"
     ]
    },
    {
     "data": {
      "text/plain": [
       "[<matplotlib.lines.Line2D at 0x7fa340821280>]"
      ]
     },
     "execution_count": 417,
     "metadata": {},
     "output_type": "execute_result"
    },
    {
     "data": {
      "image/png": "[encoded data removed]",
      "text/plain": [
       "<Figure size 640x480 with 1 Axes>"
      ]
     },
     "metadata": {},
     "output_type": "display_data"
    }
   ],
   "source": [
    "df = data[500:600]\n",
    "df['resistance'] = np.nan\n",
    "df['support'] = np.nan\n",
    "# plt.plot(df.index, df.Close)\n",
    "# plt.show()\n",
    "# ===== Calculate Channel ====\n",
    "resistance(df)\n",
    "support(df)\n",
    "# ====== PLOTTING =========\n",
    "# MATPLOTLIB\n",
    "# clean_levels = levels[abs(levels.diff() > 0)]\n",
    "\n",
    "df.High.plot()\n",
    "df.Low.plot()\n",
    "df.Close.plot()\n",
    "# plt.hlines(clean_levels, xmin=clean_levels.index, xmax=clean_levels.index[-1], colors='red')\n",
    "\n",
    "plt.scatter(resistance_points.index, resistance_points, color='r')\n",
    "plt.scatter(support_points.index, support_points, color=\"g\")\n",
    "plt.plot(df.index, df['resistance'], color=\"r\")\n",
    "plt.plot(df.index, df['support'], color=\"g\")\n",
    "# plt.plot(today.index, y_values, color=\"y\")\n",
    "startDate = df.index[0]\n",
    "endDate = df.index[-1]"
   ]
  },
  {
   "attachments": {},
   "cell_type": "markdown",
   "metadata": {},
   "source": [
    "УРТ ХУГАЦААГААР ХАРАХ ХЭСЭГ"
   ]
  },
  {
   "cell_type": "code",
   "execution_count": 351,
   "metadata": {},
   "outputs": [
    {
     "data": {
      "application/vnd.plotly.v1+json": {
       "config": {
        "plotlyServerURL": "https://plot.ly"
       },
       "data": [
        {
         "close": [
          260.5979919433594,
          255.49200439453125,
          253.17999267578125,
          245.02200317382812,
          243.67599487304688,
          236.07200622558594,
          236.552001953125,
          236.1529998779297,
          224.58700561523438,
          219.15899658203125,
          223.83299255371094,
          228.572998046875,
          222.8820037841797,
          223.3560028076172,
          222.60000610351562,
          224.62600708007812,
          235.2689971923828,
          234.17599487304688,
          236.46200561523438,
          231.26800537109375,
          226.38999938964844,
          219.42999267578125,
          229.28599548339844,
          225.85499572753906,
          225.80799865722656,
          236.14500427246094,
          232.07899475097656,
          234.92999267578125,
          240.35800170898438,
          239.01800537109375,
          236.12100219726562,
          229.78199768066406,
          237.33399963378906,
          243.86300659179688,
          241.83200073242188,
          240.29600524902344,
          242.1580047607422,
          241.11199951171875,
          236.3769989013672,
          236.9290008544922,
          237.60499572753906,
          236.1529998779297,
          236.802001953125,
          233.1280059814453,
          231.94700622558594,
          234.01800537109375,
          235.343994140625,
          240.34800720214844,
          238.8719940185547,
          240.9530029296875,
          237.11000061035156,
          237.11599731445312,
          237.2830047607422,
          237.4080047607422,
          237.0959930419922,
          233.34500122070312,
          230.19000244140625,
          222.92599487304688,
          225.80299377441406,
          225.87399291992188,
          224.32400512695312,
          224.95199584960938,
          225.61900329589844,
          222.88099670410156,
          228.48899841308594,
          229.04800415039062,
          228.80299377441406,
          229.7050018310547,
          229.98199462890625,
          232.40199279785156,
          233.54299926757812,
          236.822998046875,
          250.89500427246094,
          249.28399658203125,
          249.0070037841797,
          244.6060028076172,
          245.21200561523438,
          243.94400024414062,
          246.99000549316406,
          244.29600524902344,
          240.51499938964844,
          242.7989959716797,
          243.593994140625,
          250.99000549316406,
          249.01100158691406,
          257.0639953613281,
          263.0719909667969,
          258.6210021972656,
          255.41200256347656,
          256.33599853515625,
          260.885986328125,
          271.9129943847656,
          269.0299987792969,
          266.2070007324219,
          270.7850036621094,
          269.2279968261719,
          284.8940124511719,
          293.114990234375,
          310.86700439453125,
          292.0539855957031
         ],
         "decreasing": {
          "line": {
           "color": "red"
          }
         },
         "high": [
          260.67498779296875,
          261.7980041503906,
          255.80499267578125,
          253.8470001220703,
          246.1179962158203,
          243.69400024414062,
          239.53700256347656,
          237.72799682617188,
          236.93499755859375,
          224.9759979248047,
          223.83299255371094,
          229.6719970703125,
          228.906005859375,
          224.3159942626953,
          226.35299682617188,
          226.3509979248047,
          235.2689971923828,
          237.90899658203125,
          236.47500610351562,
          236.30499267578125,
          232.56100463867188,
          226.94400024414062,
          233.30499267578125,
          229.4949951171875,
          227.0399932861328,
          239.56300354003906,
          238.96600341796875,
          235.7270050048828,
          243.24000549316406,
          242.63800048828125,
          239.20399475097656,
          236.45399475097656,
          239.10499572753906,
          246.27499389648438,
          247.8040008544922,
          244.0679931640625,
          244.27000427246094,
          242.88099670410156,
          243.70399475097656,
          237.7989959716797,
          238.7530059814453,
          237.69700622558594,
          238.02499389648438,
          237.2100067138672,
          234.1510009765625,
          234.68299865722656,
          236.24200439453125,
          240.968994140625,
          241.02499389648438,
          241.97799682617188,
          241.02099609375,
          238.24200439453125,
          238.63600158691406,
          237.82400512695312,
          237.52200317382812,
          237.09300231933594,
          233.2519989013672,
          231.71299743652344,
          226.41600036621094,
          227.4040069580078,
          226.58099365234375,
          225.96800231933594,
          225.718994140625,
          226.19400024414062,
          229.46400451660156,
          230.95399475097656,
          229.78199768066406,
          230.28700256347656,
          231.0570068359375,
          232.65199279785156,
          234.85800170898438,
          237.83599853515625,
          251.74200439453125,
          256.8529968261719,
          252.10800170898438,
          250.9770050048828,
          245.8280029296875,
          245.2239990234375,
          247.91700744628906,
          247.3040008544922,
          244.34100341796875,
          243.33200073242188,
          243.74899291992188,
          251.33900451660156,
          251.1719970703125,
          257.1730041503906,
          267.86700439453125,
          265.1719970703125,
          261.6310119628906,
          257.0769958496094,
          261.4570007324219,
          274.5060119628906,
          277.4219970703125,
          271.34100341796875,
          272.97100830078125,
          272.3349914550781,
          294.59100341796875,
          298.5060119628906,
          314.3940124511719,
          310.947998046875
         ],
         "increasing": {
          "line": {
           "color": "green"
          }
         },
         "low": [
          251.94200134277344,
          254.5749969482422,
          252.2050018310547,
          244.21499633789062,
          239.39999389648438,
          232.77099609375,
          234.1750030517578,
          233.4949951171875,
          221.99600219726562,
          216.322998046875,
          218.6490020751953,
          223.91700744628906,
          221.94200134277344,
          220.87600708007812,
          222.3730010986328,
          221.9770050048828,
          224.30099487304688,
          233.4759979248047,
          233.19900512695312,
          229.93299865722656,
          226.33700561523438,
          214.87399291992188,
          218.0229949951172,
          223.06900024414062,
          223.42999267578125,
          224.9929962158203,
          232.07899475097656,
          232.34100341796875,
          234.08299255371094,
          237.80999755859375,
          232.0540008544922,
          229.2310028076172,
          228.572998046875,
          236.2740020751953,
          239.63900756835938,
          238.8489990234375,
          239.37600708007812,
          240.0989990234375,
          235.0449981689453,
          234.0570068359375,
          236.7949981689453,
          235.2949981689453,
          236.00999450683594,
          232.4600067138672,
          231.81700134277344,
          231.8419952392578,
          233.8350067138672,
          235.05999755859375,
          238.6909942626953,
          238.81100463867188,
          236.63699340820312,
          235.69200134277344,
          236.69500732421875,
          236.65199279785156,
          235.7310028076172,
          232.04600524902344,
          229.54200744628906,
          221.29600524902344,
          222.41900634765625,
          223.92999267578125,
          224.0540008544922,
          223.1790008544922,
          224.37899780273438,
          222.65199279785156,
          222.83900451660156,
          227.9290008544922,
          228.00999450683594,
          228.76699829101562,
          229.31300354003906,
          229.2100067138672,
          232.00399780273438,
          233.4219970703125,
          236.1219940185547,
          246.4759979248047,
          244.1269989013672,
          243.78700256347656,
          240.6269989013672,
          241.8820037841797,
          243.7790069580078,
          243.13299560546875,
          240.51499938964844,
          240.36500549316406,
          241.55299377441406,
          243.11700439453125,
          247.4340057373047,
          248.58099365234375,
          255.9459991455078,
          255.7740020751953,
          254.11599731445312,
          253.5050048828125,
          254.1999969482422,
          258.70098876953125,
          267.6000061035156,
          264.8320007324219,
          264.385986328125,
          267.08599853515625,
          268.802001953125,
          283.5299987792969,
          292.5050048828125,
          281.010986328125
         ],
         "open": [
          253.76100158691406,
          260.72100830078125,
          255.2740020751953,
          253.06399536132812,
          244.75100708007812,
          243.69400024414062,
          236.01600646972656,
          236.53500366210938,
          235.9499969482422,
          224.75900268554688,
          219.072998046875,
          223.91700744628906,
          228.5749969482422,
          222.85299682617188,
          223.45599365234375,
          222.61199951171875,
          224.6199951171875,
          235.6020050048828,
          234.05299377441406,
          235.97000122070312,
          231.23500061035156,
          226.41000366210938,
          219.4290008544922,
          228.968994140625,
          225.59100341796875,
          225.6929931640625,
          235.93899536132812,
          232.34100341796875,
          234.8800048828125,
          240.3560028076172,
          238.8520050048828,
          236.24899291992188,
          229.66200256347656,
          237.20399475097656,
          243.7689971923828,
          241.72900390625,
          240.2989959716797,
          242.14500427246094,
          241.3979949951172,
          236.21400451660156,
          236.9550018310547,
          237.6439971923828,
          236.00999450683594,
          236.88699340820312,
          233.03700256347656,
          231.88999938964844,
          234.01600646972656,
          235.3209991455078,
          240.28599548339844,
          238.9759979248047,
          240.927001953125,
          237.10400390625,
          237.06500244140625,
          237.2570037841797,
          237.3769989013672,
          237.0919952392578,
          233.13499450683594,
          230.23300170898438,
          222.8939971923828,
          225.73599243164062,
          225.77200317382812,
          224.1540069580078,
          225.0050048828125,
          225.5959930419922,
          222.87899780273438,
          228.53799438476562,
          228.9949951171875,
          228.85499572753906,
          229.7050018310547,
          229.9199981689453,
          232.44200134277344,
          233.4219970703125,
          236.76499938964844,
          250.822998046875,
          249.42799377441406,
          249.04299926757812,
          244.52999877929688,
          245.10000610351562,
          243.968994140625,
          246.927001953125,
          244.28199768066406,
          240.36500549316406,
          242.60400390625,
          243.5489959716797,
          250.9550018310547,
          248.7209930419922,
          257.0360107421875,
          263.3450012207031,
          258.552001953125,
          255.45899963378906,
          256.4909973144531,
          260.80499267578125,
          271.1080017089844,
          269.9630126953125,
          265.98199462890625,
          270.8269958496094,
          269.156005859375,
          284.8800048828125,
          293.1400146484375,
          310.8269958496094
         ],
         "type": "candlestick",
         "x": [
          "2015-04-05T00:00:00",
          "2015-04-06T00:00:00",
          "2015-04-07T00:00:00",
          "2015-04-08T00:00:00",
          "2015-04-09T00:00:00",
          "2015-04-10T00:00:00",
          "2015-04-11T00:00:00",
          "2015-04-12T00:00:00",
          "2015-04-13T00:00:00",
          "2015-04-14T00:00:00",
          "2015-04-15T00:00:00",
          "2015-04-16T00:00:00",
          "2015-04-17T00:00:00",
          "2015-04-18T00:00:00",
          "2015-04-19T00:00:00",
          "2015-04-20T00:00:00",
          "2015-04-21T00:00:00",
          "2015-04-22T00:00:00",
          "2015-04-23T00:00:00",
          "2015-04-24T00:00:00",
          "2015-04-25T00:00:00",
          "2015-04-26T00:00:00",
          "2015-04-27T00:00:00",
          "2015-04-28T00:00:00",
          "2015-04-29T00:00:00",
          "2015-04-30T00:00:00",
          "2015-05-01T00:00:00",
          "2015-05-02T00:00:00",
          "2015-05-03T00:00:00",
          "2015-05-04T00:00:00",
          "2015-05-05T00:00:00",
          "2015-05-06T00:00:00",
          "2015-05-07T00:00:00",
          "2015-05-08T00:00:00",
          "2015-05-09T00:00:00",
          "2015-05-10T00:00:00",
          "2015-05-11T00:00:00",
          "2015-05-12T00:00:00",
          "2015-05-13T00:00:00",
          "2015-05-14T00:00:00",
          "2015-05-15T00:00:00",
          "2015-05-16T00:00:00",
          "2015-05-17T00:00:00",
          "2015-05-18T00:00:00",
          "2015-05-19T00:00:00",
          "2015-05-20T00:00:00",
          "2015-05-21T00:00:00",
          "2015-05-22T00:00:00",
          "2015-05-23T00:00:00",
          "2015-05-24T00:00:00",
          "2015-05-25T00:00:00",
          "2015-05-26T00:00:00",
          "2015-05-27T00:00:00",
          "2015-05-28T00:00:00",
          "2015-05-29T00:00:00",
          "2015-05-30T00:00:00",
          "2015-05-31T00:00:00",
          "2015-06-01T00:00:00",
          "2015-06-02T00:00:00",
          "2015-06-03T00:00:00",
          "2015-06-04T00:00:00",
          "2015-06-05T00:00:00",
          "2015-06-06T00:00:00",
          "2015-06-07T00:00:00",
          "2015-06-08T00:00:00",
          "2015-06-09T00:00:00",
          "2015-06-10T00:00:00",
          "2015-06-11T00:00:00",
          "2015-06-12T00:00:00",
          "2015-06-13T00:00:00",
          "2015-06-14T00:00:00",
          "2015-06-15T00:00:00",
          "2015-06-16T00:00:00",
          "2015-06-17T00:00:00",
          "2015-06-18T00:00:00",
          "2015-06-19T00:00:00",
          "2015-06-20T00:00:00",
          "2015-06-21T00:00:00",
          "2015-06-22T00:00:00",
          "2015-06-23T00:00:00",
          "2015-06-24T00:00:00",
          "2015-06-25T00:00:00",
          "2015-06-26T00:00:00",
          "2015-06-27T00:00:00",
          "2015-06-28T00:00:00",
          "2015-06-29T00:00:00",
          "2015-06-30T00:00:00",
          "2015-07-01T00:00:00",
          "2015-07-02T00:00:00",
          "2015-07-03T00:00:00",
          "2015-07-04T00:00:00",
          "2015-07-05T00:00:00",
          "2015-07-06T00:00:00",
          "2015-07-07T00:00:00",
          "2015-07-08T00:00:00",
          "2015-07-09T00:00:00",
          "2015-07-10T00:00:00",
          "2015-07-11T00:00:00",
          "2015-07-12T00:00:00",
          "2015-07-13T00:00:00"
         ]
        },
        {
         "line": {
          "color": "green",
          "width": 3
         },
         "name": "SUPPORT",
         "type": "scatter",
         "x": [
          "2015-04-27T00:00:00",
          "2015-04-28T00:00:00",
          "2015-04-29T00:00:00",
          "2015-04-30T00:00:00",
          "2015-05-01T00:00:00",
          "2015-05-02T00:00:00",
          "2015-05-03T00:00:00",
          "2015-05-04T00:00:00",
          "2015-05-05T00:00:00",
          "2015-05-06T00:00:00",
          "2015-05-07T00:00:00",
          "2015-05-08T00:00:00",
          "2015-05-09T00:00:00",
          "2015-05-10T00:00:00",
          "2015-05-11T00:00:00",
          "2015-05-12T00:00:00",
          "2015-05-13T00:00:00",
          "2015-05-14T00:00:00",
          "2015-05-15T00:00:00",
          "2015-05-16T00:00:00",
          "2015-05-17T00:00:00",
          "2015-05-18T00:00:00",
          "2015-05-19T00:00:00",
          "2015-05-20T00:00:00",
          "2015-05-21T00:00:00",
          "2015-05-22T00:00:00",
          "2015-05-23T00:00:00",
          "2015-05-24T00:00:00",
          "2015-05-25T00:00:00",
          "2015-05-26T00:00:00",
          "2015-05-27T00:00:00",
          "2015-05-28T00:00:00",
          "2015-05-29T00:00:00",
          "2015-05-30T00:00:00",
          "2015-05-31T00:00:00",
          "2015-06-01T00:00:00",
          "2015-06-02T00:00:00",
          "2015-06-03T00:00:00",
          "2015-06-04T00:00:00",
          "2015-06-05T00:00:00",
          "2015-06-06T00:00:00",
          "2015-06-07T00:00:00",
          "2015-06-08T00:00:00",
          "2015-06-09T00:00:00",
          "2015-06-10T00:00:00",
          "2015-06-11T00:00:00",
          "2015-06-12T00:00:00",
          "2015-06-13T00:00:00",
          "2015-06-14T00:00:00",
          "2015-06-15T00:00:00",
          "2015-06-16T00:00:00",
          "2015-06-17T00:00:00",
          "2015-06-18T00:00:00",
          "2015-06-19T00:00:00",
          "2015-06-20T00:00:00",
          "2015-06-21T00:00:00",
          "2015-06-22T00:00:00",
          "2015-06-23T00:00:00",
          "2015-06-24T00:00:00",
          "2015-06-25T00:00:00",
          "2015-06-26T00:00:00",
          "2015-06-27T00:00:00",
          "2015-06-28T00:00:00",
          "2015-06-29T00:00:00",
          "2015-06-30T00:00:00",
          "2015-07-01T00:00:00",
          "2015-07-02T00:00:00",
          "2015-07-03T00:00:00",
          "2015-07-04T00:00:00",
          "2015-07-05T00:00:00",
          "2015-07-06T00:00:00",
          "2015-07-07T00:00:00",
          "2015-07-08T00:00:00",
          "2015-07-09T00:00:00",
          "2015-07-10T00:00:00",
          "2015-07-11T00:00:00",
          "2015-07-12T00:00:00",
          "2015-07-13T00:00:00"
         ],
         "y": [
          214.76253098707932,
          214.65106905423676,
          214.5396071213942,
          214.42814518855164,
          214.31668325570908,
          214.20522132286652,
          214.09375939002396,
          213.9822974571814,
          213.87083552433884,
          213.75937359149628,
          213.64791165865373,
          213.53644972581117,
          213.4249877929686,
          213.31352586012605,
          213.2020639272835,
          213.09060199444093,
          212.97914006159837,
          212.8676781287558,
          212.75621619591325,
          212.6447542630707,
          212.53329233022814,
          212.42183039738558,
          212.31036846454302,
          212.19890653170046,
          212.0874445988579,
          211.97598266601534,
          211.86452073317278,
          211.75305880033022,
          211.64159686748766,
          211.5301349346451,
          211.41867300180255,
          211.30721106896,
          211.19574913611743,
          211.08428720327487,
          210.9728252704323,
          210.86136333758975,
          210.7499014047472,
          210.63843947190463,
          210.52697753906207,
          210.41551560621951,
          210.30405367337696,
          210.1925917405344,
          210.08112980769184,
          209.96966787484928,
          209.85820594200672,
          209.74674400916416,
          209.6352820763216,
          209.52382014347904,
          209.41235821063648,
          209.30089627779392,
          209.18943434495137,
          209.0779724121088,
          208.96651047926625,
          208.8550485464237,
          208.74358661358113,
          208.63212468073857,
          208.520662747896,
          208.40920081505345,
          208.2977388822109,
          208.18627694936833,
          208.07481501652578,
          207.96335308368322,
          207.85189115084066,
          207.7404292179981,
          207.62896728515554,
          207.51750535231298,
          207.40604341947042,
          207.29458148662786,
          207.1831195537853,
          207.07165762094274,
          206.96019568810019,
          206.84873375525763,
          206.73727182241507,
          206.6258098895725,
          206.51434795672995,
          206.4028860238874,
          206.29142409104483,
          206.17996215820227
         ]
        },
        {
         "line": {
          "color": "red",
          "width": 3
         },
         "name": "RESISTANCE",
         "type": "scatter",
         "x": [
          "2015-07-01T00:00:00",
          "2015-07-02T00:00:00",
          "2015-07-03T00:00:00",
          "2015-07-04T00:00:00",
          "2015-07-05T00:00:00",
          "2015-07-06T00:00:00",
          "2015-07-07T00:00:00",
          "2015-07-08T00:00:00",
          "2015-07-09T00:00:00",
          "2015-07-10T00:00:00",
          "2015-07-11T00:00:00",
          "2015-07-12T00:00:00",
          "2015-07-13T00:00:00"
         ],
         "y": [
          269.2320033482143,
          270.5970023018973,
          271.96200125558033,
          273.32700020926336,
          274.6919991629464,
          276.0569981166294,
          277.42199707031244,
          278.78699602399547,
          280.1519949776785,
          281.5169939313615,
          282.88199288504455,
          284.2469918387276,
          285.6119907924106
         ]
        },
        {
         "marker": {
          "color": "Orange",
          "size": 5
         },
         "mode": "markers",
         "name": "Buy",
         "type": "scatter",
         "x": [
          "2015-04-05T00:00:00",
          "2015-04-06T00:00:00",
          "2015-04-07T00:00:00",
          "2015-04-08T00:00:00",
          "2015-04-09T00:00:00",
          "2015-04-10T00:00:00",
          "2015-04-11T00:00:00",
          "2015-04-12T00:00:00",
          "2015-04-13T00:00:00",
          "2015-04-14T00:00:00",
          "2015-04-15T00:00:00",
          "2015-04-16T00:00:00",
          "2015-04-17T00:00:00",
          "2015-04-18T00:00:00",
          "2015-04-19T00:00:00",
          "2015-04-20T00:00:00",
          "2015-04-21T00:00:00",
          "2015-04-22T00:00:00",
          "2015-04-23T00:00:00",
          "2015-04-24T00:00:00",
          "2015-04-25T00:00:00",
          "2015-04-26T00:00:00",
          "2015-04-27T00:00:00",
          "2015-04-28T00:00:00",
          "2015-04-29T00:00:00",
          "2015-04-30T00:00:00",
          "2015-05-01T00:00:00",
          "2015-05-02T00:00:00",
          "2015-05-03T00:00:00",
          "2015-05-04T00:00:00",
          "2015-05-05T00:00:00",
          "2015-05-06T00:00:00",
          "2015-05-07T00:00:00",
          "2015-05-08T00:00:00",
          "2015-05-09T00:00:00",
          "2015-05-10T00:00:00",
          "2015-05-11T00:00:00",
          "2015-05-12T00:00:00",
          "2015-05-13T00:00:00",
          "2015-05-14T00:00:00",
          "2015-05-15T00:00:00",
          "2015-05-16T00:00:00",
          "2015-05-17T00:00:00",
          "2015-05-18T00:00:00",
          "2015-05-19T00:00:00",
          "2015-05-20T00:00:00",
          "2015-05-21T00:00:00",
          "2015-05-22T00:00:00",
          "2015-05-23T00:00:00",
          "2015-05-24T00:00:00",
          "2015-05-25T00:00:00",
          "2015-05-26T00:00:00",
          "2015-05-27T00:00:00",
          "2015-05-28T00:00:00",
          "2015-05-29T00:00:00",
          "2015-05-30T00:00:00",
          "2015-05-31T00:00:00",
          "2015-06-01T00:00:00",
          "2015-06-02T00:00:00",
          "2015-06-03T00:00:00",
          "2015-06-04T00:00:00",
          "2015-06-05T00:00:00",
          "2015-06-06T00:00:00",
          "2015-06-07T00:00:00",
          "2015-06-08T00:00:00",
          "2015-06-09T00:00:00",
          "2015-06-10T00:00:00",
          "2015-06-11T00:00:00",
          "2015-06-12T00:00:00",
          "2015-06-13T00:00:00",
          "2015-06-14T00:00:00",
          "2015-06-15T00:00:00",
          "2015-06-16T00:00:00",
          "2015-06-17T00:00:00",
          "2015-06-18T00:00:00",
          "2015-06-19T00:00:00",
          "2015-06-20T00:00:00",
          "2015-06-21T00:00:00",
          "2015-06-22T00:00:00",
          "2015-06-23T00:00:00",
          "2015-06-24T00:00:00",
          "2015-06-25T00:00:00",
          "2015-06-26T00:00:00",
          "2015-06-27T00:00:00",
          "2015-06-28T00:00:00",
          "2015-06-29T00:00:00",
          "2015-06-30T00:00:00",
          "2015-07-01T00:00:00",
          "2015-07-02T00:00:00",
          "2015-07-03T00:00:00",
          "2015-07-04T00:00:00",
          "2015-07-05T00:00:00",
          "2015-07-06T00:00:00",
          "2015-07-07T00:00:00",
          "2015-07-08T00:00:00",
          "2015-07-09T00:00:00",
          "2015-07-10T00:00:00",
          "2015-07-11T00:00:00",
          "2015-07-12T00:00:00",
          "2015-07-13T00:00:00"
         ],
         "y": [
          232.77099609375,
          216.322998046875,
          214.87399291992188,
          228.572998046875,
          234.0570068359375,
          231.81700134277344,
          235.69200134277344,
          221.29600524902344,
          222.65199279785156,
          240.6269989013672,
          240.36500549316406,
          253.5050048828125
         ]
        }
       ],
       "layout": {
        "margin": {
         "b": 0,
         "l": 0,
         "r": 0,
         "t": 0
        },
        "paper_bgcolor": "black",
        "plot_bgcolor": "black",
        "template": {
         "data": {
          "bar": [
           {
            "error_x": {
             "color": "#2a3f5f"
            },
            "error_y": {
             "color": "#2a3f5f"
            },
            "marker": {
             "line": {
              "color": "#E5ECF6",
              "width": 0.5
             },
             "pattern": {
              "fillmode": "overlay",
              "size": 10,
              "solidity": 0.2
             }
            },
            "type": "bar"
           }
          ],
          "barpolar": [
           {
            "marker": {
             "line": {
              "color": "#E5ECF6",
              "width": 0.5
             },
             "pattern": {
              "fillmode": "overlay",
              "size": 10,
              "solidity": 0.2
             }
            },
            "type": "barpolar"
           }
          ],
          "carpet": [
           {
            "aaxis": {
             "endlinecolor": "#2a3f5f",
             "gridcolor": "white",
             "linecolor": "white",
             "minorgridcolor": "white",
             "startlinecolor": "#2a3f5f"
            },
            "baxis": {
             "endlinecolor": "#2a3f5f",
             "gridcolor": "white",
             "linecolor": "white",
             "minorgridcolor": "white",
             "startlinecolor": "#2a3f5f"
            },
            "type": "carpet"
           }
          ],
          "choropleth": [
           {
            "colorbar": {
             "outlinewidth": 0,
             "ticks": ""
            },
            "type": "choropleth"
           }
          ],
          "contour": [
           {
            "colorbar": {
             "outlinewidth": 0,
             "ticks": ""
            },
            "colorscale": [
             [
              0,
              "#0d0887"
             ],
             [
              0.1111111111111111,
              "#46039f"
             ],
             [
              0.2222222222222222,
              "#7201a8"
             ],
             [
              0.3333333333333333,
              "#9c179e"
             ],
             [
              0.4444444444444444,
              "#bd3786"
             ],
             [
              0.5555555555555556,
              "#d8576b"
             ],
             [
              0.6666666666666666,
              "#ed7953"
             ],
             [
              0.7777777777777778,
              "#fb9f3a"
             ],
             [
              0.8888888888888888,
              "#fdca26"
             ],
             [
              1,
              "#f0f921"
             ]
            ],
            "type": "contour"
           }
          ],
          "contourcarpet": [
           {
            "colorbar": {
             "outlinewidth": 0,
             "ticks": ""
            },
            "type": "contourcarpet"
           }
          ],
          "heatmap": [
           {
            "colorbar": {
             "outlinewidth": 0,
             "ticks": ""
            },
            "colorscale": [
             [
              0,
              "#0d0887"
             ],
             [
              0.1111111111111111,
              "#46039f"
             ],
             [
              0.2222222222222222,
              "#7201a8"
             ],
             [
              0.3333333333333333,
              "#9c179e"
             ],
             [
              0.4444444444444444,
              "#bd3786"
             ],
             [
              0.5555555555555556,
              "#d8576b"
             ],
             [
              0.6666666666666666,
              "#ed7953"
             ],
             [
              0.7777777777777778,
              "#fb9f3a"
             ],
             [
              0.8888888888888888,
              "#fdca26"
             ],
             [
              1,
              "#f0f921"
             ]
            ],
            "type": "heatmap"
           }
          ],
          "heatmapgl": [
           {
            "colorbar": {
             "outlinewidth": 0,
             "ticks": ""
            },
            "colorscale": [
             [
              0,
              "#0d0887"
             ],
             [
              0.1111111111111111,
              "#46039f"
             ],
             [
              0.2222222222222222,
              "#7201a8"
             ],
             [
              0.3333333333333333,
              "#9c179e"
             ],
             [
              0.4444444444444444,
              "#bd3786"
             ],
             [
              0.5555555555555556,
              "#d8576b"
             ],
             [
              0.6666666666666666,
              "#ed7953"
             ],
             [
              0.7777777777777778,
              "#fb9f3a"
             ],
             [
              0.8888888888888888,
              "#fdca26"
             ],
             [
              1,
              "#f0f921"
             ]
            ],
            "type": "heatmapgl"
           }
          ],
          "histogram": [
           {
            "marker": {
             "pattern": {
              "fillmode": "overlay",
              "size": 10,
              "solidity": 0.2
             }
            },
            "type": "histogram"
           }
          ],
          "histogram2d": [
           {
            "colorbar": {
             "outlinewidth": 0,
             "ticks": ""
            },
            "colorscale": [
             [
              0,
              "#0d0887"
             ],
             [
              0.1111111111111111,
              "#46039f"
             ],
             [
              0.2222222222222222,
              "#7201a8"
             ],
             [
              0.3333333333333333,
              "#9c179e"
             ],
             [
              0.4444444444444444,
              "#bd3786"
             ],
             [
              0.5555555555555556,
              "#d8576b"
             ],
             [
              0.6666666666666666,
              "#ed7953"
             ],
             [
              0.7777777777777778,
              "#fb9f3a"
             ],
             [
              0.8888888888888888,
              "#fdca26"
             ],
             [
              1,
              "#f0f921"
             ]
            ],
            "type": "histogram2d"
           }
          ],
          "histogram2dcontour": [
           {
            "colorbar": {
             "outlinewidth": 0,
             "ticks": ""
            },
            "colorscale": [
             [
              0,
              "#0d0887"
             ],
             [
              0.1111111111111111,
              "#46039f"
             ],
             [
              0.2222222222222222,
              "#7201a8"
             ],
             [
              0.3333333333333333,
              "#9c179e"
             ],
             [
              0.4444444444444444,
              "#bd3786"
             ],
             [
              0.5555555555555556,
              "#d8576b"
             ],
             [
              0.6666666666666666,
              "#ed7953"
             ],
             [
              0.7777777777777778,
              "#fb9f3a"
             ],
             [
              0.8888888888888888,
              "#fdca26"
             ],
             [
              1,
              "#f0f921"
             ]
            ],
            "type": "histogram2dcontour"
           }
          ],
          "mesh3d": [
           {
            "colorbar": {
             "outlinewidth": 0,
             "ticks": ""
            },
            "type": "mesh3d"
           }
          ],
          "parcoords": [
           {
            "line": {
             "colorbar": {
              "outlinewidth": 0,
              "ticks": ""
             }
            },
            "type": "parcoords"
           }
          ],
          "pie": [
           {
            "automargin": true,
            "type": "pie"
           }
          ],
          "scatter": [
           {
            "fillpattern": {
             "fillmode": "overlay",
             "size": 10,
             "solidity": 0.2
            },
            "type": "scatter"
           }
          ],
          "scatter3d": [
           {
            "line": {
             "colorbar": {
              "outlinewidth": 0,
              "ticks": ""
             }
            },
            "marker": {
             "colorbar": {
              "outlinewidth": 0,
              "ticks": ""
             }
            },
            "type": "scatter3d"
           }
          ],
          "scattercarpet": [
           {
            "marker": {
             "colorbar": {
              "outlinewidth": 0,
              "ticks": ""
             }
            },
            "type": "scattercarpet"
           }
          ],
          "scattergeo": [
           {
            "marker": {
             "colorbar": {
              "outlinewidth": 0,
              "ticks": ""
             }
            },
            "type": "scattergeo"
           }
          ],
          "scattergl": [
           {
            "marker": {
             "colorbar": {
              "outlinewidth": 0,
              "ticks": ""
             }
            },
            "type": "scattergl"
           }
          ],
          "scattermapbox": [
           {
            "marker": {
             "colorbar": {
              "outlinewidth": 0,
              "ticks": ""
             }
            },
            "type": "scattermapbox"
           }
          ],
          "scatterpolar": [
           {
            "marker": {
             "colorbar": {
              "outlinewidth": 0,
              "ticks": ""
             }
            },
            "type": "scatterpolar"
           }
          ],
          "scatterpolargl": [
           {
            "marker": {
             "colorbar": {
              "outlinewidth": 0,
              "ticks": ""
             }
            },
            "type": "scatterpolargl"
           }
          ],
          "scatterternary": [
           {
            "marker": {
             "colorbar": {
              "outlinewidth": 0,
              "ticks": ""
             }
            },
            "type": "scatterternary"
           }
          ],
          "surface": [
           {
            "colorbar": {
             "outlinewidth": 0,
             "ticks": ""
            },
            "colorscale": [
             [
              0,
              "#0d0887"
             ],
             [
              0.1111111111111111,
              "#46039f"
             ],
             [
              0.2222222222222222,
              "#7201a8"
             ],
             [
              0.3333333333333333,
              "#9c179e"
             ],
             [
              0.4444444444444444,
              "#bd3786"
             ],
             [
              0.5555555555555556,
              "#d8576b"
             ],
             [
              0.6666666666666666,
              "#ed7953"
             ],
             [
              0.7777777777777778,
              "#fb9f3a"
             ],
             [
              0.8888888888888888,
              "#fdca26"
             ],
             [
              1,
              "#f0f921"
             ]
            ],
            "type": "surface"
           }
          ],
          "table": [
           {
            "cells": {
             "fill": {
              "color": "#EBF0F8"
             },
             "line": {
              "color": "white"
             }
            },
            "header": {
             "fill": {
              "color": "#C8D4E3"
             },
             "line": {
              "color": "white"
             }
            },
            "type": "table"
           }
          ]
         },
         "layout": {
          "annotationdefaults": {
           "arrowcolor": "#2a3f5f",
           "arrowhead": 0,
           "arrowwidth": 1
          },
          "autotypenumbers": "strict",
          "coloraxis": {
           "colorbar": {
            "outlinewidth": 0,
            "ticks": ""
           }
          },
          "colorscale": {
           "diverging": [
            [
             0,
             "#8e0152"
            ],
            [
             0.1,
             "#c51b7d"
            ],
            [
             0.2,
             "#de77ae"
            ],
            [
             0.3,
             "#f1b6da"
            ],
            [
             0.4,
             "#fde0ef"
            ],
            [
             0.5,
             "#f7f7f7"
            ],
            [
             0.6,
             "#e6f5d0"
            ],
            [
             0.7,
             "#b8e186"
            ],
            [
             0.8,
             "#7fbc41"
            ],
            [
             0.9,
             "#4d9221"
            ],
            [
             1,
             "#276419"
            ]
           ],
           "sequential": [
            [
             0,
             "#0d0887"
            ],
            [
             0.1111111111111111,
             "#46039f"
            ],
            [
             0.2222222222222222,
             "#7201a8"
            ],
            [
             0.3333333333333333,
             "#9c179e"
            ],
            [
             0.4444444444444444,
             "#bd3786"
            ],
            [
             0.5555555555555556,
             "#d8576b"
            ],
            [
             0.6666666666666666,
             "#ed7953"
            ],
            [
             0.7777777777777778,
             "#fb9f3a"
            ],
            [
             0.8888888888888888,
             "#fdca26"
            ],
            [
             1,
             "#f0f921"
            ]
           ],
           "sequentialminus": [
            [
             0,
             "#0d0887"
            ],
            [
             0.1111111111111111,
             "#46039f"
            ],
            [
             0.2222222222222222,
             "#7201a8"
            ],
            [
             0.3333333333333333,
             "#9c179e"
            ],
            [
             0.4444444444444444,
             "#bd3786"
            ],
            [
             0.5555555555555556,
             "#d8576b"
            ],
            [
             0.6666666666666666,
             "#ed7953"
            ],
            [
             0.7777777777777778,
             "#fb9f3a"
            ],
            [
             0.8888888888888888,
             "#fdca26"
            ],
            [
             1,
             "#f0f921"
            ]
           ]
          },
          "colorway": [
           "#636efa",
           "#EF553B",
           "#00cc96",
           "#ab63fa",
           "#FFA15A",
           "#19d3f3",
           "#FF6692",
           "#B6E880",
           "#FF97FF",
           "#FECB52"
          ],
          "font": {
           "color": "#2a3f5f"
          },
          "geo": {
           "bgcolor": "white",
           "lakecolor": "white",
           "landcolor": "#E5ECF6",
           "showlakes": true,
           "showland": true,
           "subunitcolor": "white"
          },
          "hoverlabel": {
           "align": "left"
          },
          "hovermode": "closest",
          "mapbox": {
           "style": "light"
          },
          "paper_bgcolor": "white",
          "plot_bgcolor": "#E5ECF6",
          "polar": {
           "angularaxis": {
            "gridcolor": "white",
            "linecolor": "white",
            "ticks": ""
           },
           "bgcolor": "#E5ECF6",
           "radialaxis": {
            "gridcolor": "white",
            "linecolor": "white",
            "ticks": ""
           }
          },
          "scene": {
           "xaxis": {
            "backgroundcolor": "#E5ECF6",
            "gridcolor": "white",
            "gridwidth": 2,
            "linecolor": "white",
            "showbackground": true,
            "ticks": "",
            "zerolinecolor": "white"
           },
           "yaxis": {
            "backgroundcolor": "#E5ECF6",
            "gridcolor": "white",
            "gridwidth": 2,
            "linecolor": "white",
            "showbackground": true,
            "ticks": "",
            "zerolinecolor": "white"
           },
           "zaxis": {
            "backgroundcolor": "#E5ECF6",
            "gridcolor": "white",
            "gridwidth": 2,
            "linecolor": "white",
            "showbackground": true,
            "ticks": "",
            "zerolinecolor": "white"
           }
          },
          "shapedefaults": {
           "line": {
            "color": "#2a3f5f"
           }
          },
          "ternary": {
           "aaxis": {
            "gridcolor": "white",
            "linecolor": "white",
            "ticks": ""
           },
           "baxis": {
            "gridcolor": "white",
            "linecolor": "white",
            "ticks": ""
           },
           "bgcolor": "#E5ECF6",
           "caxis": {
            "gridcolor": "white",
            "linecolor": "white",
            "ticks": ""
           }
          },
          "title": {
           "x": 0.05
          },
          "xaxis": {
           "automargin": true,
           "gridcolor": "white",
           "linecolor": "white",
           "ticks": "",
           "title": {
            "standoff": 15
           },
           "zerolinecolor": "white",
           "zerolinewidth": 2
          },
          "yaxis": {
           "automargin": true,
           "gridcolor": "white",
           "linecolor": "white",
           "ticks": "",
           "title": {
            "standoff": 15
           },
           "zerolinecolor": "white",
           "zerolinewidth": 2
          }
         }
        },
        "xaxis": {
         "gridcolor": "white",
         "linecolor": "white",
         "linewidth": 2,
         "rangeslider": {
          "visible": true
         },
         "showline": true
        },
        "yaxis": {
         "gridcolor": "white",
         "linecolor": "white",
         "linewidth": 2,
         "showline": true
        }
       }
      },
      "text/html": [
       "<div>                            <div id=\"325566b5-affc-4227-a890-23a4cf0a049d\" class=\"plotly-graph-div\" style=\"height:525px; width:100%;\"></div>            <script type=\"text/javascript\">                require([\"plotly\"], function(Plotly) {                    window.PLOTLYENV=window.PLOTLYENV || {};                                    if (document.getElementById(\"325566b5-affc-4227-a890-23a4cf0a049d\")) {                    Plotly.newPlot(                        \"325566b5-affc-4227-a890-23a4cf0a049d\",                        [{\"close\":[260.5979919433594,255.49200439453125,253.17999267578125,245.02200317382812,243.67599487304688,236.07200622558594,236.552001953125,236.1529998779297,224.58700561523438,219.15899658203125,223.83299255371094,228.572998046875,222.8820037841797,223.3560028076172,222.60000610351562,224.62600708007812,235.2689971923828,234.17599487304688,236.46200561523438,231.26800537109375,226.38999938964844,219.42999267578125,229.28599548339844,225.85499572753906,225.80799865722656,236.14500427246094,232.07899475097656,234.92999267578125,240.35800170898438,239.01800537109375,236.12100219726562,229.78199768066406,237.33399963378906,243.86300659179688,241.83200073242188,240.29600524902344,242.1580047607422,241.11199951171875,236.3769989013672,236.9290008544922,237.60499572753906,236.1529998779297,236.802001953125,233.1280059814453,231.94700622558594,234.01800537109375,235.343994140625,240.34800720214844,238.8719940185547,240.9530029296875,237.11000061035156,237.11599731445312,237.2830047607422,237.4080047607422,237.0959930419922,233.34500122070312,230.19000244140625,222.92599487304688,225.80299377441406,225.87399291992188,224.32400512695312,224.95199584960938,225.61900329589844,222.88099670410156,228.48899841308594,229.04800415039062,228.80299377441406,229.7050018310547,229.98199462890625,232.40199279785156,233.54299926757812,236.822998046875,250.89500427246094,249.28399658203125,249.0070037841797,244.6060028076172,245.21200561523438,243.94400024414062,246.99000549316406,244.29600524902344,240.51499938964844,242.7989959716797,243.593994140625,250.99000549316406,249.01100158691406,257.0639953613281,263.0719909667969,258.6210021972656,255.41200256347656,256.33599853515625,260.885986328125,271.9129943847656,269.0299987792969,266.2070007324219,270.7850036621094,269.2279968261719,284.8940124511719,293.114990234375,310.86700439453125,292.0539855957031],\"decreasing\":{\"line\":{\"color\":\"red\"}},\"high\":[260.67498779296875,261.7980041503906,255.80499267578125,253.8470001220703,246.1179962158203,243.69400024414062,239.53700256347656,237.72799682617188,236.93499755859375,224.9759979248047,223.83299255371094,229.6719970703125,228.906005859375,224.3159942626953,226.35299682617188,226.3509979248047,235.2689971923828,237.90899658203125,236.47500610351562,236.30499267578125,232.56100463867188,226.94400024414062,233.30499267578125,229.4949951171875,227.0399932861328,239.56300354003906,238.96600341796875,235.7270050048828,243.24000549316406,242.63800048828125,239.20399475097656,236.45399475097656,239.10499572753906,246.27499389648438,247.8040008544922,244.0679931640625,244.27000427246094,242.88099670410156,243.70399475097656,237.7989959716797,238.7530059814453,237.69700622558594,238.02499389648438,237.2100067138672,234.1510009765625,234.68299865722656,236.24200439453125,240.968994140625,241.02499389648438,241.97799682617188,241.02099609375,238.24200439453125,238.63600158691406,237.82400512695312,237.52200317382812,237.09300231933594,233.2519989013672,231.71299743652344,226.41600036621094,227.4040069580078,226.58099365234375,225.96800231933594,225.718994140625,226.19400024414062,229.46400451660156,230.95399475097656,229.78199768066406,230.28700256347656,231.0570068359375,232.65199279785156,234.85800170898438,237.83599853515625,251.74200439453125,256.8529968261719,252.10800170898438,250.9770050048828,245.8280029296875,245.2239990234375,247.91700744628906,247.3040008544922,244.34100341796875,243.33200073242188,243.74899291992188,251.33900451660156,251.1719970703125,257.1730041503906,267.86700439453125,265.1719970703125,261.6310119628906,257.0769958496094,261.4570007324219,274.5060119628906,277.4219970703125,271.34100341796875,272.97100830078125,272.3349914550781,294.59100341796875,298.5060119628906,314.3940124511719,310.947998046875],\"increasing\":{\"line\":{\"color\":\"green\"}},\"low\":[251.94200134277344,254.5749969482422,252.2050018310547,244.21499633789062,239.39999389648438,232.77099609375,234.1750030517578,233.4949951171875,221.99600219726562,216.322998046875,218.6490020751953,223.91700744628906,221.94200134277344,220.87600708007812,222.3730010986328,221.9770050048828,224.30099487304688,233.4759979248047,233.19900512695312,229.93299865722656,226.33700561523438,214.87399291992188,218.0229949951172,223.06900024414062,223.42999267578125,224.9929962158203,232.07899475097656,232.34100341796875,234.08299255371094,237.80999755859375,232.0540008544922,229.2310028076172,228.572998046875,236.2740020751953,239.63900756835938,238.8489990234375,239.37600708007812,240.0989990234375,235.0449981689453,234.0570068359375,236.7949981689453,235.2949981689453,236.00999450683594,232.4600067138672,231.81700134277344,231.8419952392578,233.8350067138672,235.05999755859375,238.6909942626953,238.81100463867188,236.63699340820312,235.69200134277344,236.69500732421875,236.65199279785156,235.7310028076172,232.04600524902344,229.54200744628906,221.29600524902344,222.41900634765625,223.92999267578125,224.0540008544922,223.1790008544922,224.37899780273438,222.65199279785156,222.83900451660156,227.9290008544922,228.00999450683594,228.76699829101562,229.31300354003906,229.2100067138672,232.00399780273438,233.4219970703125,236.1219940185547,246.4759979248047,244.1269989013672,243.78700256347656,240.6269989013672,241.8820037841797,243.7790069580078,243.13299560546875,240.51499938964844,240.36500549316406,241.55299377441406,243.11700439453125,247.4340057373047,248.58099365234375,255.9459991455078,255.7740020751953,254.11599731445312,253.5050048828125,254.1999969482422,258.70098876953125,267.6000061035156,264.8320007324219,264.385986328125,267.08599853515625,268.802001953125,283.5299987792969,292.5050048828125,281.010986328125],\"open\":[253.76100158691406,260.72100830078125,255.2740020751953,253.06399536132812,244.75100708007812,243.69400024414062,236.01600646972656,236.53500366210938,235.9499969482422,224.75900268554688,219.072998046875,223.91700744628906,228.5749969482422,222.85299682617188,223.45599365234375,222.61199951171875,224.6199951171875,235.6020050048828,234.05299377441406,235.97000122070312,231.23500061035156,226.41000366210938,219.4290008544922,228.968994140625,225.59100341796875,225.6929931640625,235.93899536132812,232.34100341796875,234.8800048828125,240.3560028076172,238.8520050048828,236.24899291992188,229.66200256347656,237.20399475097656,243.7689971923828,241.72900390625,240.2989959716797,242.14500427246094,241.3979949951172,236.21400451660156,236.9550018310547,237.6439971923828,236.00999450683594,236.88699340820312,233.03700256347656,231.88999938964844,234.01600646972656,235.3209991455078,240.28599548339844,238.9759979248047,240.927001953125,237.10400390625,237.06500244140625,237.2570037841797,237.3769989013672,237.0919952392578,233.13499450683594,230.23300170898438,222.8939971923828,225.73599243164062,225.77200317382812,224.1540069580078,225.0050048828125,225.5959930419922,222.87899780273438,228.53799438476562,228.9949951171875,228.85499572753906,229.7050018310547,229.9199981689453,232.44200134277344,233.4219970703125,236.76499938964844,250.822998046875,249.42799377441406,249.04299926757812,244.52999877929688,245.10000610351562,243.968994140625,246.927001953125,244.28199768066406,240.36500549316406,242.60400390625,243.5489959716797,250.9550018310547,248.7209930419922,257.0360107421875,263.3450012207031,258.552001953125,255.45899963378906,256.4909973144531,260.80499267578125,271.1080017089844,269.9630126953125,265.98199462890625,270.8269958496094,269.156005859375,284.8800048828125,293.1400146484375,310.8269958496094],\"x\":[\"2015-04-05T00:00:00\",\"2015-04-06T00:00:00\",\"2015-04-07T00:00:00\",\"2015-04-08T00:00:00\",\"2015-04-09T00:00:00\",\"2015-04-10T00:00:00\",\"2015-04-11T00:00:00\",\"2015-04-12T00:00:00\",\"2015-04-13T00:00:00\",\"2015-04-14T00:00:00\",\"2015-04-15T00:00:00\",\"2015-04-16T00:00:00\",\"2015-04-17T00:00:00\",\"2015-04-18T00:00:00\",\"2015-04-19T00:00:00\",\"2015-04-20T00:00:00\",\"2015-04-21T00:00:00\",\"2015-04-22T00:00:00\",\"2015-04-23T00:00:00\",\"2015-04-24T00:00:00\",\"2015-04-25T00:00:00\",\"2015-04-26T00:00:00\",\"2015-04-27T00:00:00\",\"2015-04-28T00:00:00\",\"2015-04-29T00:00:00\",\"2015-04-30T00:00:00\",\"2015-05-01T00:00:00\",\"2015-05-02T00:00:00\",\"2015-05-03T00:00:00\",\"2015-05-04T00:00:00\",\"2015-05-05T00:00:00\",\"2015-05-06T00:00:00\",\"2015-05-07T00:00:00\",\"2015-05-08T00:00:00\",\"2015-05-09T00:00:00\",\"2015-05-10T00:00:00\",\"2015-05-11T00:00:00\",\"2015-05-12T00:00:00\",\"2015-05-13T00:00:00\",\"2015-05-14T00:00:00\",\"2015-05-15T00:00:00\",\"2015-05-16T00:00:00\",\"2015-05-17T00:00:00\",\"2015-05-18T00:00:00\",\"2015-05-19T00:00:00\",\"2015-05-20T00:00:00\",\"2015-05-21T00:00:00\",\"2015-05-22T00:00:00\",\"2015-05-23T00:00:00\",\"2015-05-24T00:00:00\",\"2015-05-25T00:00:00\",\"2015-05-26T00:00:00\",\"2015-05-27T00:00:00\",\"2015-05-28T00:00:00\",\"2015-05-29T00:00:00\",\"2015-05-30T00:00:00\",\"2015-05-31T00:00:00\",\"2015-06-01T00:00:00\",\"2015-06-02T00:00:00\",\"2015-06-03T00:00:00\",\"2015-06-04T00:00:00\",\"2015-06-05T00:00:00\",\"2015-06-06T00:00:00\",\"2015-06-07T00:00:00\",\"2015-06-08T00:00:00\",\"2015-06-09T00:00:00\",\"2015-06-10T00:00:00\",\"2015-06-11T00:00:00\",\"2015-06-12T00:00:00\",\"2015-06-13T00:00:00\",\"2015-06-14T00:00:00\",\"2015-06-15T00:00:00\",\"2015-06-16T00:00:00\",\"2015-06-17T00:00:00\",\"2015-06-18T00:00:00\",\"2015-06-19T00:00:00\",\"2015-06-20T00:00:00\",\"2015-06-21T00:00:00\",\"2015-06-22T00:00:00\",\"2015-06-23T00:00:00\",\"2015-06-24T00:00:00\",\"2015-06-25T00:00:00\",\"2015-06-26T00:00:00\",\"2015-06-27T00:00:00\",\"2015-06-28T00:00:00\",\"2015-06-29T00:00:00\",\"2015-06-30T00:00:00\",\"2015-07-01T00:00:00\",\"2015-07-02T00:00:00\",\"2015-07-03T00:00:00\",\"2015-07-04T00:00:00\",\"2015-07-05T00:00:00\",\"2015-07-06T00:00:00\",\"2015-07-07T00:00:00\",\"2015-07-08T00:00:00\",\"2015-07-09T00:00:00\",\"2015-07-10T00:00:00\",\"2015-07-11T00:00:00\",\"2015-07-12T00:00:00\",\"2015-07-13T00:00:00\"],\"type\":\"candlestick\"},{\"line\":{\"color\":\"green\",\"width\":3},\"name\":\"SUPPORT\",\"x\":[\"2015-04-27T00:00:00\",\"2015-04-28T00:00:00\",\"2015-04-29T00:00:00\",\"2015-04-30T00:00:00\",\"2015-05-01T00:00:00\",\"2015-05-02T00:00:00\",\"2015-05-03T00:00:00\",\"2015-05-04T00:00:00\",\"2015-05-05T00:00:00\",\"2015-05-06T00:00:00\",\"2015-05-07T00:00:00\",\"2015-05-08T00:00:00\",\"2015-05-09T00:00:00\",\"2015-05-10T00:00:00\",\"2015-05-11T00:00:00\",\"2015-05-12T00:00:00\",\"2015-05-13T00:00:00\",\"2015-05-14T00:00:00\",\"2015-05-15T00:00:00\",\"2015-05-16T00:00:00\",\"2015-05-17T00:00:00\",\"2015-05-18T00:00:00\",\"2015-05-19T00:00:00\",\"2015-05-20T00:00:00\",\"2015-05-21T00:00:00\",\"2015-05-22T00:00:00\",\"2015-05-23T00:00:00\",\"2015-05-24T00:00:00\",\"2015-05-25T00:00:00\",\"2015-05-26T00:00:00\",\"2015-05-27T00:00:00\",\"2015-05-28T00:00:00\",\"2015-05-29T00:00:00\",\"2015-05-30T00:00:00\",\"2015-05-31T00:00:00\",\"2015-06-01T00:00:00\",\"2015-06-02T00:00:00\",\"2015-06-03T00:00:00\",\"2015-06-04T00:00:00\",\"2015-06-05T00:00:00\",\"2015-06-06T00:00:00\",\"2015-06-07T00:00:00\",\"2015-06-08T00:00:00\",\"2015-06-09T00:00:00\",\"2015-06-10T00:00:00\",\"2015-06-11T00:00:00\",\"2015-06-12T00:00:00\",\"2015-06-13T00:00:00\",\"2015-06-14T00:00:00\",\"2015-06-15T00:00:00\",\"2015-06-16T00:00:00\",\"2015-06-17T00:00:00\",\"2015-06-18T00:00:00\",\"2015-06-19T00:00:00\",\"2015-06-20T00:00:00\",\"2015-06-21T00:00:00\",\"2015-06-22T00:00:00\",\"2015-06-23T00:00:00\",\"2015-06-24T00:00:00\",\"2015-06-25T00:00:00\",\"2015-06-26T00:00:00\",\"2015-06-27T00:00:00\",\"2015-06-28T00:00:00\",\"2015-06-29T00:00:00\",\"2015-06-30T00:00:00\",\"2015-07-01T00:00:00\",\"2015-07-02T00:00:00\",\"2015-07-03T00:00:00\",\"2015-07-04T00:00:00\",\"2015-07-05T00:00:00\",\"2015-07-06T00:00:00\",\"2015-07-07T00:00:00\",\"2015-07-08T00:00:00\",\"2015-07-09T00:00:00\",\"2015-07-10T00:00:00\",\"2015-07-11T00:00:00\",\"2015-07-12T00:00:00\",\"2015-07-13T00:00:00\"],\"y\":[214.76253098707932,214.65106905423676,214.5396071213942,214.42814518855164,214.31668325570908,214.20522132286652,214.09375939002396,213.9822974571814,213.87083552433884,213.75937359149628,213.64791165865373,213.53644972581117,213.4249877929686,213.31352586012605,213.2020639272835,213.09060199444093,212.97914006159837,212.8676781287558,212.75621619591325,212.6447542630707,212.53329233022814,212.42183039738558,212.31036846454302,212.19890653170046,212.0874445988579,211.97598266601534,211.86452073317278,211.75305880033022,211.64159686748766,211.5301349346451,211.41867300180255,211.30721106896,211.19574913611743,211.08428720327487,210.9728252704323,210.86136333758975,210.7499014047472,210.63843947190463,210.52697753906207,210.41551560621951,210.30405367337696,210.1925917405344,210.08112980769184,209.96966787484928,209.85820594200672,209.74674400916416,209.6352820763216,209.52382014347904,209.41235821063648,209.30089627779392,209.18943434495137,209.0779724121088,208.96651047926625,208.8550485464237,208.74358661358113,208.63212468073857,208.520662747896,208.40920081505345,208.2977388822109,208.18627694936833,208.07481501652578,207.96335308368322,207.85189115084066,207.7404292179981,207.62896728515554,207.51750535231298,207.40604341947042,207.29458148662786,207.1831195537853,207.07165762094274,206.96019568810019,206.84873375525763,206.73727182241507,206.6258098895725,206.51434795672995,206.4028860238874,206.29142409104483,206.17996215820227],\"type\":\"scatter\"},{\"line\":{\"color\":\"red\",\"width\":3},\"name\":\"RESISTANCE\",\"x\":[\"2015-07-01T00:00:00\",\"2015-07-02T00:00:00\",\"2015-07-03T00:00:00\",\"2015-07-04T00:00:00\",\"2015-07-05T00:00:00\",\"2015-07-06T00:00:00\",\"2015-07-07T00:00:00\",\"2015-07-08T00:00:00\",\"2015-07-09T00:00:00\",\"2015-07-10T00:00:00\",\"2015-07-11T00:00:00\",\"2015-07-12T00:00:00\",\"2015-07-13T00:00:00\"],\"y\":[269.2320033482143,270.5970023018973,271.96200125558033,273.32700020926336,274.6919991629464,276.0569981166294,277.42199707031244,278.78699602399547,280.1519949776785,281.5169939313615,282.88199288504455,284.2469918387276,285.6119907924106],\"type\":\"scatter\"},{\"marker\":{\"color\":\"Orange\",\"size\":5},\"mode\":\"markers\",\"name\":\"Buy\",\"x\":[\"2015-04-05T00:00:00\",\"2015-04-06T00:00:00\",\"2015-04-07T00:00:00\",\"2015-04-08T00:00:00\",\"2015-04-09T00:00:00\",\"2015-04-10T00:00:00\",\"2015-04-11T00:00:00\",\"2015-04-12T00:00:00\",\"2015-04-13T00:00:00\",\"2015-04-14T00:00:00\",\"2015-04-15T00:00:00\",\"2015-04-16T00:00:00\",\"2015-04-17T00:00:00\",\"2015-04-18T00:00:00\",\"2015-04-19T00:00:00\",\"2015-04-20T00:00:00\",\"2015-04-21T00:00:00\",\"2015-04-22T00:00:00\",\"2015-04-23T00:00:00\",\"2015-04-24T00:00:00\",\"2015-04-25T00:00:00\",\"2015-04-26T00:00:00\",\"2015-04-27T00:00:00\",\"2015-04-28T00:00:00\",\"2015-04-29T00:00:00\",\"2015-04-30T00:00:00\",\"2015-05-01T00:00:00\",\"2015-05-02T00:00:00\",\"2015-05-03T00:00:00\",\"2015-05-04T00:00:00\",\"2015-05-05T00:00:00\",\"2015-05-06T00:00:00\",\"2015-05-07T00:00:00\",\"2015-05-08T00:00:00\",\"2015-05-09T00:00:00\",\"2015-05-10T00:00:00\",\"2015-05-11T00:00:00\",\"2015-05-12T00:00:00\",\"2015-05-13T00:00:00\",\"2015-05-14T00:00:00\",\"2015-05-15T00:00:00\",\"2015-05-16T00:00:00\",\"2015-05-17T00:00:00\",\"2015-05-18T00:00:00\",\"2015-05-19T00:00:00\",\"2015-05-20T00:00:00\",\"2015-05-21T00:00:00\",\"2015-05-22T00:00:00\",\"2015-05-23T00:00:00\",\"2015-05-24T00:00:00\",\"2015-05-25T00:00:00\",\"2015-05-26T00:00:00\",\"2015-05-27T00:00:00\",\"2015-05-28T00:00:00\",\"2015-05-29T00:00:00\",\"2015-05-30T00:00:00\",\"2015-05-31T00:00:00\",\"2015-06-01T00:00:00\",\"2015-06-02T00:00:00\",\"2015-06-03T00:00:00\",\"2015-06-04T00:00:00\",\"2015-06-05T00:00:00\",\"2015-06-06T00:00:00\",\"2015-06-07T00:00:00\",\"2015-06-08T00:00:00\",\"2015-06-09T00:00:00\",\"2015-06-10T00:00:00\",\"2015-06-11T00:00:00\",\"2015-06-12T00:00:00\",\"2015-06-13T00:00:00\",\"2015-06-14T00:00:00\",\"2015-06-15T00:00:00\",\"2015-06-16T00:00:00\",\"2015-06-17T00:00:00\",\"2015-06-18T00:00:00\",\"2015-06-19T00:00:00\",\"2015-06-20T00:00:00\",\"2015-06-21T00:00:00\",\"2015-06-22T00:00:00\",\"2015-06-23T00:00:00\",\"2015-06-24T00:00:00\",\"2015-06-25T00:00:00\",\"2015-06-26T00:00:00\",\"2015-06-27T00:00:00\",\"2015-06-28T00:00:00\",\"2015-06-29T00:00:00\",\"2015-06-30T00:00:00\",\"2015-07-01T00:00:00\",\"2015-07-02T00:00:00\",\"2015-07-03T00:00:00\",\"2015-07-04T00:00:00\",\"2015-07-05T00:00:00\",\"2015-07-06T00:00:00\",\"2015-07-07T00:00:00\",\"2015-07-08T00:00:00\",\"2015-07-09T00:00:00\",\"2015-07-10T00:00:00\",\"2015-07-11T00:00:00\",\"2015-07-12T00:00:00\",\"2015-07-13T00:00:00\"],\"y\":[232.77099609375,216.322998046875,214.87399291992188,228.572998046875,234.0570068359375,231.81700134277344,235.69200134277344,221.29600524902344,222.65199279785156,240.6269989013672,240.36500549316406,253.5050048828125],\"type\":\"scatter\"}],                        {\"template\":{\"data\":{\"histogram2dcontour\":[{\"type\":\"histogram2dcontour\",\"colorbar\":{\"outlinewidth\":0,\"ticks\":\"\"},\"colorscale\":[[0.0,\"#0d0887\"],[0.1111111111111111,\"#46039f\"],[0.2222222222222222,\"#7201a8\"],[0.3333333333333333,\"#9c179e\"],[0.4444444444444444,\"#bd3786\"],[0.5555555555555556,\"#d8576b\"],[0.6666666666666666,\"#ed7953\"],[0.7777777777777778,\"#fb9f3a\"],[0.8888888888888888,\"#fdca26\"],[1.0,\"#f0f921\"]]}],\"choropleth\":[{\"type\":\"choropleth\",\"colorbar\":{\"outlinewidth\":0,\"ticks\":\"\"}}],\"histogram2d\":[{\"type\":\"histogram2d\",\"colorbar\":{\"outlinewidth\":0,\"ticks\":\"\"},\"colorscale\":[[0.0,\"#0d0887\"],[0.1111111111111111,\"#46039f\"],[0.2222222222222222,\"#7201a8\"],[0.3333333333333333,\"#9c179e\"],[0.4444444444444444,\"#bd3786\"],[0.5555555555555556,\"#d8576b\"],[0.6666666666666666,\"#ed7953\"],[0.7777777777777778,\"#fb9f3a\"],[0.8888888888888888,\"#fdca26\"],[1.0,\"#f0f921\"]]}],\"heatmap\":[{\"type\":\"heatmap\",\"colorbar\":{\"outlinewidth\":0,\"ticks\":\"\"},\"colorscale\":[[0.0,\"#0d0887\"],[0.1111111111111111,\"#46039f\"],[0.2222222222222222,\"#7201a8\"],[0.3333333333333333,\"#9c179e\"],[0.4444444444444444,\"#bd3786\"],[0.5555555555555556,\"#d8576b\"],[0.6666666666666666,\"#ed7953\"],[0.7777777777777778,\"#fb9f3a\"],[0.8888888888888888,\"#fdca26\"],[1.0,\"#f0f921\"]]}],\"heatmapgl\":[{\"type\":\"heatmapgl\",\"colorbar\":{\"outlinewidth\":0,\"ticks\":\"\"},\"colorscale\":[[0.0,\"#0d0887\"],[0.1111111111111111,\"#46039f\"],[0.2222222222222222,\"#7201a8\"],[0.3333333333333333,\"#9c179e\"],[0.4444444444444444,\"#bd3786\"],[0.5555555555555556,\"#d8576b\"],[0.6666666666666666,\"#ed7953\"],[0.7777777777777778,\"#fb9f3a\"],[0.8888888888888888,\"#fdca26\"],[1.0,\"#f0f921\"]]}],\"contourcarpet\":[{\"type\":\"contourcarpet\",\"colorbar\":{\"outlinewidth\":0,\"ticks\":\"\"}}],\"contour\":[{\"type\":\"contour\",\"colorbar\":{\"outlinewidth\":0,\"ticks\":\"\"},\"colorscale\":[[0.0,\"#0d0887\"],[0.1111111111111111,\"#46039f\"],[0.2222222222222222,\"#7201a8\"],[0.3333333333333333,\"#9c179e\"],[0.4444444444444444,\"#bd3786\"],[0.5555555555555556,\"#d8576b\"],[0.6666666666666666,\"#ed7953\"],[0.7777777777777778,\"#fb9f3a\"],[0.8888888888888888,\"#fdca26\"],[1.0,\"#f0f921\"]]}],\"surface\":[{\"type\":\"surface\",\"colorbar\":{\"outlinewidth\":0,\"ticks\":\"\"},\"colorscale\":[[0.0,\"#0d0887\"],[0.1111111111111111,\"#46039f\"],[0.2222222222222222,\"#7201a8\"],[0.3333333333333333,\"#9c179e\"],[0.4444444444444444,\"#bd3786\"],[0.5555555555555556,\"#d8576b\"],[0.6666666666666666,\"#ed7953\"],[0.7777777777777778,\"#fb9f3a\"],[0.8888888888888888,\"#fdca26\"],[1.0,\"#f0f921\"]]}],\"mesh3d\":[{\"type\":\"mesh3d\",\"colorbar\":{\"outlinewidth\":0,\"ticks\":\"\"}}],\"scatter\":[{\"fillpattern\":{\"fillmode\":\"overlay\",\"size\":10,\"solidity\":0.2},\"type\":\"scatter\"}],\"parcoords\":[{\"type\":\"parcoords\",\"line\":{\"colorbar\":{\"outlinewidth\":0,\"ticks\":\"\"}}}],\"scatterpolargl\":[{\"type\":\"scatterpolargl\",\"marker\":{\"colorbar\":{\"outlinewidth\":0,\"ticks\":\"\"}}}],\"bar\":[{\"error_x\":{\"color\":\"#2a3f5f\"},\"error_y\":{\"color\":\"#2a3f5f\"},\"marker\":{\"line\":{\"color\":\"#E5ECF6\",\"width\":0.5},\"pattern\":{\"fillmode\":\"overlay\",\"size\":10,\"solidity\":0.2}},\"type\":\"bar\"}],\"scattergeo\":[{\"type\":\"scattergeo\",\"marker\":{\"colorbar\":{\"outlinewidth\":0,\"ticks\":\"\"}}}],\"scatterpolar\":[{\"type\":\"scatterpolar\",\"marker\":{\"colorbar\":{\"outlinewidth\":0,\"ticks\":\"\"}}}],\"histogram\":[{\"marker\":{\"pattern\":{\"fillmode\":\"overlay\",\"size\":10,\"solidity\":0.2}},\"type\":\"histogram\"}],\"scattergl\":[{\"type\":\"scattergl\",\"marker\":{\"colorbar\":{\"outlinewidth\":0,\"ticks\":\"\"}}}],\"scatter3d\":[{\"type\":\"scatter3d\",\"line\":{\"colorbar\":{\"outlinewidth\":0,\"ticks\":\"\"}},\"marker\":{\"colorbar\":{\"outlinewidth\":0,\"ticks\":\"\"}}}],\"scattermapbox\":[{\"type\":\"scattermapbox\",\"marker\":{\"colorbar\":{\"outlinewidth\":0,\"ticks\":\"\"}}}],\"scatterternary\":[{\"type\":\"scatterternary\",\"marker\":{\"colorbar\":{\"outlinewidth\":0,\"ticks\":\"\"}}}],\"scattercarpet\":[{\"type\":\"scattercarpet\",\"marker\":{\"colorbar\":{\"outlinewidth\":0,\"ticks\":\"\"}}}],\"carpet\":[{\"aaxis\":{\"endlinecolor\":\"#2a3f5f\",\"gridcolor\":\"white\",\"linecolor\":\"white\",\"minorgridcolor\":\"white\",\"startlinecolor\":\"#2a3f5f\"},\"baxis\":{\"endlinecolor\":\"#2a3f5f\",\"gridcolor\":\"white\",\"linecolor\":\"white\",\"minorgridcolor\":\"white\",\"startlinecolor\":\"#2a3f5f\"},\"type\":\"carpet\"}],\"table\":[{\"cells\":{\"fill\":{\"color\":\"#EBF0F8\"},\"line\":{\"color\":\"white\"}},\"header\":{\"fill\":{\"color\":\"#C8D4E3\"},\"line\":{\"color\":\"white\"}},\"type\":\"table\"}],\"barpolar\":[{\"marker\":{\"line\":{\"color\":\"#E5ECF6\",\"width\":0.5},\"pattern\":{\"fillmode\":\"overlay\",\"size\":10,\"solidity\":0.2}},\"type\":\"barpolar\"}],\"pie\":[{\"automargin\":true,\"type\":\"pie\"}]},\"layout\":{\"autotypenumbers\":\"strict\",\"colorway\":[\"#636efa\",\"#EF553B\",\"#00cc96\",\"#ab63fa\",\"#FFA15A\",\"#19d3f3\",\"#FF6692\",\"#B6E880\",\"#FF97FF\",\"#FECB52\"],\"font\":{\"color\":\"#2a3f5f\"},\"hovermode\":\"closest\",\"hoverlabel\":{\"align\":\"left\"},\"paper_bgcolor\":\"white\",\"plot_bgcolor\":\"#E5ECF6\",\"polar\":{\"bgcolor\":\"#E5ECF6\",\"angularaxis\":{\"gridcolor\":\"white\",\"linecolor\":\"white\",\"ticks\":\"\"},\"radialaxis\":{\"gridcolor\":\"white\",\"linecolor\":\"white\",\"ticks\":\"\"}},\"ternary\":{\"bgcolor\":\"#E5ECF6\",\"aaxis\":{\"gridcolor\":\"white\",\"linecolor\":\"white\",\"ticks\":\"\"},\"baxis\":{\"gridcolor\":\"white\",\"linecolor\":\"white\",\"ticks\":\"\"},\"caxis\":{\"gridcolor\":\"white\",\"linecolor\":\"white\",\"ticks\":\"\"}},\"coloraxis\":{\"colorbar\":{\"outlinewidth\":0,\"ticks\":\"\"}},\"colorscale\":{\"sequential\":[[0.0,\"#0d0887\"],[0.1111111111111111,\"#46039f\"],[0.2222222222222222,\"#7201a8\"],[0.3333333333333333,\"#9c179e\"],[0.4444444444444444,\"#bd3786\"],[0.5555555555555556,\"#d8576b\"],[0.6666666666666666,\"#ed7953\"],[0.7777777777777778,\"#fb9f3a\"],[0.8888888888888888,\"#fdca26\"],[1.0,\"#f0f921\"]],\"sequentialminus\":[[0.0,\"#0d0887\"],[0.1111111111111111,\"#46039f\"],[0.2222222222222222,\"#7201a8\"],[0.3333333333333333,\"#9c179e\"],[0.4444444444444444,\"#bd3786\"],[0.5555555555555556,\"#d8576b\"],[0.6666666666666666,\"#ed7953\"],[0.7777777777777778,\"#fb9f3a\"],[0.8888888888888888,\"#fdca26\"],[1.0,\"#f0f921\"]],\"diverging\":[[0,\"#8e0152\"],[0.1,\"#c51b7d\"],[0.2,\"#de77ae\"],[0.3,\"#f1b6da\"],[0.4,\"#fde0ef\"],[0.5,\"#f7f7f7\"],[0.6,\"#e6f5d0\"],[0.7,\"#b8e186\"],[0.8,\"#7fbc41\"],[0.9,\"#4d9221\"],[1,\"#276419\"]]},\"xaxis\":{\"gridcolor\":\"white\",\"linecolor\":\"white\",\"ticks\":\"\",\"title\":{\"standoff\":15},\"zerolinecolor\":\"white\",\"automargin\":true,\"zerolinewidth\":2},\"yaxis\":{\"gridcolor\":\"white\",\"linecolor\":\"white\",\"ticks\":\"\",\"title\":{\"standoff\":15},\"zerolinecolor\":\"white\",\"automargin\":true,\"zerolinewidth\":2},\"scene\":{\"xaxis\":{\"backgroundcolor\":\"#E5ECF6\",\"gridcolor\":\"white\",\"linecolor\":\"white\",\"showbackground\":true,\"ticks\":\"\",\"zerolinecolor\":\"white\",\"gridwidth\":2},\"yaxis\":{\"backgroundcolor\":\"#E5ECF6\",\"gridcolor\":\"white\",\"linecolor\":\"white\",\"showbackground\":true,\"ticks\":\"\",\"zerolinecolor\":\"white\",\"gridwidth\":2},\"zaxis\":{\"backgroundcolor\":\"#E5ECF6\",\"gridcolor\":\"white\",\"linecolor\":\"white\",\"showbackground\":true,\"ticks\":\"\",\"zerolinecolor\":\"white\",\"gridwidth\":2}},\"shapedefaults\":{\"line\":{\"color\":\"#2a3f5f\"}},\"annotationdefaults\":{\"arrowcolor\":\"#2a3f5f\",\"arrowhead\":0,\"arrowwidth\":1},\"geo\":{\"bgcolor\":\"white\",\"landcolor\":\"#E5ECF6\",\"subunitcolor\":\"white\",\"showland\":true,\"showlakes\":true,\"lakecolor\":\"white\"},\"title\":{\"x\":0.05},\"mapbox\":{\"style\":\"light\"}}},\"xaxis\":{\"rangeslider\":{\"visible\":true},\"showline\":true,\"linewidth\":2,\"linecolor\":\"white\",\"gridcolor\":\"white\"},\"margin\":{\"l\":0,\"b\":0,\"r\":0,\"t\":0},\"paper_bgcolor\":\"black\",\"plot_bgcolor\":\"black\",\"yaxis\":{\"showline\":true,\"linewidth\":2,\"linecolor\":\"white\",\"gridcolor\":\"white\"}},                        {\"responsive\": true}                    ).then(function(){\n",
       "                            \n",
       "var gd = document.getElementById('325566b5-affc-4227-a890-23a4cf0a049d');\n",
       "var x = new MutationObserver(function (mutations, observer) {{\n",
       "        var display = window.getComputedStyle(gd).display;\n",
       "        if (!display || display === 'none') {{\n",
       "            console.log([gd, 'removed!']);\n",
       "            Plotly.purge(gd);\n",
       "            observer.disconnect();\n",
       "        }}\n",
       "}});\n",
       "\n",
       "// Listen for the removal of the full notebook cells\n",
       "var notebookContainer = gd.closest('#notebook-container');\n",
       "if (notebookContainer) {{\n",
       "    x.observe(notebookContainer, {childList: true});\n",
       "}}\n",
       "\n",
       "// Listen for the clearing of the current output cell\n",
       "var outputEl = gd.closest('.output');\n",
       "if (outputEl) {{\n",
       "    x.observe(outputEl, {childList: true});\n",
       "}}\n",
       "\n",
       "                        })                };                });            </script>        </div>"
      ]
     },
     "metadata": {},
     "output_type": "display_data"
    }
   ],
   "source": [
    "# with indicator\n",
    "\n",
    "import plotly.graph_objects as go\n",
    "fig = go.Figure(data=[go.Candlestick(x=df.index,\n",
    "                                    open=df['Open'],\n",
    "                                    high=df['High'],\n",
    "                                    low=df['Low'],\n",
    "                                    close=df['Close'],\n",
    "                                    increasing_line_color='green',\n",
    "                                    decreasing_line_color='red'),\n",
    "                                    go.Scatter(x=support_today.index, y=support_today['support'], line=dict(color=\"green\", width=3), name=\"SUPPORT\"),\n",
    "                                    go.Scatter(x=today.index, y=today['resistance'], line=dict(color='red', width=3), name=\"RESISTANCE\"),\n",
    "                                    go.Scatter(x=df.index, y=supports, mode=\"markers\", marker=dict(size=5, color=\"Orange\"), name=\"Buy\")])\n",
    "\n",
    "fig.update(layout_xaxis_rangeslider_visible=True)\n",
    "fig.update_layout(paper_bgcolor=\"black\", plot_bgcolor=\"black\", margin_l=0, margin_b=0, margin_r=0, margin_t=0)\n",
    "fig.update_xaxes(showline=True, linewidth=2, linecolor='white', gridcolor='white')\n",
    "fig.update_yaxes(showline=True, linewidth=2, linecolor='white', gridcolor='white')\n",
    "fig.show()"
   ]
  },
  {
   "attachments": {},
   "cell_type": "markdown",
   "metadata": {},
   "source": [
    "POLARS\n",
    "update row"
   ]
  }
 ],
 "metadata": {
  "kernelspec": {
   "display_name": "base",
   "language": "python",
   "name": "python3"
  },
  "language_info": {
   "codemirror_mode": {
    "name": "ipython",
    "version": 3
   },
   "file_extension": ".py",
   "mimetype": "text/x-python",
   "name": "python",
   "nbconvert_exporter": "python",
   "pygments_lexer": "ipython3",
   "version": "3.9.12"
  },
  "orig_nbformat": 4
 },
 "nbformat": 4,
 "nbformat_minor": 2
}
