{
 "cells": [
  {
   "cell_type": "markdown",
   "id": "010bf287-029d-442e-b075-71c7b19d9193",
   "metadata": {},
   "source": [
    "import os\n",
    "from binance.client import Client\n",
    "from binance import ThreadedWebsocketManager\n",
    "\n",
    "api_key = os.getenv('api_key')\n",
    "api_secret = os.getenv('api_secret')\n",
    "\n",
    "print('API_KEY=', api_key)\n",
    "print('API_SECRET=', api_secret)"
   ]
  }
 ],
 "metadata": {
  "kernelspec": {
   "display_name": "Python 3 (ipykernel)",
   "language": "python",
   "name": "python3"
  },
  "language_info": {
   "codemirror_mode": {
    "name": "ipython",
    "version": 3
   },
   "file_extension": ".py",
   "mimetype": "text/x-python",
   "name": "python",
   "nbconvert_exporter": "python",
   "pygments_lexer": "ipython3",
   "version": "3.9.12"
  }
 },
 "nbformat": 4,
 "nbformat_minor": 5
}
