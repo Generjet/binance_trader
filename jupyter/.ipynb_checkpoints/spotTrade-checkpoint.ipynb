{
 "cells": [
  {
   "cell_type": "code",
   "execution_count": 10,
   "id": "3983309d-34a6-4cbd-84b9-558e807788fb",
   "metadata": {},
   "outputs": [
    {
     "name": "stdout",
     "output_type": "stream",
     "text": [
      "API_KEY= bmzRgtEpKkAglP2Q1xe2QKpyWNNF2ecRlEbssmVuWNl4CBu12su6gzWeHCII1FIK\n",
      "API_SECRET= Pdy2552t9blcqvVIL6Qaw6j9keBtL0GG67oby7vGaQqzOWyBybKuEhszJfrLBb2M\n"
     ]
    }
   ],
   "source": [
    "from binance.spot import Spot\n",
    "import os\n",
    "import pandas as pd\n",
    "\n",
    "client = Spot()\n",
    "# GENERJET API KEY and SECRET\n",
    "API_KEY = os.getenv('api_key')\n",
    "API_SECRET = os.getenv('api_secret')\n",
    "print(\"API_KEY=\",API_KEY)\n",
    "print(\"API_SECRET=\", API_SECRET)\n",
    "\n",
    "# #Get server timestamp\n",
    "# print(client.time())\n",
    "# # Get klines of BTCUSDT at 1m interval\n",
    "# print(client.klines(\"BTCUSDT\", \"1m\"))\n",
    "# # Get last 10 klines of BNBUSDT at 1h interval\n",
    "# print(client.klines(\"BNBUSDT\", \"1h\", limit=10))\n",
    "\n",
    "# api key/secret are required for user data endpoints\n",
    "client = Spot(key=API_KEY, secret=API_SECRET)\n",
    "\n",
    "# Get account and balance information\n",
    "resultData = client.account()\n",
    "# print(resultData)"
   ]
  },
  {
   "cell_type": "code",
   "execution_count": 11,
   "id": "f9939823-0b74-4603-bf05-1b7f86762bd5",
   "metadata": {},
   "outputs": [],
   "source": [
    "balances = resultData['balances']\n",
    "# print(\"BALANCES\",balances)\n",
    "# print(\"RESULT \", resultData)\n",
    "\n",
    "df = pd.DataFrame(balances)\n",
    "print(df)"
   ]
  },
  {
   "cell_type": "code",
   "execution_count": null,
   "id": "06b01fd5-c8ff-49b2-8ea7-db005c5fa114",
   "metadata": {},
   "outputs": [],
   "source": []
  }
 ],
 "metadata": {
  "kernelspec": {
   "display_name": "Python 3 (ipykernel)",
   "language": "python",
   "name": "python3"
  },
  "language_info": {
   "codemirror_mode": {
    "name": "ipython",
    "version": 3
   },
   "file_extension": ".py",
   "mimetype": "text/x-python",
   "name": "python",
   "nbconvert_exporter": "python",
   "pygments_lexer": "ipython3",
   "version": "3.9.12"
  }
 },
 "nbformat": 4,
 "nbformat_minor": 5
}
