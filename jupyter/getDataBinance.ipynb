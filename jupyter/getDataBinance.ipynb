{
 "cells": [
  {
   "cell_type": "code",
   "execution_count": 3,
   "id": "385fbacb-082f-4ade-bc14-08a30c4b3e4a",
   "metadata": {},
   "outputs": [
    {
     "name": "stdout",
     "output_type": "stream",
     "text": [
      "API_KEY= bmzRgtEpKkAglP2Q1xe2QKpyWNNF2ecRlEbssmVuWNl4CBu12su6gzWeHCII1FIK\n",
      "API_SECRET= Pdy2552t9blcqvVIL6Qaw6j9keBtL0GG67oby7vGaQqzOWyBybKuEhszJfrLBb2M\n"
     ]
    }
   ],
   "source": [
    "import os\n",
    "from binance.client import Client\n",
    "from binance import ThreadedWebsocketManager\n",
    "\n",
    "api_key = os.getenv('bot_api_key')\n",
    "api_secret = os.getenv('bot_api_secret')\n",
    "\n",
    "print('API_KEY=', api_key)\n",
    "print('API_SECRET=', api_secret)"
   ]
  },
  {
   "cell_type": "code",
   "execution_count": null,
   "id": "a85e295b-cb33-49c8-a3c4-8fa1758b4fb4",
   "metadata": {},
   "outputs": [],
   "source": []
  }
 ],
 "metadata": {
  "kernelspec": {
   "display_name": "Python 3 (ipykernel)",
   "language": "python",
   "name": "python3"
  },
  "language_info": {
   "codemirror_mode": {
    "name": "ipython",
    "version": 3
   },
   "file_extension": ".py",
   "mimetype": "text/x-python",
   "name": "python",
   "nbconvert_exporter": "python",
   "pygments_lexer": "ipython3",
   "version": "3.9.12"
  }
 },
 "nbformat": 4,
 "nbformat_minor": 5
}
